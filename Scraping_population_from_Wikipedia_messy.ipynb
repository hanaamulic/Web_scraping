{
 "cells": [
  {
   "cell_type": "code",
   "execution_count": 80,
   "id": "8752b714-6f3f-457c-be56-974f660d4b89",
   "metadata": {},
   "outputs": [],
   "source": [
    "# 1. import libraries\n",
    "from bs4 import BeautifulSoup\n",
    "import requests\n",
    "import pandas as pd\n",
    "import re\n",
    "import time\n",
    "import unicodedata"
   ]
  },
  {
   "cell_type": "code",
   "execution_count": 81,
   "id": "79bc8732-7c11-48c0-9614-b3b7d0c9e114",
   "metadata": {},
   "outputs": [],
   "source": [
    "cities = [['Istanbul','TR'],['Moscow','RU'],['London','GB'],['Saint Petersburg','RU'],['Berlin','DE'],\n",
    "          ['Madrid','ES'],['Kyiv','UA'],['Rome','IT'],['Bucharest','RO'],['Paris','FR'],['Minsk','BY'],\n",
    "          ['Vienna','AT']]"
   ]
  },
  {
   "cell_type": "code",
   "execution_count": 32,
   "id": "0ff0cc97-80e8-4c28-8058-d315256e4966",
   "metadata": {},
   "outputs": [],
   "source": [
    "def get_city_population(city,country):\n",
    "    url = (\"https://en.wikipedia.org/wiki/\"+city) \n",
    "    response = requests.get(url)\n",
    "    time.sleep(2)                               #quick solution - I just added this in case of slow internet, it should be tested for 200 code but for this, it's okay\n",
    "    soup = BeautifulSoup(response.content, \"html.parser\")\n",
    "#     table_string = soup.find(text=re.compile('^Population\\Z'))           #Looking for any text between any tags (I used \\Z for end of string because $ includes \\n (end of line) too)\n",
    "    parent = soup.select_one('.mergedtoprow:-soup-contains(\"Population\")')#Looking for element with class = 'mergedtoprow' and contains string 'Population'\n",
    "\n",
    "#     parent = table_string.find_parent('tr')                              #data that we need is in several 'tr' elements that are siblings, and the string we found is child of the first one of those elements (that's why i am looking for it's parent)\n",
    "    description = ['City']\n",
    "    population = [f\"{city},{country}\"]\n",
    "    \n",
    "    population_string = parent.get_text(\"|\",strip='True')                # First 'tr' always contains 'Population' string, I've added | as separator for easier splitting since some contain only \n",
    "                                                                         #'Population', some have '[2]' as reference, some have actual number for population and it always comes as last\n",
    "    description.append(population_string.split('|')[0])                  #Taking first element after split will give me 'Population' string\n",
    "    population_string2 = population_string.split('|')[-1]                #Taking last element after split will give me either 'Population','[5]'-referencies or '234,567'-actual population\n",
    "    if(population_string2.startswith('[') | (population_string2 == 'Population')): #In case it gives me 'Population' or referencies\n",
    "        population.append('')                                            #I will just append empty string where population number should be\n",
    "    else:\n",
    "        population.append(population_string2)                            # If it gives me actual number, I append number\n",
    "\n",
    "    siblings = parent.next_siblings                                      # I am looking for all siblings of the first 'tr' element we found(the one with 'Population')\n",
    "    for sib in siblings:\n",
    "        if(sib['class'] != ['mergedrow']):                               #it is a long list but we only need the few ones after our first and they all have class='mergedrow'\n",
    "            break                                                        #as soon as loop comes into class='mergedtoprow' it will break, as we don't need those elements\n",
    "        for ch in sib.children:                                          #all 'tr' elements that we found have children that contain data we need \n",
    "            if(ch['class']==['infobox-label']):                          #'th' child with class= 'infobox-label' contains Description string (e.g. City, Estimate, Rural, density...)\n",
    "                temp = ch.get_text(strip='True').replace('\\xa0',' ').replace('•','')     #strip=True removes all whitespaces around text. Some unnecessary '\\xa0' striings were found so I just replaced them with ''\n",
    "                description.append(temp)                         \n",
    "            elif(ch['class']==['infobox-data']):                         #'th' child with class= 'infobox-data' contains Population string (e.g. 12,506,238 or some explanations for Ranks or density)\n",
    "                population.append(ch.get_text(strip='True').replace('\\xa0',' '))\n",
    "    population_table = pd.DataFrame({\"Description\":description,          #putting everything into table\n",
    "                       \"Population\":population\n",
    "                      })\n",
    "    return population_table                                              #returning table"
   ]
  },
  {
   "cell_type": "code",
   "execution_count": null,
   "id": "3e4e0d53-e9a7-4cda-a1fd-64e14a0c7722",
   "metadata": {},
   "outputs": [],
   "source": []
  },
  {
   "cell_type": "code",
   "execution_count": null,
   "id": "1e33fd60-74f8-4750-9c74-4ced5dc52bfa",
   "metadata": {},
   "outputs": [],
   "source": []
  },
  {
   "cell_type": "code",
   "execution_count": null,
   "id": "44b662ac-4bc0-4faf-931c-e0e9327ecf71",
   "metadata": {},
   "outputs": [],
   "source": []
  },
  {
   "cell_type": "code",
   "execution_count": 33,
   "id": "570918a7-864d-4f47-b492-81f0b167fa92",
   "metadata": {},
   "outputs": [],
   "source": [
    "population_tables = []\n",
    "for city in cities:\n",
    "    population_tables.append(get_city_population(city[0].replace(' ','_'),city[1]))"
   ]
  },
  {
   "cell_type": "code",
   "execution_count": 69,
   "id": "5cbfa58b-30dc-48de-a163-f682270aa54f",
   "metadata": {
    "tags": []
   },
   "outputs": [],
   "source": [
    "final_tables =[]\n",
    "for table in population_tables:\n",
    "    table = table.transpose().reset_index().rename(columns={'index':'Variable'})\n",
    "    table.columns = table.iloc[0]\n",
    "    table = table.iloc[1: , :]\n",
    "    table = table.drop('Description',axis=1)\n",
    "    final_tables.append(table)"
   ]
  },
  {
   "cell_type": "code",
   "execution_count": 71,
   "id": "5335d8f7-5603-4321-80e8-43d3be4b2049",
   "metadata": {},
   "outputs": [
    {
     "name": "stdout",
     "output_type": "stream",
     "text": [
      "0         City Population MegacityMetropolitan municipality           Rank  \\\n",
      "1  Istanbul,TR                                   15,462,452  1st in Turkey   \n",
      "\n",
      "0       Urban            Urban density           Metro density  \n",
      "1  15,149,358  5,879/km2(15,230/sq mi)  2,894/km2(7,500/sq mi)  \n",
      "\n",
      "\n",
      "0       City Population  Estimate(2018)[7]  Rank\n",
      "1  Moscow,RU                    12,506,468   1st\n",
      "\n",
      "\n",
      "0       City Population      Total[A]                  Density      Urban  \\\n",
      "1  London,GB             8,961,989[1]  5,666/km2(14,670/sq mi)  9,950,000   \n",
      "\n",
      "0               Metro City of London Greater London  \n",
      "1  14,257,962[4](1st)   8,706 (67th)      9,425,622  \n",
      "\n",
      "\n",
      "0                 City Population  Estimate(2018)[6]\n",
      "1  Saint_Petersburg,RU                     5,351,935\n",
      "\n",
      "\n",
      "0       City Population  City/State   Urban[3]   Metro[4]\n",
      "1  Berlin,DE              3,664,088  4,473,101  6,144,600\n",
      "\n",
      "\n",
      "0       City Population Capital cityandMunicipality            Rank  \\\n",
      "1  Madrid,ES                              3,223,334  1st(2nd in EU)   \n",
      "\n",
      "0                  Density                 Urban                 Metro  \n",
      "1  5,300/km2(14,000/sq mi)  6,345,000 (2,019)[3]  6,791,667 (2,018)[2]  \n",
      "\n",
      "\n",
      "0     City        Population City with special status                 Density  \\\n",
      "1  Kyiv,UA  (1 January 2021)             2,962,180[1]  3,299/km2(8,540/sq mi)   \n",
      "\n",
      "0                                              Metro  \n",
      "1  3,475,000 (1 January 2,021)[5]of theKyiv metro...  \n",
      "\n",
      "\n",
      "0     City          Population                         Rank  \\\n",
      "1  Rome,IT  (31 December 2019)  1st in Italy(3rd in the EU)   \n",
      "\n",
      "0                 Density        Comune Metropolitan City  \n",
      "1  2,236/km2(5,790/sq mi)  2,860,009[1]      4,342,212[2]  \n",
      "\n",
      "\n",
      "0          City Population Capital city  Estimate(1 July 2020)  \\\n",
      "1  Bucharest,RO               1,883,425           2,155,240[4]   \n",
      "\n",
      "0                           Rank                  Density  \\\n",
      "1  1st in Romania(4th in the EU)  8,026/km2(20,790/sq mi)   \n",
      "\n",
      "0                           Metro  \n",
      "1  2,315,173 (Bucharest-Ilfov)[4]  \n",
      "\n",
      "\n",
      "0      City Population                   Density Urban(Jan. 2017[2])  \\\n",
      "1  Paris,FR  2,175,601  21,000/km2(53,000/sq mi)          10,785,092   \n",
      "\n",
      "0           Urban density Metro(Jan. 2017[3])         Metro density  \n",
      "1  3,800/km2(9,800/sq mi)          13,024,518  690/km2(1,800/sq mi)  \n",
      "\n",
      "\n",
      "0      City        Population  Capital city         Metro\n",
      "1  Minsk,BY  (1 January 2021)     2,009,786  2,009,786[2]\n",
      "\n",
      "\n",
      "0       City Population                       Rank                    Density  \\\n",
      "1  Vienna,AT             1st in Austria(6th in EU)  4,326.1/km2(11,205/sq mi)   \n",
      "\n",
      "0                 Urban      Metro         Ethnicity[2]  \n",
      "1  1,911,191 (01−01−20)  2,600,000  46%Austrian54%Other  \n",
      "\n",
      "\n"
     ]
    }
   ],
   "source": [
    "for table in final_tables:\n",
    "    print(table)\n",
    "    print('\\n')"
   ]
  }
 ],
 "metadata": {
  "kernelspec": {
   "display_name": "Python 3",
   "language": "python",
   "name": "python3"
  },
  "language_info": {
   "codemirror_mode": {
    "name": "ipython",
    "version": 3
   },
   "file_extension": ".py",
   "mimetype": "text/x-python",
   "name": "python",
   "nbconvert_exporter": "python",
   "pygments_lexer": "ipython3",
   "version": "3.8.8"
  }
 },
 "nbformat": 4,
 "nbformat_minor": 5
}
