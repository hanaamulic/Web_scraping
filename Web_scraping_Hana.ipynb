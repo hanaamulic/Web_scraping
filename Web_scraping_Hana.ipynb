{
 "cells": [
  {
   "cell_type": "code",
   "execution_count": 263,
   "id": "8752b714-6f3f-457c-be56-974f660d4b89",
   "metadata": {},
   "outputs": [],
   "source": [
    "# 1. import libraries\n",
    "from bs4 import BeautifulSoup\n",
    "import requests\n",
    "import pandas as pd\n",
    "import re\n",
    "import time"
   ]
  },
  {
   "cell_type": "code",
   "execution_count": 290,
   "id": "0ff0cc97-80e8-4c28-8058-d315256e4966",
   "metadata": {},
   "outputs": [],
   "source": [
    "def get_city_population(city):\n",
    "    url = (\"https://en.wikipedia.org/wiki/\"+city)\n",
    "    response = requests.get(url)\n",
    "    time.sleep(2)   #quick solution\n",
    "    soup = BeautifulSoup(response.content, \"html.parser\")\n",
    "    table_string = soup.find(text=re.compile('^Population\\Z'))\n",
    "    parent = table_string.find_parent('tr')\n",
    "    description = []\n",
    "    population = []\n",
    "    population_string = parent.get_text(\"|\",strip='True')\n",
    "    description.append(population_string.split('|')[0])\n",
    "    population_string2 = population_string.split('|')[-1]\n",
    "    if(population_string2.startswith('[')):\n",
    "        population.append('')\n",
    "    else:\n",
    "        population.append(population_string2)\n",
    "\n",
    "    siblings = parent.next_siblings\n",
    "    for sib in siblings:\n",
    "        if(sib['class'] != ['mergedrow']):\n",
    "            break\n",
    "        for ch in sib.children:\n",
    "            if(ch['class']==['infobox-label']):\n",
    "                temp = ch.get_text(strip='True').replace('\\xa0',' ')\n",
    "                temp = re.sub(r'[^a-zA-Z ]','',temp)\n",
    "                description.append(temp)\n",
    "            elif(ch['class']==['infobox-data']):\n",
    "                population.append(ch.get_text(strip='True').replace('\\xa0',' '))\n",
    "    population_table = pd.DataFrame({\"Description\":description,\n",
    "                       \"Population\":population\n",
    "                      })\n",
    "    return population_table"
   ]
  },
  {
   "cell_type": "code",
   "execution_count": 291,
   "id": "5cbfa58b-30dc-48de-a163-f682270aa54f",
   "metadata": {},
   "outputs": [
    {
     "name": "stdout",
     "output_type": "stream",
     "text": [
      "  Description                             Population\n",
      "0  Population                                       \n",
      "1       Total                              8,804,190\n",
      "2        Rank  1stin the United States1stin New York\n",
      "3     Density        29,302.37/sq mi (11,313.68/km2)\n",
      "4       Metro                       20,140,470 (1st)\n"
     ]
    }
   ],
   "source": [
    "print(get_city_population('New_York_City'))"
   ]
  }
 ],
 "metadata": {
  "kernelspec": {
   "display_name": "Python 3",
   "language": "python",
   "name": "python3"
  },
  "language_info": {
   "codemirror_mode": {
    "name": "ipython",
    "version": 3
   },
   "file_extension": ".py",
   "mimetype": "text/x-python",
   "name": "python",
   "nbconvert_exporter": "python",
   "pygments_lexer": "ipython3",
   "version": "3.8.8"
  }
 },
 "nbformat": 4,
 "nbformat_minor": 5
}
