{
 "cells": [
  {
   "cell_type": "code",
   "execution_count": 39,
   "id": "6fd983c6-192c-46b1-aec5-6ddda18bb84d",
   "metadata": {},
   "outputs": [],
   "source": [
    "from IPython.display import JSON\n",
    "from bs4 import BeautifulSoup\n",
    "import pandas as pd\n",
    "import requests\n",
    "import API_keys\n",
    "import datetime"
   ]
  },
  {
   "cell_type": "code",
   "execution_count": 4,
   "id": "10a2bdb2-77cc-47ea-8387-a282b8764bbf",
   "metadata": {},
   "outputs": [],
   "source": [
    "def get_cities_dataframe():\n",
    "    schema=\"gans\"\n",
    "    host=\"wbs-guns-project.cthpzqamxucy.us-east-2.rds.amazonaws.com\"\n",
    "    user=\"admin\"\n",
    "    password=API_keys.mysqlPassword\n",
    "    port=3306\n",
    "    con = f'mysql+pymysql://{user}:{password}@{host}:{port}/{schema}'\n",
    "    table_df = pd.read_sql_table(\n",
    "    'cities',\n",
    "    con=con\n",
    "    )\n",
    "    return table_df[:1]"
   ]
  },
  {
   "cell_type": "code",
   "execution_count": 22,
   "id": "aaa00cea-6784-4f18-955e-7fc37b9ecea7",
   "metadata": {},
   "outputs": [],
   "source": [
    "def get_weather_tables(cities):\n",
    "    today = datetime.date.today()\n",
    "    tomorrow = today + datetime.timedelta(days=1)\n",
    "    API_key = API_keys.OpenWeather_key\n",
    "    city_weather_tables = pd.DataFrame()\n",
    "    for index, row in cities.iterrows():\n",
    "        url = (f\"http://api.openweathermap.org/data/2.5/forecast?q={row['CityCountry']}&appid={API_key}&units=metric\") \n",
    "        response = requests.get(url)\n",
    "        json = response.json()\n",
    "\n",
    "        dictionary = {\"Date_Time\":[],'Temperature':[],'Feels_like': [],'Humidity':[],'Weather':[],'Clouds':[],'Wind_speed':[],'Rain':[],'Snow':[]}\n",
    "\n",
    "        for hour in json['list']:\n",
    "            dictionary['Date_Time'].append(hour['dt_txt'])\n",
    "            dictionary['Temperature'].append(hour['main']['temp'])\n",
    "            dictionary['Feels_like'].append(hour['main']['feels_like'])\n",
    "            dictionary['Humidity'].append(hour['main']['humidity'])\n",
    "            dictionary['Weather'].append(hour['weather'][0]['description'])\n",
    "            dictionary['Clouds'].append(hour['clouds']['all'])\n",
    "            dictionary['Wind_speed'].append(hour['wind']['speed'])\n",
    "            try:\n",
    "                dictionary['Rain'].append(hour['rain']['3h'])\n",
    "            except:\n",
    "                dictionary['Rain'].append('0')\n",
    "            try:\n",
    "                dictionary['Snow'].append(hour['snow']['3h'])\n",
    "            except:\n",
    "                dictionary['Snow'].append('0')\n",
    "\n",
    "        weather_table=pd.DataFrame.from_dict(dictionary)\n",
    "        weather_table[\"Date_Time\"] = pd.to_datetime(weather_table[\"Date_Time\"])\n",
    "        weather_table = weather_table[weather_table.Date_Time.dt.date == tomorrow]\n",
    "        weather_table = weather_table.assign(CityCountry = row['CityCountry'])\n",
    "        city_weather_tables = city_weather_tables.append(weather_table)\n",
    "    return city_weather_tables"
   ]
  },
  {
   "cell_type": "markdown",
   "id": "8d9dd613-964b-4178-a0a5-c127c0fdb7a6",
   "metadata": {},
   "source": [
    "## def create_mysql_table(big_table):\n",
    "    schema=\"gans\"\n",
    "    host=\"127.0.0.1\"\n",
    "    user=\"root\"\n",
    "    password=API_keys.mysqlPassword\n",
    "    port=3306\n",
    "    con = f'mysql+pymysql://{user}:{password}@{host}:{port}/{schema}'\n",
    "    big_table.to_sql('weather',con=con,if_exists='append',index=False)"
   ]
  },
  {
   "cell_type": "code",
   "execution_count": 38,
   "id": "56b0ffc0-57c3-40bb-b8ab-a43c98342586",
   "metadata": {},
   "outputs": [],
   "source": [
    "create_mysql_table(get_weather_tables(get_cities_dataframe()))"
   ]
  }
 ],
 "metadata": {
  "kernelspec": {
   "display_name": "Python 3",
   "language": "python",
   "name": "python3"
  },
  "language_info": {
   "codemirror_mode": {
    "name": "ipython",
    "version": 3
   },
   "file_extension": ".py",
   "mimetype": "text/x-python",
   "name": "python",
   "nbconvert_exporter": "python",
   "pygments_lexer": "ipython3",
   "version": "3.8.8"
  }
 },
 "nbformat": 4,
 "nbformat_minor": 5
}
