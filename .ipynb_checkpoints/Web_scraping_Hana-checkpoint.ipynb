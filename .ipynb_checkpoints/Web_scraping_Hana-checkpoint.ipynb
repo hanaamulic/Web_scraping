{
 "cells": [
  {
   "cell_type": "code",
   "execution_count": 263,
   "id": "8752b714-6f3f-457c-be56-974f660d4b89",
   "metadata": {},
   "outputs": [],
   "source": [
    "# 1. import libraries\n",
    "from bs4 import BeautifulSoup\n",
    "import requests\n",
    "import pandas as pd\n",
    "import re\n",
    "import time"
   ]
  },
  {
   "cell_type": "code",
   "execution_count": 266,
   "id": "0ff0cc97-80e8-4c28-8058-d315256e4966",
   "metadata": {},
   "outputs": [],
   "source": [
    "def get_city_population(city):\n",
    "    url = (\"https://en.wikipedia.org/wiki/\"+city)\n",
    "    response = requests.get(url)\n",
    "    time.sleep(2)   #quick solution\n",
    "    soup = BeautifulSoup(response.content, \"html.parser\")\n",
    "    table_string = soup.find(text=re.compile('^Population\\Z'))\n",
    "    parent = table_string.find_parent('tr')\n",
    "    description = []\n",
    "    population = []\n",
    "    population_string = parent.get_text(\"|\",strip='True')\n",
    "    description.append(population_string.split('|')[0])\n",
    "    population_string2 = population_string.split('|')[-1]\n",
    "    if(population_string2.startswith('[')):\n",
    "        population.append('')\n",
    "    else:\n",
    "        population.append(population_string2)\n",
    "\n",
    "    siblings = parent.next_siblings\n",
    "    for sib in siblings:\n",
    "        if(sib['class'] != ['mergedrow']):\n",
    "            break\n",
    "        for ch in sib.children:\n",
    "            if(ch['class']==['infobox-label']):\n",
    "                description.append(ch.get_text(strip='True').replace('\\xa0',' '))\n",
    "            elif(ch['class']==['infobox-data']):\n",
    "                population.append(ch.get_text(strip='True').replace('\\xa0',' '))\n",
    "    population_table = pd.DataFrame({\"Description\":description,\n",
    "                       \"Population\":population\n",
    "                      })\n",
    "    return population_table"
   ]
  },
  {
   "cell_type": "code",
   "execution_count": 267,
   "id": "5cbfa58b-30dc-48de-a163-f682270aa54f",
   "metadata": {},
   "outputs": [
    {
     "name": "stdout",
     "output_type": "stream",
     "text": [
      "           Description            Population\n",
      "0           Population                      \n",
      "1               • City               790,017\n",
      "2  • Estimate(2018)[6]               807,254\n",
      "3            •Metro[2]             1,153,255\n",
      "4      • Metro density  400/km2(1,000/sq mi)\n"
     ]
    }
   ],
   "source": [
    "print(get_city_population('Zagreb'))"
   ]
  }
 ],
 "metadata": {
  "kernelspec": {
   "display_name": "Python 3",
   "language": "python",
   "name": "python3"
  },
  "language_info": {
   "codemirror_mode": {
    "name": "ipython",
    "version": 3
   },
   "file_extension": ".py",
   "mimetype": "text/x-python",
   "name": "python",
   "nbconvert_exporter": "python",
   "pygments_lexer": "ipython3",
   "version": "3.8.8"
  }
 },
 "nbformat": 4,
 "nbformat_minor": 5
}
