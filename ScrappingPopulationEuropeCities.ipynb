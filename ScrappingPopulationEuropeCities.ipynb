{
 "cells": [
  {
   "cell_type": "code",
   "execution_count": 3,
   "id": "3623bf19-520b-45ea-9686-538e8bf1bc9b",
   "metadata": {},
   "outputs": [],
   "source": [
    "# 1. import libraries\n",
    "from bs4 import BeautifulSoup\n",
    "import requests\n",
    "import pandas as pd\n",
    "import re\n",
    "import time\n",
    "import unicodedata"
   ]
  },
  {
   "cell_type": "markdown",
   "id": "d6be3270-a6d8-479f-86d1-cd2ff2fcbdb8",
   "metadata": {},
   "source": [
    "## Scrapping for Biggest European cities"
   ]
  },
  {
   "cell_type": "code",
   "execution_count": 4,
   "id": "6e095929-a844-475b-9285-4d13c0e4ef4f",
   "metadata": {},
   "outputs": [],
   "source": [
    "url = (\"https://en.wikipedia.org/wiki/List_of_European_cities_by_population_within_city_limits\") \n",
    "response = requests.get(url)\n",
    "time.sleep(2)\n",
    "soup = BeautifulSoup(response.content, \"html.parser\")\n",
    "parent = soup.find(class_ = 'wikitable sortable')"
   ]
  },
  {
   "cell_type": "code",
   "execution_count": 5,
   "id": "6f3b8603-68a8-44ff-b663-5530272a82d6",
   "metadata": {},
   "outputs": [],
   "source": [
    "children = parent.contents[1]"
   ]
  },
  {
   "cell_type": "code",
   "execution_count": 6,
   "id": "8c1b13b9-e99d-4335-92f3-17b244c1d638",
   "metadata": {},
   "outputs": [],
   "source": [
    "dictionary = {\"City\": [],\"Country\":[],\"Population\":[]}\n",
    "for i, child in enumerate(children):\n",
    "    if((i != 0) & (i%2 == 0)):\n",
    "        dictionary['City'].append(child.contents[3].get_text(\"|\", strip=True).replace('\\n',''))\n",
    "        dictionary['Population'].append(child.contents[7].get_text(\"|\", strip=True))\n",
    "        dictionary['Country'].append(child.contents[5].get_text(\"|\", strip=True))\n",
    "    if(i == 40):\n",
    "        break"
   ]
  },
  {
   "cell_type": "code",
   "execution_count": 7,
   "id": "1e225e79-eed8-4d4d-afdd-24e95b0d509c",
   "metadata": {
    "tags": []
   },
   "outputs": [],
   "source": [
    "table = pd.DataFrame.from_dict(dictionary)\n",
    "table.Population = pd.to_numeric(table.Population.str.split('|').str[0].str.replace(',',''))\n",
    "table.City = table.City.str.split('|').str[0]"
   ]
  },
  {
   "cell_type": "markdown",
   "id": "7e0f91ee-c168-4952-9092-d6299c148a6b",
   "metadata": {},
   "source": [
    "## Scraping for country codes"
   ]
  },
  {
   "cell_type": "code",
   "execution_count": 9,
   "id": "20d83788-c3b5-431e-a3d6-a325b7f70c04",
   "metadata": {},
   "outputs": [],
   "source": [
    "url = (\"https://www.iban.com/country-codes\") \n",
    "response = requests.get(url)\n",
    "time.sleep(2)\n",
    "soup = BeautifulSoup(response.content, \"html.parser\")"
   ]
  },
  {
   "cell_type": "code",
   "execution_count": 10,
   "id": "a5006e3c-fb71-48fa-98d7-10a2a18c52b4",
   "metadata": {},
   "outputs": [],
   "source": [
    "def get_country_codes(soup):\n",
    "    dictionary = {\"Country\":[],\"Country_code\":[]}\n",
    "    table_html = soup.find('table',id=\"myTable\")\n",
    "    for row in table_html.find_all('tr'):\n",
    "        for j, column in enumerate(row.find_all('td')):\n",
    "            if (j==0):\n",
    "                dictionary['Country'].append(column.get_text())\n",
    "            if(j==1):\n",
    "                dictionary['Country_code'].append(column.get_text())\n",
    "    table_country_codes = pd.DataFrame.from_dict(dictionary)\n",
    "    return table_country_codes"
   ]
  },
  {
   "cell_type": "code",
   "execution_count": 11,
   "id": "4dc2f1a5-480f-46b0-a112-330099053491",
   "metadata": {},
   "outputs": [],
   "source": [
    "table_country_codes = get_country_codes(soup)"
   ]
  },
  {
   "cell_type": "markdown",
   "id": "5d44d883-0044-48d8-983b-abe25a9cd1f1",
   "metadata": {},
   "source": [
    "## Merging cities and country codes"
   ]
  },
  {
   "cell_type": "code",
   "execution_count": 13,
   "id": "2416d506-9b9b-4e33-89ee-6a1b889a9708",
   "metadata": {},
   "outputs": [],
   "source": [
    "table.Country = table.Country.apply(lambda x:  table_country_codes[table_country_codes.Country.str.contains(x)].Country.values[0])"
   ]
  },
  {
   "cell_type": "code",
   "execution_count": 24,
   "id": "d5eb8372-008b-466c-a313-19c589429c1b",
   "metadata": {},
   "outputs": [],
   "source": [
    "big_table = table.merge(table_country_codes,how='left')"
   ]
  },
  {
   "cell_type": "code",
   "execution_count": 26,
   "id": "511a3bb1-89b0-4060-907c-5cbd8a6ba58d",
   "metadata": {
    "tags": []
   },
   "outputs": [],
   "source": [
    "big_table['CityCountry'] = big_table[['City','Country_code']].apply(lambda x: ', '.join(x), axis = 1)"
   ]
  },
  {
   "cell_type": "markdown",
   "id": "b4622222-147f-4f35-96ef-b3989c148343",
   "metadata": {},
   "source": [
    "## Merging with airport codes from airports.csv"
   ]
  },
  {
   "cell_type": "code",
   "execution_count": 306,
   "id": "cf8f8935-60f9-4092-bd45-5b7b362535e2",
   "metadata": {},
   "outputs": [],
   "source": [
    "airports = pd.read_csv('data/airports.csv')"
   ]
  },
  {
   "cell_type": "code",
   "execution_count": 307,
   "id": "3ab6ac09-89e0-4201-8aba-c58daff1c170",
   "metadata": {},
   "outputs": [],
   "source": [
    "airports.loc[airports['municipality'] == 'St. Petersburg', 'municipality'] = 'Saint Petersburg'"
   ]
  },
  {
   "cell_type": "code",
   "execution_count": 308,
   "id": "2020d581-2f06-41b7-afa3-096fa1e81226",
   "metadata": {},
   "outputs": [],
   "source": [
    "airports.loc[airports['municipality'] == 'Kiev', 'municipality'] = 'Kyiv'"
   ]
  },
  {
   "cell_type": "code",
   "execution_count": 309,
   "id": "edad39d3-c14b-4bde-b5de-121de5de64dc",
   "metadata": {},
   "outputs": [],
   "source": [
    "airports = airports.dropna(subset=['municipality', 'iso_country'])"
   ]
  },
  {
   "cell_type": "code",
   "execution_count": 310,
   "id": "d371d684-6bc2-4c32-ae63-c62cfd244c67",
   "metadata": {},
   "outputs": [],
   "source": [
    "airports.loc[airports['municipality'].str.contains('Istanbul'), 'municipality'] = 'Istanbul'"
   ]
  },
  {
   "cell_type": "code",
   "execution_count": 311,
   "id": "cc7b2a75-ae43-40e6-916c-07be05503279",
   "metadata": {},
   "outputs": [],
   "source": [
    "# airports.loc[airports.municipality.str.contains('Istanbul')]"
   ]
  },
  {
   "cell_type": "code",
   "execution_count": 312,
   "id": "dfdb558b-6919-4b0f-9371-41fb77509c39",
   "metadata": {},
   "outputs": [],
   "source": [
    "# airports.query('municipality == \"Istanbul\"')"
   ]
  },
  {
   "cell_type": "code",
   "execution_count": 313,
   "id": "19e93eec-9eaf-4027-aa40-3fd12866c89e",
   "metadata": {},
   "outputs": [],
   "source": [
    "list_of_cities = big_table.CityCountry.to_list()"
   ]
  },
  {
   "cell_type": "code",
   "execution_count": 314,
   "id": "5b27d46a-8c24-49ee-8715-50038c0a4091",
   "metadata": {},
   "outputs": [],
   "source": [
    "# list_of_cities"
   ]
  },
  {
   "cell_type": "code",
   "execution_count": 315,
   "id": "adb555ba-ccf3-4560-b491-88d93cf1f9ae",
   "metadata": {
    "tags": []
   },
   "outputs": [],
   "source": [
    "airports_only_needed = airports[['type','name','iso_country','municipality','scheduled_service','gps_code']]"
   ]
  },
  {
   "cell_type": "code",
   "execution_count": 316,
   "id": "52a6907a-9cfc-4706-8b35-d020bf4d84b3",
   "metadata": {},
   "outputs": [],
   "source": [
    "airports_only_needed = (\n",
    "                    airports_only_needed\n",
    "                            .query(\"(type == 'medium_airport' | type == 'large_airport') & scheduled_service == 'yes'\")\n",
    "                            \n",
    ")"
   ]
  },
  {
   "cell_type": "code",
   "execution_count": 317,
   "id": "3f4faf06-a44f-4bf9-8076-fb37ef20729a",
   "metadata": {},
   "outputs": [],
   "source": [
    "big_table['CityCountry'] = big_table[['City','Country_code']].apply(lambda x: ', '.join(x), axis = 1)"
   ]
  },
  {
   "cell_type": "code",
   "execution_count": null,
   "id": "c17d518f-1833-43ce-99d1-1cb8229c395e",
   "metadata": {},
   "outputs": [],
   "source": []
  },
  {
   "cell_type": "code",
   "execution_count": 318,
   "id": "e63849c9-171d-4c52-be52-4466d13d5bfa",
   "metadata": {
    "tags": []
   },
   "outputs": [],
   "source": [
    "airports_only_needed['CityCountry'] = airports_only_needed[['municipality','iso_country']].apply(lambda x: ', '.join(x), axis = 1)"
   ]
  },
  {
   "cell_type": "code",
   "execution_count": 319,
   "id": "71e3e480-d74e-487b-b771-76bbe9d10a1a",
   "metadata": {},
   "outputs": [],
   "source": [
    "airports_only_needed = airports_only_needed[airports_only_needed.CityCountry.isin(list_of_cities)]"
   ]
  },
  {
   "cell_type": "code",
   "execution_count": 326,
   "id": "7246f7d9-724e-4468-884b-c09c5e027371",
   "metadata": {},
   "outputs": [],
   "source": [
    "airports_only_needed.type = pd.Categorical(airports_only_needed.type, categories=[\"large_airport\",\"medium_airport\"],ordered=True)"
   ]
  },
  {
   "cell_type": "code",
   "execution_count": 327,
   "id": "6fbe00eb-173e-4e8b-a0da-ebc6ca09ecce",
   "metadata": {
    "tags": []
   },
   "outputs": [],
   "source": [
    "airports_only_needed.sort_values('type', inplace=True)"
   ]
  },
  {
   "cell_type": "code",
   "execution_count": 328,
   "id": "2a92a2d3-5547-47aa-9a24-e85b94d8f4a3",
   "metadata": {},
   "outputs": [],
   "source": [
    "airports_only_needed = airports_only_needed.drop_duplicates(subset=['CityCountry'])"
   ]
  },
  {
   "cell_type": "code",
   "execution_count": 329,
   "id": "0a2c0c79-5136-4b46-ae23-2aaad19bb3bf",
   "metadata": {},
   "outputs": [
    {
     "data": {
      "text/plain": [
       "(20, 7)"
      ]
     },
     "execution_count": 329,
     "metadata": {},
     "output_type": "execute_result"
    }
   ],
   "source": [
    "airports_only_needed.shape"
   ]
  },
  {
   "cell_type": "code",
   "execution_count": 331,
   "id": "4d89a45b-15b4-40d8-aca4-1c17be73765a",
   "metadata": {},
   "outputs": [],
   "source": [
    "final_table = big_table.merge(airports_only_needed,how='left').drop(['type','municipality','scheduled_service'],axis=1)"
   ]
  },
  {
   "cell_type": "code",
   "execution_count": 332,
   "id": "303f3b7e-b490-4d78-adcf-41a92200b891",
   "metadata": {},
   "outputs": [
    {
     "data": {
      "text/html": [
       "<div>\n",
       "<style scoped>\n",
       "    .dataframe tbody tr th:only-of-type {\n",
       "        vertical-align: middle;\n",
       "    }\n",
       "\n",
       "    .dataframe tbody tr th {\n",
       "        vertical-align: top;\n",
       "    }\n",
       "\n",
       "    .dataframe thead th {\n",
       "        text-align: right;\n",
       "    }\n",
       "</style>\n",
       "<table border=\"1\" class=\"dataframe\">\n",
       "  <thead>\n",
       "    <tr style=\"text-align: right;\">\n",
       "      <th></th>\n",
       "      <th>City</th>\n",
       "      <th>Country</th>\n",
       "      <th>Population</th>\n",
       "      <th>Country_code</th>\n",
       "      <th>CityCountry</th>\n",
       "      <th>name</th>\n",
       "      <th>iso_country</th>\n",
       "      <th>gps_code</th>\n",
       "    </tr>\n",
       "  </thead>\n",
       "  <tbody>\n",
       "    <tr>\n",
       "      <th>0</th>\n",
       "      <td>Istanbul</td>\n",
       "      <td>Turkey</td>\n",
       "      <td>15462452</td>\n",
       "      <td>TR</td>\n",
       "      <td>Istanbul, TR</td>\n",
       "      <td>İstanbul Airport</td>\n",
       "      <td>TR</td>\n",
       "      <td>LTFM</td>\n",
       "    </tr>\n",
       "    <tr>\n",
       "      <th>1</th>\n",
       "      <td>Moscow</td>\n",
       "      <td>Russian Federation (the)</td>\n",
       "      <td>12195221</td>\n",
       "      <td>RU</td>\n",
       "      <td>Moscow, RU</td>\n",
       "      <td>Domodedovo International Airport</td>\n",
       "      <td>RU</td>\n",
       "      <td>UUDD</td>\n",
       "    </tr>\n",
       "    <tr>\n",
       "      <th>2</th>\n",
       "      <td>London</td>\n",
       "      <td>United Kingdom of Great Britain and Northern I...</td>\n",
       "      <td>9126366</td>\n",
       "      <td>GB</td>\n",
       "      <td>London, GB</td>\n",
       "      <td>London Luton Airport</td>\n",
       "      <td>GB</td>\n",
       "      <td>EGGW</td>\n",
       "    </tr>\n",
       "    <tr>\n",
       "      <th>3</th>\n",
       "      <td>Saint Petersburg</td>\n",
       "      <td>Russian Federation (the)</td>\n",
       "      <td>5383890</td>\n",
       "      <td>RU</td>\n",
       "      <td>Saint Petersburg, RU</td>\n",
       "      <td>Pulkovo Airport</td>\n",
       "      <td>RU</td>\n",
       "      <td>ULLI</td>\n",
       "    </tr>\n",
       "    <tr>\n",
       "      <th>4</th>\n",
       "      <td>Berlin</td>\n",
       "      <td>Germany</td>\n",
       "      <td>3748148</td>\n",
       "      <td>DE</td>\n",
       "      <td>Berlin, DE</td>\n",
       "      <td>Berlin Brandenburg Airport</td>\n",
       "      <td>DE</td>\n",
       "      <td>EDDB</td>\n",
       "    </tr>\n",
       "    <tr>\n",
       "      <th>5</th>\n",
       "      <td>Madrid</td>\n",
       "      <td>Spain</td>\n",
       "      <td>3223334</td>\n",
       "      <td>ES</td>\n",
       "      <td>Madrid, ES</td>\n",
       "      <td>Adolfo Suárez Madrid–Barajas Airport</td>\n",
       "      <td>ES</td>\n",
       "      <td>LEMD</td>\n",
       "    </tr>\n",
       "    <tr>\n",
       "      <th>6</th>\n",
       "      <td>Kyiv</td>\n",
       "      <td>Ukraine</td>\n",
       "      <td>2950800</td>\n",
       "      <td>UA</td>\n",
       "      <td>Kyiv, UA</td>\n",
       "      <td>Boryspil International Airport</td>\n",
       "      <td>UA</td>\n",
       "      <td>UKBB</td>\n",
       "    </tr>\n",
       "    <tr>\n",
       "      <th>7</th>\n",
       "      <td>Rome</td>\n",
       "      <td>Italy</td>\n",
       "      <td>2844750</td>\n",
       "      <td>IT</td>\n",
       "      <td>Rome, IT</td>\n",
       "      <td>Rome–Fiumicino Leonardo da Vinci International...</td>\n",
       "      <td>IT</td>\n",
       "      <td>LIRF</td>\n",
       "    </tr>\n",
       "    <tr>\n",
       "      <th>8</th>\n",
       "      <td>Bucharest</td>\n",
       "      <td>Romania</td>\n",
       "      <td>2155240</td>\n",
       "      <td>RO</td>\n",
       "      <td>Bucharest, RO</td>\n",
       "      <td>Henri Coandă International Airport</td>\n",
       "      <td>RO</td>\n",
       "      <td>LROP</td>\n",
       "    </tr>\n",
       "    <tr>\n",
       "      <th>9</th>\n",
       "      <td>Paris</td>\n",
       "      <td>France</td>\n",
       "      <td>2140526</td>\n",
       "      <td>FR</td>\n",
       "      <td>Paris, FR</td>\n",
       "      <td>Paris-Orly Airport</td>\n",
       "      <td>FR</td>\n",
       "      <td>LFPO</td>\n",
       "    </tr>\n",
       "    <tr>\n",
       "      <th>10</th>\n",
       "      <td>Minsk</td>\n",
       "      <td>Belarus</td>\n",
       "      <td>1982444</td>\n",
       "      <td>BY</td>\n",
       "      <td>Minsk, BY</td>\n",
       "      <td>Minsk National Airport</td>\n",
       "      <td>BY</td>\n",
       "      <td>UMMS</td>\n",
       "    </tr>\n",
       "    <tr>\n",
       "      <th>11</th>\n",
       "      <td>Vienna</td>\n",
       "      <td>Austria</td>\n",
       "      <td>1921153</td>\n",
       "      <td>AT</td>\n",
       "      <td>Vienna, AT</td>\n",
       "      <td>Vienna International Airport</td>\n",
       "      <td>AT</td>\n",
       "      <td>LOWW</td>\n",
       "    </tr>\n",
       "    <tr>\n",
       "      <th>12</th>\n",
       "      <td>Hamburg</td>\n",
       "      <td>Germany</td>\n",
       "      <td>1899160</td>\n",
       "      <td>DE</td>\n",
       "      <td>Hamburg, DE</td>\n",
       "      <td>Hamburg Helmut Schmidt Airport</td>\n",
       "      <td>DE</td>\n",
       "      <td>EDDH</td>\n",
       "    </tr>\n",
       "    <tr>\n",
       "      <th>13</th>\n",
       "      <td>Warsaw</td>\n",
       "      <td>Poland</td>\n",
       "      <td>1793579</td>\n",
       "      <td>PL</td>\n",
       "      <td>Warsaw, PL</td>\n",
       "      <td>Warsaw Chopin Airport</td>\n",
       "      <td>PL</td>\n",
       "      <td>EPWA</td>\n",
       "    </tr>\n",
       "    <tr>\n",
       "      <th>14</th>\n",
       "      <td>Budapest</td>\n",
       "      <td>Hungary</td>\n",
       "      <td>1768073</td>\n",
       "      <td>HU</td>\n",
       "      <td>Budapest, HU</td>\n",
       "      <td>Budapest Liszt Ferenc International Airport</td>\n",
       "      <td>HU</td>\n",
       "      <td>LHBP</td>\n",
       "    </tr>\n",
       "    <tr>\n",
       "      <th>15</th>\n",
       "      <td>Barcelona</td>\n",
       "      <td>Spain</td>\n",
       "      <td>1636762</td>\n",
       "      <td>ES</td>\n",
       "      <td>Barcelona, ES</td>\n",
       "      <td>Josep Tarradellas Barcelona-El Prat Airport</td>\n",
       "      <td>ES</td>\n",
       "      <td>LEBL</td>\n",
       "    </tr>\n",
       "    <tr>\n",
       "      <th>16</th>\n",
       "      <td>Munich</td>\n",
       "      <td>Germany</td>\n",
       "      <td>1488202</td>\n",
       "      <td>DE</td>\n",
       "      <td>Munich, DE</td>\n",
       "      <td>Munich Airport</td>\n",
       "      <td>DE</td>\n",
       "      <td>EDDM</td>\n",
       "    </tr>\n",
       "    <tr>\n",
       "      <th>17</th>\n",
       "      <td>Kharkiv</td>\n",
       "      <td>Ukraine</td>\n",
       "      <td>1451132</td>\n",
       "      <td>UA</td>\n",
       "      <td>Kharkiv, UA</td>\n",
       "      <td>Kharkiv International Airport</td>\n",
       "      <td>UA</td>\n",
       "      <td>UKHH</td>\n",
       "    </tr>\n",
       "    <tr>\n",
       "      <th>18</th>\n",
       "      <td>Milan</td>\n",
       "      <td>Italy</td>\n",
       "      <td>1404239</td>\n",
       "      <td>IT</td>\n",
       "      <td>Milan, IT</td>\n",
       "      <td>Malpensa International Airport</td>\n",
       "      <td>IT</td>\n",
       "      <td>LIMC</td>\n",
       "    </tr>\n",
       "    <tr>\n",
       "      <th>19</th>\n",
       "      <td>Belgrade</td>\n",
       "      <td>Serbia</td>\n",
       "      <td>1344844</td>\n",
       "      <td>RS</td>\n",
       "      <td>Belgrade, RS</td>\n",
       "      <td>Belgrade Nikola Tesla Airport</td>\n",
       "      <td>RS</td>\n",
       "      <td>LYBE</td>\n",
       "    </tr>\n",
       "  </tbody>\n",
       "</table>\n",
       "</div>"
      ],
      "text/plain": [
       "                City                                            Country  \\\n",
       "0           Istanbul                                             Turkey   \n",
       "1             Moscow                           Russian Federation (the)   \n",
       "2             London  United Kingdom of Great Britain and Northern I...   \n",
       "3   Saint Petersburg                           Russian Federation (the)   \n",
       "4             Berlin                                            Germany   \n",
       "5             Madrid                                              Spain   \n",
       "6               Kyiv                                            Ukraine   \n",
       "7               Rome                                              Italy   \n",
       "8          Bucharest                                            Romania   \n",
       "9              Paris                                             France   \n",
       "10             Minsk                                            Belarus   \n",
       "11            Vienna                                            Austria   \n",
       "12           Hamburg                                            Germany   \n",
       "13            Warsaw                                             Poland   \n",
       "14          Budapest                                            Hungary   \n",
       "15         Barcelona                                              Spain   \n",
       "16            Munich                                            Germany   \n",
       "17           Kharkiv                                            Ukraine   \n",
       "18             Milan                                              Italy   \n",
       "19          Belgrade                                             Serbia   \n",
       "\n",
       "    Population Country_code           CityCountry  \\\n",
       "0     15462452           TR          Istanbul, TR   \n",
       "1     12195221           RU            Moscow, RU   \n",
       "2      9126366           GB            London, GB   \n",
       "3      5383890           RU  Saint Petersburg, RU   \n",
       "4      3748148           DE            Berlin, DE   \n",
       "5      3223334           ES            Madrid, ES   \n",
       "6      2950800           UA              Kyiv, UA   \n",
       "7      2844750           IT              Rome, IT   \n",
       "8      2155240           RO         Bucharest, RO   \n",
       "9      2140526           FR             Paris, FR   \n",
       "10     1982444           BY             Minsk, BY   \n",
       "11     1921153           AT            Vienna, AT   \n",
       "12     1899160           DE           Hamburg, DE   \n",
       "13     1793579           PL            Warsaw, PL   \n",
       "14     1768073           HU          Budapest, HU   \n",
       "15     1636762           ES         Barcelona, ES   \n",
       "16     1488202           DE            Munich, DE   \n",
       "17     1451132           UA           Kharkiv, UA   \n",
       "18     1404239           IT             Milan, IT   \n",
       "19     1344844           RS          Belgrade, RS   \n",
       "\n",
       "                                                 name iso_country gps_code  \n",
       "0                                    İstanbul Airport          TR     LTFM  \n",
       "1                    Domodedovo International Airport          RU     UUDD  \n",
       "2                                London Luton Airport          GB     EGGW  \n",
       "3                                     Pulkovo Airport          RU     ULLI  \n",
       "4                          Berlin Brandenburg Airport          DE     EDDB  \n",
       "5                Adolfo Suárez Madrid–Barajas Airport          ES     LEMD  \n",
       "6                      Boryspil International Airport          UA     UKBB  \n",
       "7   Rome–Fiumicino Leonardo da Vinci International...          IT     LIRF  \n",
       "8                  Henri Coandă International Airport          RO     LROP  \n",
       "9                                  Paris-Orly Airport          FR     LFPO  \n",
       "10                             Minsk National Airport          BY     UMMS  \n",
       "11                       Vienna International Airport          AT     LOWW  \n",
       "12                     Hamburg Helmut Schmidt Airport          DE     EDDH  \n",
       "13                              Warsaw Chopin Airport          PL     EPWA  \n",
       "14        Budapest Liszt Ferenc International Airport          HU     LHBP  \n",
       "15        Josep Tarradellas Barcelona-El Prat Airport          ES     LEBL  \n",
       "16                                     Munich Airport          DE     EDDM  \n",
       "17                      Kharkiv International Airport          UA     UKHH  \n",
       "18                     Malpensa International Airport          IT     LIMC  \n",
       "19                      Belgrade Nikola Tesla Airport          RS     LYBE  "
      ]
     },
     "execution_count": 332,
     "metadata": {},
     "output_type": "execute_result"
    }
   ],
   "source": [
    "final_table"
   ]
  },
  {
   "cell_type": "markdown",
   "id": "54282ef9-a1cc-4540-bf47-bd687f7bb35e",
   "metadata": {},
   "source": [
    "## Creating csv file"
   ]
  },
  {
   "cell_type": "code",
   "execution_count": 333,
   "id": "44c11994-5244-4118-bc17-be33f0198ec0",
   "metadata": {},
   "outputs": [],
   "source": [
    "# final_table.to_csv('data/cities.csv',index=False)"
   ]
  }
 ],
 "metadata": {
  "kernelspec": {
   "display_name": "Python 3",
   "language": "python",
   "name": "python3"
  },
  "language_info": {
   "codemirror_mode": {
    "name": "ipython",
    "version": 3
   },
   "file_extension": ".py",
   "mimetype": "text/x-python",
   "name": "python",
   "nbconvert_exporter": "python",
   "pygments_lexer": "ipython3",
   "version": "3.8.8"
  }
 },
 "nbformat": 4,
 "nbformat_minor": 5
}
