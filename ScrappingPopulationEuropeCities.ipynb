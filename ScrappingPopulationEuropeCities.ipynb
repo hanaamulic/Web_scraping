{
 "cells": [
  {
   "cell_type": "code",
   "execution_count": 46,
   "id": "3623bf19-520b-45ea-9686-538e8bf1bc9b",
   "metadata": {},
   "outputs": [],
   "source": [
    "# 1. import libraries\n",
    "from bs4 import BeautifulSoup\n",
    "import requests\n",
    "import pandas as pd\n",
    "import re\n",
    "import time\n",
    "import unicodedata\n",
    "import API_keys"
   ]
  },
  {
   "cell_type": "markdown",
   "id": "d6be3270-a6d8-479f-86d1-cd2ff2fcbdb8",
   "metadata": {},
   "source": [
    "## Scrapping for Biggest European cities"
   ]
  },
  {
   "cell_type": "code",
   "execution_count": 3,
   "id": "6e095929-a844-475b-9285-4d13c0e4ef4f",
   "metadata": {},
   "outputs": [],
   "source": [
    "url = (\"https://en.wikipedia.org/wiki/List_of_European_cities_by_population_within_city_limits\") \n",
    "response = requests.get(url)\n",
    "time.sleep(2)\n",
    "soup = BeautifulSoup(response.content, \"html.parser\")\n",
    "parent = soup.find(class_ = 'wikitable sortable')"
   ]
  },
  {
   "cell_type": "code",
   "execution_count": 4,
   "id": "6f3b8603-68a8-44ff-b663-5530272a82d6",
   "metadata": {},
   "outputs": [],
   "source": [
    "children = parent.contents[1]"
   ]
  },
  {
   "cell_type": "code",
   "execution_count": 5,
   "id": "8c1b13b9-e99d-4335-92f3-17b244c1d638",
   "metadata": {},
   "outputs": [],
   "source": [
    "dictionary = {\"City\": [],\"Country\":[],\"Population\":[]}\n",
    "for i, child in enumerate(children):\n",
    "    if((i != 0) & (i%2 == 0)):\n",
    "        dictionary['City'].append(child.contents[3].get_text(\"|\", strip=True).replace('\\n',''))\n",
    "        dictionary['Population'].append(child.contents[7].get_text(\"|\", strip=True))\n",
    "        dictionary['Country'].append(child.contents[5].get_text(\"|\", strip=True))\n",
    "    if(i == 40):\n",
    "        break"
   ]
  },
  {
   "cell_type": "code",
   "execution_count": 6,
   "id": "1e225e79-eed8-4d4d-afdd-24e95b0d509c",
   "metadata": {
    "tags": []
   },
   "outputs": [],
   "source": [
    "table = pd.DataFrame.from_dict(dictionary)\n",
    "table.Population = pd.to_numeric(table.Population.str.split('|').str[0].str.replace(',',''))\n",
    "table.City = table.City.str.split('|').str[0]"
   ]
  },
  {
   "cell_type": "markdown",
   "id": "7e0f91ee-c168-4952-9092-d6299c148a6b",
   "metadata": {},
   "source": [
    "## Scraping for country codes"
   ]
  },
  {
   "cell_type": "code",
   "execution_count": 7,
   "id": "20d83788-c3b5-431e-a3d6-a325b7f70c04",
   "metadata": {},
   "outputs": [],
   "source": [
    "url = (\"https://www.iban.com/country-codes\") \n",
    "response = requests.get(url)\n",
    "time.sleep(2)\n",
    "soup = BeautifulSoup(response.content, \"html.parser\")"
   ]
  },
  {
   "cell_type": "code",
   "execution_count": 8,
   "id": "a5006e3c-fb71-48fa-98d7-10a2a18c52b4",
   "metadata": {},
   "outputs": [],
   "source": [
    "def get_country_codes(soup):\n",
    "    dictionary = {\"Country\":[],\"Country_code\":[]}\n",
    "    table_html = soup.find('table',id=\"myTable\")\n",
    "    for row in table_html.find_all('tr'):\n",
    "        for j, column in enumerate(row.find_all('td')):\n",
    "            if (j==0):\n",
    "                dictionary['Country'].append(column.get_text())\n",
    "            if(j==1):\n",
    "                dictionary['Country_code'].append(column.get_text())\n",
    "    table_country_codes = pd.DataFrame.from_dict(dictionary)\n",
    "    return table_country_codes"
   ]
  },
  {
   "cell_type": "code",
   "execution_count": 9,
   "id": "4dc2f1a5-480f-46b0-a112-330099053491",
   "metadata": {},
   "outputs": [],
   "source": [
    "table_country_codes = get_country_codes(soup)"
   ]
  },
  {
   "cell_type": "markdown",
   "id": "5d44d883-0044-48d8-983b-abe25a9cd1f1",
   "metadata": {},
   "source": [
    "## Merging cities and country codes"
   ]
  },
  {
   "cell_type": "code",
   "execution_count": 12,
   "id": "1fc40d90-2fbc-4b1b-aff3-dcf49d9357b6",
   "metadata": {
    "tags": []
   },
   "outputs": [],
   "source": [
    "table.Country = table.Country.apply(lambda x:  table_country_codes[table_country_codes.Country.str.contains(x)].Country.values[0])\n",
    "\n",
    "big_table = table.merge(table_country_codes,how='left')\n",
    "\n",
    "big_table['CityCountry'] = big_table[['City','Country_code']].apply(lambda x: ', '.join(x), axis = 1)"
   ]
  },
  {
   "cell_type": "markdown",
   "id": "b4622222-147f-4f35-96ef-b3989c148343",
   "metadata": {},
   "source": [
    "## Merging with airport codes from airports.csv"
   ]
  },
  {
   "cell_type": "code",
   "execution_count": 48,
   "id": "97621cb2-4421-42de-bd95-65253003286d",
   "metadata": {},
   "outputs": [],
   "source": [
    "airports = pd.read_csv('data/airports.csv')\n",
    "\n",
    "airports.loc[airports['municipality'] == 'St. Petersburg', 'municipality'] = 'Saint Petersburg'\n",
    "\n",
    "airports.loc[airports['municipality'] == 'Kiev', 'municipality'] = 'Kyiv'\n",
    "\n",
    "airports = airports.dropna(subset=['municipality', 'iso_country'])\n",
    "\n",
    "airports.loc[airports['municipality'].str.contains('Istanbul'), 'municipality'] = 'Istanbul'\n",
    "\n",
    "list_of_cities = big_table.CityCountry.to_list()\n",
    "\n",
    "airports_only_needed = airports[['type','name','iso_country','municipality','scheduled_service','gps_code']]\n",
    "\n",
    "airports_only_needed = (\n",
    "        airports_only_needed.query(\"(type == 'medium_airport' | type == 'large_airport') & scheduled_service == 'yes'\")\n",
    ")\n",
    "\n",
    "big_table['CityCountry'] = big_table[['City','Country_code']].apply(lambda x: ', '.join(x), axis = 1)\n",
    "\n",
    "airports_only_needed['CityCountry'] = airports_only_needed[['municipality','iso_country']].apply(lambda x: ', '.join(x), axis = 1)\n",
    "\n",
    "airports_only_needed = airports_only_needed[airports_only_needed.CityCountry.isin(list_of_cities)]\n",
    "\n",
    "airports_only_needed.type = pd.Categorical(airports_only_needed.type, categories=[\"large_airport\",\"medium_airport\"],ordered=True)\n",
    "\n",
    "airports_only_needed.sort_values('type', inplace=True)\n",
    "\n",
    "airports_only_needed = airports_only_needed.drop_duplicates(subset=['CityCountry'])\n",
    "\n",
    "\n",
    "final_table = big_table.merge(airports_only_needed,how='left').drop(['type','municipality','scheduled_service','iso_country'],axis=1).rename(columns={'name': \"Airport_name\",'gps_code':\"icao\"})"
   ]
  },
  {
   "cell_type": "code",
   "execution_count": 44,
   "id": "45047d1e-3c68-4191-b276-8a6e4ee008c1",
   "metadata": {},
   "outputs": [],
   "source": [
    "def create_mysql_table(big_table):\n",
    "    schema=\"gans\"\n",
    "    host=\"127.0.0.1\"\n",
    "    user=\"root\"\n",
    "    password=API_keys.mysqlPassword\n",
    "    port=3306\n",
    "    con = f'mysql+pymysql://{user}:{password}@{host}:{port}/{schema}'\n",
    "    big_table.to_sql('cities',con=con,if_exists='append',index=False)"
   ]
  },
  {
   "cell_type": "code",
   "execution_count": 47,
   "id": "06cc9695-8a97-48a2-ab9c-a6834bfa4623",
   "metadata": {},
   "outputs": [],
   "source": [
    "create_mysql_table(final_table)"
   ]
  },
  {
   "cell_type": "markdown",
   "id": "54282ef9-a1cc-4540-bf47-bd687f7bb35e",
   "metadata": {},
   "source": [
    "## Creating csv file"
   ]
  },
  {
   "cell_type": "code",
   "execution_count": 41,
   "id": "44c11994-5244-4118-bc17-be33f0198ec0",
   "metadata": {},
   "outputs": [],
   "source": [
    "# final_table.to_csv('data/cities.csv',index=False)"
   ]
  }
 ],
 "metadata": {
  "kernelspec": {
   "display_name": "Python 3",
   "language": "python",
   "name": "python3"
  },
  "language_info": {
   "codemirror_mode": {
    "name": "ipython",
    "version": 3
   },
   "file_extension": ".py",
   "mimetype": "text/x-python",
   "name": "python",
   "nbconvert_exporter": "python",
   "pygments_lexer": "ipython3",
   "version": "3.8.8"
  }
 },
 "nbformat": 4,
 "nbformat_minor": 5
}
