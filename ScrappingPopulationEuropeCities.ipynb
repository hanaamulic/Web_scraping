{
 "cells": [
  {
   "cell_type": "code",
   "execution_count": null,
   "id": "3623bf19-520b-45ea-9686-538e8bf1bc9b",
   "metadata": {},
   "outputs": [],
   "source": [
    "# 1. import libraries\n",
    "from bs4 import BeautifulSoup\n",
    "import requests\n",
    "import pandas as pd\n",
    "import re\n",
    "import time\n",
    "import unicodedata"
   ]
  },
  {
   "cell_type": "code",
   "execution_count": 72,
   "id": "bd8abe7f-c511-4c3a-9a0e-8f233083d3f4",
   "metadata": {
    "tags": []
   },
   "outputs": [],
   "source": [
    "def get_clean_city_population(city,country):\n",
    "    url = (\"https://en.wikipedia.org/wiki/\"+city) \n",
    "    response = requests.get(url)\n",
    "    time.sleep(2)\n",
    "    soup = BeautifulSoup(response.content, \"html.parser\")"
   ]
  },
  {
   "cell_type": "code",
   "execution_count": 92,
   "id": "6e095929-a844-475b-9285-4d13c0e4ef4f",
   "metadata": {},
   "outputs": [],
   "source": [
    "url = (\"https://en.wikipedia.org/wiki/List_of_European_cities_by_population_within_city_limits\") \n",
    "response = requests.get(url)\n",
    "time.sleep(2)\n",
    "soup = BeautifulSoup(response.content, \"html.parser\")\n",
    "parent = soup.find(class_ = 'wikitable sortable')"
   ]
  },
  {
   "cell_type": "code",
   "execution_count": 123,
   "id": "6f3b8603-68a8-44ff-b663-5530272a82d6",
   "metadata": {},
   "outputs": [],
   "source": [
    "children = parent.contents[1]"
   ]
  },
  {
   "cell_type": "code",
   "execution_count": 1,
   "id": "8c1b13b9-e99d-4335-92f3-17b244c1d638",
   "metadata": {},
   "outputs": [
    {
     "ename": "NameError",
     "evalue": "name 'children' is not defined",
     "output_type": "error",
     "traceback": [
      "\u001b[1;31m---------------------------------------------------------------------------\u001b[0m",
      "\u001b[1;31mNameError\u001b[0m                                 Traceback (most recent call last)",
      "\u001b[1;32m<ipython-input-1-2a28457e8578>\u001b[0m in \u001b[0;36m<module>\u001b[1;34m\u001b[0m\n\u001b[0;32m      1\u001b[0m \u001b[0mdictionary\u001b[0m \u001b[1;33m=\u001b[0m \u001b[1;33m{\u001b[0m\u001b[1;34m\"City\"\u001b[0m\u001b[1;33m:\u001b[0m \u001b[1;33m[\u001b[0m\u001b[1;33m]\u001b[0m\u001b[1;33m,\u001b[0m\u001b[1;34m\"Population\"\u001b[0m\u001b[1;33m:\u001b[0m\u001b[1;33m[\u001b[0m\u001b[1;33m]\u001b[0m\u001b[1;33m}\u001b[0m\u001b[1;33m\u001b[0m\u001b[1;33m\u001b[0m\u001b[0m\n\u001b[1;32m----> 2\u001b[1;33m \u001b[1;32mfor\u001b[0m \u001b[0mi\u001b[0m\u001b[1;33m,\u001b[0m \u001b[0mchild\u001b[0m \u001b[1;32min\u001b[0m \u001b[0menumerate\u001b[0m\u001b[1;33m(\u001b[0m\u001b[0mchildren\u001b[0m\u001b[1;33m)\u001b[0m\u001b[1;33m:\u001b[0m\u001b[1;33m\u001b[0m\u001b[1;33m\u001b[0m\u001b[0m\n\u001b[0m\u001b[0;32m      3\u001b[0m     \u001b[1;32mif\u001b[0m\u001b[1;33m(\u001b[0m\u001b[1;33m(\u001b[0m\u001b[0mi\u001b[0m \u001b[1;33m!=\u001b[0m \u001b[1;36m0\u001b[0m\u001b[1;33m)\u001b[0m \u001b[1;33m&\u001b[0m \u001b[1;33m(\u001b[0m\u001b[0mi\u001b[0m\u001b[1;33m%\u001b[0m\u001b[1;36m2\u001b[0m \u001b[1;33m==\u001b[0m \u001b[1;36m0\u001b[0m\u001b[1;33m)\u001b[0m\u001b[1;33m)\u001b[0m\u001b[1;33m:\u001b[0m\u001b[1;33m\u001b[0m\u001b[1;33m\u001b[0m\u001b[0m\n\u001b[0;32m      4\u001b[0m         \u001b[0mdictionary\u001b[0m\u001b[1;33m[\u001b[0m\u001b[1;34m'City'\u001b[0m\u001b[1;33m]\u001b[0m\u001b[1;33m.\u001b[0m\u001b[0mappend\u001b[0m\u001b[1;33m(\u001b[0m\u001b[0mchild\u001b[0m\u001b[1;33m.\u001b[0m\u001b[0mcontents\u001b[0m\u001b[1;33m[\u001b[0m\u001b[1;36m3\u001b[0m\u001b[1;33m]\u001b[0m\u001b[1;33m.\u001b[0m\u001b[0mget_text\u001b[0m\u001b[1;33m(\u001b[0m\u001b[1;33m)\u001b[0m\u001b[1;33m.\u001b[0m\u001b[0mreplace\u001b[0m\u001b[1;33m(\u001b[0m\u001b[1;34m'\\n'\u001b[0m\u001b[1;33m,\u001b[0m\u001b[1;34m''\u001b[0m\u001b[1;33m)\u001b[0m\u001b[1;33m)\u001b[0m\u001b[1;33m\u001b[0m\u001b[1;33m\u001b[0m\u001b[0m\n\u001b[0;32m      5\u001b[0m         \u001b[0mdictionary\u001b[0m\u001b[1;33m[\u001b[0m\u001b[1;34m'Population'\u001b[0m\u001b[1;33m]\u001b[0m\u001b[1;33m.\u001b[0m\u001b[0mappend\u001b[0m\u001b[1;33m(\u001b[0m\u001b[0mchild\u001b[0m\u001b[1;33m.\u001b[0m\u001b[0mcontents\u001b[0m\u001b[1;33m[\u001b[0m\u001b[1;36m7\u001b[0m\u001b[1;33m]\u001b[0m\u001b[1;33m.\u001b[0m\u001b[0mget_text\u001b[0m\u001b[1;33m(\u001b[0m\u001b[1;33m)\u001b[0m\u001b[1;33m[\u001b[0m\u001b[1;33m:\u001b[0m\u001b[1;33m-\u001b[0m\u001b[1;36m1\u001b[0m\u001b[1;33m]\u001b[0m\u001b[1;33m)\u001b[0m\u001b[1;33m\u001b[0m\u001b[1;33m\u001b[0m\u001b[0m\n",
      "\u001b[1;31mNameError\u001b[0m: name 'children' is not defined"
     ]
    }
   ],
   "source": [
    "dictionary = {\"City\": [],\"Population\":[]}\n",
    "for i, child in enumerate(children):\n",
    "    if((i != 0) & (i%2 == 0)):\n",
    "        dictionary['City'].append(child.contents[3].get_text().replace('\\n',''))\n",
    "        dictionary['Population'].append(child.contents[7].get_text()[:-1])\n",
    "    if(i == 24):\n",
    "        break"
   ]
  },
  {
   "cell_type": "code",
   "execution_count": 159,
   "id": "1e225e79-eed8-4d4d-afdd-24e95b0d509c",
   "metadata": {
    "tags": []
   },
   "outputs": [],
   "source": [
    "table = pd.DataFrame.from_dict(dictionary)"
   ]
  },
  {
   "cell_type": "code",
   "execution_count": 160,
   "id": "ca3e98e0-28a3-4c23-ae32-c190cc0649f4",
   "metadata": {},
   "outputs": [
    {
     "data": {
      "text/html": [
       "<div>\n",
       "<style scoped>\n",
       "    .dataframe tbody tr th:only-of-type {\n",
       "        vertical-align: middle;\n",
       "    }\n",
       "\n",
       "    .dataframe tbody tr th {\n",
       "        vertical-align: top;\n",
       "    }\n",
       "\n",
       "    .dataframe thead th {\n",
       "        text-align: right;\n",
       "    }\n",
       "</style>\n",
       "<table border=\"1\" class=\"dataframe\">\n",
       "  <thead>\n",
       "    <tr style=\"text-align: right;\">\n",
       "      <th></th>\n",
       "      <th>City</th>\n",
       "      <th>Population</th>\n",
       "    </tr>\n",
       "  </thead>\n",
       "  <tbody>\n",
       "    <tr>\n",
       "      <th>0</th>\n",
       "      <td>Istanbul</td>\n",
       "      <td>15,462,452[2]</td>\n",
       "    </tr>\n",
       "    <tr>\n",
       "      <th>1</th>\n",
       "      <td>Moscow[a]</td>\n",
       "      <td>12,195,221</td>\n",
       "    </tr>\n",
       "    <tr>\n",
       "      <th>2</th>\n",
       "      <td>London</td>\n",
       "      <td>9,126,366</td>\n",
       "    </tr>\n",
       "    <tr>\n",
       "      <th>3</th>\n",
       "      <td>Saint Petersburg</td>\n",
       "      <td>5,383,890</td>\n",
       "    </tr>\n",
       "    <tr>\n",
       "      <th>4</th>\n",
       "      <td>Berlin</td>\n",
       "      <td>3,748,148</td>\n",
       "    </tr>\n",
       "    <tr>\n",
       "      <th>5</th>\n",
       "      <td>Madrid</td>\n",
       "      <td>3,223,334</td>\n",
       "    </tr>\n",
       "    <tr>\n",
       "      <th>6</th>\n",
       "      <td>Kyiv</td>\n",
       "      <td>2,950,800</td>\n",
       "    </tr>\n",
       "    <tr>\n",
       "      <th>7</th>\n",
       "      <td>Rome</td>\n",
       "      <td>2,844,750</td>\n",
       "    </tr>\n",
       "    <tr>\n",
       "      <th>8</th>\n",
       "      <td>Bucharest</td>\n",
       "      <td>2,155,240</td>\n",
       "    </tr>\n",
       "    <tr>\n",
       "      <th>9</th>\n",
       "      <td>Paris</td>\n",
       "      <td>2,140,526</td>\n",
       "    </tr>\n",
       "    <tr>\n",
       "      <th>10</th>\n",
       "      <td>Minsk</td>\n",
       "      <td>1,982,444</td>\n",
       "    </tr>\n",
       "    <tr>\n",
       "      <th>11</th>\n",
       "      <td>Vienna</td>\n",
       "      <td>1,921,153</td>\n",
       "    </tr>\n",
       "  </tbody>\n",
       "</table>\n",
       "</div>"
      ],
      "text/plain": [
       "                City     Population\n",
       "0           Istanbul  15,462,452[2]\n",
       "1          Moscow[a]     12,195,221\n",
       "2             London      9,126,366\n",
       "3   Saint Petersburg      5,383,890\n",
       "4             Berlin      3,748,148\n",
       "5             Madrid      3,223,334\n",
       "6               Kyiv      2,950,800\n",
       "7               Rome      2,844,750\n",
       "8          Bucharest      2,155,240\n",
       "9              Paris      2,140,526\n",
       "10             Minsk      1,982,444\n",
       "11            Vienna      1,921,153"
      ]
     },
     "execution_count": 160,
     "metadata": {},
     "output_type": "execute_result"
    }
   ],
   "source": [
    "table"
   ]
  }
 ],
 "metadata": {
  "kernelspec": {
   "display_name": "Python 3",
   "language": "python",
   "name": "python3"
  },
  "language_info": {
   "codemirror_mode": {
    "name": "ipython",
    "version": 3
   },
   "file_extension": ".py",
   "mimetype": "text/x-python",
   "name": "python",
   "nbconvert_exporter": "python",
   "pygments_lexer": "ipython3",
   "version": "3.8.8"
  }
 },
 "nbformat": 4,
 "nbformat_minor": 5
}
