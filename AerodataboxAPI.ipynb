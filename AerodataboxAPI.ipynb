{
 "cells": [
  {
   "cell_type": "code",
   "execution_count": 1,
   "id": "8f9cf8ef-40f1-4ef7-91e0-6e25ca2f7818",
   "metadata": {},
   "outputs": [],
   "source": [
    "import datetime\n",
    "from IPython.display import JSON\n",
    "import pandas as pd\n",
    "import requests\n",
    "import API_keys\n",
    "import awswrangler as wr\n",
    "import sqlalchemy"
   ]
  },
  {
   "cell_type": "code",
   "execution_count": 2,
   "id": "9cd197ac-1034-45de-8cb6-41fab4633d22",
   "metadata": {},
   "outputs": [],
   "source": [
    "def get_cities_dataframe():\n",
    "    cities = pd.read_csv('data/cities.csv')\n",
    "    return cities[:1]"
   ]
  },
  {
   "cell_type": "code",
   "execution_count": 3,
   "id": "d743c168-dd95-49b1-bec7-2d302e157539",
   "metadata": {},
   "outputs": [],
   "source": [
    "def get_jsons_from_AerodataboxAPI(icao):\n",
    "    today = datetime.date.today()\n",
    "    tomorrow = str(today + datetime.timedelta(days=1))\n",
    "    \n",
    "    times = [[\"00:00\",\"11:59\"],[\"12:00\",\"23:59\"]]\n",
    "    jsons = []\n",
    "    for time in times:\n",
    "        url = f\"https://aerodatabox.p.rapidapi.com/flights/airports/icao/{icao}/{tomorrow}T{time[0]}/{tomorrow}T{time[1]}\"\n",
    "\n",
    "        querystring = {\"withLeg\":\"true\",\"direction\":\"Arrival\",\"withCancelled\":\"false\",\"withCodeshared\":\"true\",\"withCargo\":\"false\",\"withPrivate\":\"false\",\"withLocation\":\"false\"}\n",
    "\n",
    "        headers = {\n",
    "            'x-rapidapi-host': \"aerodatabox.p.rapidapi.com\",\n",
    "            'x-rapidapi-key': API_keys.Airports_key\n",
    "            }\n",
    "\n",
    "        jsons.append(requests.request(\"GET\", url, headers=headers, params=querystring).json())\n",
    "    return jsons"
   ]
  },
  {
   "cell_type": "code",
   "execution_count": 8,
   "id": "52d93133-5d6a-4c1e-8d20-49ef36fb50f3",
   "metadata": {},
   "outputs": [],
   "source": [
    "def create_dictionary_from_json(jsons):\n",
    "    dictionary = {\"From_city\":[],\"Arrival_Local_time\":[], \"Arrival_UTC_time\":[],\"Terminal\":[],\"Airline\":[],\"Flight_number\":[],\"Aircraft_model\":[]}\n",
    "    for j in jsons:\n",
    "        for flight in j['arrivals']:\n",
    "            try:\n",
    "                dictionary[\"From_city\"].append(flight['departure'][\"airport\"]['name'])\n",
    "            except:\n",
    "                dictionary[\"From_city\"].append(\"Unknown\")\n",
    "            try:\n",
    "                dictionary[\"Arrival_Local_time\"].append(flight['arrival'][\"scheduledTimeLocal\"][:-6])\n",
    "            except:\n",
    "                dictionary[\"Arrival_Local_time\"].append(\"Unknown\")\n",
    "            try:\n",
    "                dictionary[\"Arrival_UTC_time\"].append(flight['arrival'][\"scheduledTimeUtc\"][:-1])\n",
    "            except:\n",
    "                dictionary[\"Arrival_UTC_time\"].append(\"Unknown\")\n",
    "            try:\n",
    "                dictionary[\"Terminal\"].append(flight['arrival'][\"terminal\"])\n",
    "            except:\n",
    "                dictionary[\"Terminal\"].append(\"Unknown\")\n",
    "            try:\n",
    "                dictionary[\"Airline\"].append(flight['airline'][\"name\"])\n",
    "            except:\n",
    "                dictionary[\"Airline\"].append(\"Unknown\")\n",
    "            try:\n",
    "                dictionary[\"Flight_number\"].append(flight['number'])\n",
    "            except:\n",
    "                dictionary[\"Flight_number\"].append(\"Unknown\")\n",
    "            try:\n",
    "                dictionary[\"Aircraft_model\"].append(flight['aircraft'][\"model\"])\n",
    "            except:\n",
    "                dictionary[\"Aircraft_model\"].append(\"Unknown\")\n",
    "    return dictionary"
   ]
  },
  {
   "cell_type": "code",
   "execution_count": 9,
   "id": "8768e809-d052-4e80-96e2-2507ce99327a",
   "metadata": {},
   "outputs": [],
   "source": [
    "def create_dataframe_from_dictionaries(dictionary):\n",
    "    flights = pd.DataFrame.from_dict(dictionary)\n",
    "    return flights"
   ]
  },
  {
   "cell_type": "code",
   "execution_count": 10,
   "id": "7513a440-6de4-4359-a7c6-e62d2d18fb84",
   "metadata": {},
   "outputs": [],
   "source": [
    "def get_all_info(cities):\n",
    "    big_table = pd.DataFrame()\n",
    "    for index, city in cities.iterrows():\n",
    "        jsons = get_jsons_from_AerodataboxAPI(city['icao'])\n",
    "        dictionary = create_dictionary_from_json(jsons)\n",
    "        dataframe = create_dataframe_from_dictionaries(dictionary)\n",
    "        dataframe = dataframe.assign(CityCountry = city['CityCountry'])\n",
    "        dataframe = dataframe.assign(icao = city['icao'])\n",
    "        dataframe[\"Arrival_Local_time\"] = pd.to_datetime(dataframe[\"Arrival_Local_time\"])\n",
    "        dataframe[\"Arrival_UTC_time\"] = pd.to_datetime(dataframe[\"Arrival_UTC_time\"])\n",
    "    big_table = big_table.append(dataframe,ignore_index=True)\n",
    "    return big_table"
   ]
  },
  {
   "cell_type": "code",
   "execution_count": 20,
   "id": "c624a501-7fc0-413b-b655-ceb49e22c165",
   "metadata": {},
   "outputs": [],
   "source": [
    "def create_mysql_table(big_table):\n",
    "    schema=\"gans\"\n",
    "    host=\"127.0.0.1\"\n",
    "    user=\"root\"\n",
    "    password=API_keys.mysqlPassword\n",
    "    port=3306\n",
    "    con = f'mysql+pymysql://{user}:{password}@{host}:{port}/{schema}'\n",
    "    big_table.to_sql('flights',con=con,if_exists='append',index=False)"
   ]
  },
  {
   "cell_type": "code",
   "execution_count": 19,
   "id": "cacba498-66bc-46f4-a598-24657e7da390",
   "metadata": {},
   "outputs": [],
   "source": [
    "create_mysql_table(get_all_info(get_cities_dataframe()))"
   ]
  }
 ],
 "metadata": {
  "kernelspec": {
   "display_name": "Python 3",
   "language": "python",
   "name": "python3"
  },
  "language_info": {
   "codemirror_mode": {
    "name": "ipython",
    "version": 3
   },
   "file_extension": ".py",
   "mimetype": "text/x-python",
   "name": "python",
   "nbconvert_exporter": "python",
   "pygments_lexer": "ipython3",
   "version": "3.8.8"
  }
 },
 "nbformat": 4,
 "nbformat_minor": 5
}
