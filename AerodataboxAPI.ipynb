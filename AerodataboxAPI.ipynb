{
 "cells": [
  {
   "cell_type": "code",
   "execution_count": 2,
   "id": "8f9cf8ef-40f1-4ef7-91e0-6e25ca2f7818",
   "metadata": {},
   "outputs": [],
   "source": [
    "import datetime\n",
    "from IPython.display import JSON\n",
    "import pandas as pd\n",
    "import requests\n",
    "import API_keys"
   ]
  },
  {
   "cell_type": "code",
   "execution_count": 19,
   "id": "9cd197ac-1034-45de-8cb6-41fab4633d22",
   "metadata": {},
   "outputs": [],
   "source": [
    "def get_cities_dataframe():\n",
    "    cities = pd.read_csv('data/cities.csv')\n",
    "    return cities"
   ]
  },
  {
   "cell_type": "code",
   "execution_count": null,
   "id": "de88d999-8a8b-4daf-8648-50deb00a8083",
   "metadata": {},
   "outputs": [],
   "source": [
    "def get_all_jsons(cities):\n",
    "    icao = []\n",
    "    icao = cities "
   ]
  },
  {
   "cell_type": "code",
   "execution_count": 4,
   "id": "31c2e77a-1766-4147-8bcd-b01917d81089",
   "metadata": {},
   "outputs": [],
   "source": [
    "# cities = pd.read_csv('data/cities.csv')"
   ]
  },
  {
   "cell_type": "code",
   "execution_count": 5,
   "id": "211aa580-a853-4b5f-bcf1-3fab0e2ac171",
   "metadata": {},
   "outputs": [
    {
     "data": {
      "text/html": [
       "<div>\n",
       "<style scoped>\n",
       "    .dataframe tbody tr th:only-of-type {\n",
       "        vertical-align: middle;\n",
       "    }\n",
       "\n",
       "    .dataframe tbody tr th {\n",
       "        vertical-align: top;\n",
       "    }\n",
       "\n",
       "    .dataframe thead th {\n",
       "        text-align: right;\n",
       "    }\n",
       "</style>\n",
       "<table border=\"1\" class=\"dataframe\">\n",
       "  <thead>\n",
       "    <tr style=\"text-align: right;\">\n",
       "      <th></th>\n",
       "      <th>City</th>\n",
       "      <th>Country</th>\n",
       "      <th>Population</th>\n",
       "      <th>Country_code</th>\n",
       "      <th>CityCountry</th>\n",
       "      <th>name</th>\n",
       "      <th>iso_country</th>\n",
       "      <th>gps_code</th>\n",
       "    </tr>\n",
       "  </thead>\n",
       "  <tbody>\n",
       "    <tr>\n",
       "      <th>0</th>\n",
       "      <td>Istanbul</td>\n",
       "      <td>Turkey</td>\n",
       "      <td>15462452</td>\n",
       "      <td>TR</td>\n",
       "      <td>Istanbul, TR</td>\n",
       "      <td>İstanbul Airport</td>\n",
       "      <td>TR</td>\n",
       "      <td>LTFM</td>\n",
       "    </tr>\n",
       "  </tbody>\n",
       "</table>\n",
       "</div>"
      ],
      "text/plain": [
       "       City Country  Population Country_code   CityCountry              name  \\\n",
       "0  Istanbul  Turkey    15462452           TR  Istanbul, TR  İstanbul Airport   \n",
       "\n",
       "  iso_country gps_code  \n",
       "0          TR     LTFM  "
      ]
     },
     "execution_count": 5,
     "metadata": {},
     "output_type": "execute_result"
    }
   ],
   "source": [
    "# cities.head(1)"
   ]
  },
  {
   "cell_type": "code",
   "execution_count": 11,
   "id": "d743c168-dd95-49b1-bec7-2d302e157539",
   "metadata": {},
   "outputs": [],
   "source": [
    "def get_jsons_from_AerodataboxAPI(icao):\n",
    "    today = datetime.date.today()\n",
    "    tomorrow = str(today + datetime.timedelta(days=1))\n",
    "    \n",
    "    times = [[\"00:00\",\"11:59\"],[\"12:00\",\"23:59\"]]\n",
    "    jsons = []\n",
    "    for time in times:\n",
    "        url = f\"https://aerodatabox.p.rapidapi.com/flights/airports/icao/EDDB/{tomorrow}T{time[0]}/{tomorrow}T{time[1]}\"\n",
    "\n",
    "        querystring = {\"withLeg\":\"true\",\"direction\":\"Arrival\",\"withCancelled\":\"false\",\"withCodeshared\":\"true\",\"withCargo\":\"false\",\"withPrivate\":\"false\",\"withLocation\":\"false\"}\n",
    "\n",
    "        headers = {\n",
    "            'x-rapidapi-host': \"aerodatabox.p.rapidapi.com\",\n",
    "            'x-rapidapi-key': API_keys.Airports_key\n",
    "            }\n",
    "\n",
    "        jsons.append(requests.request(\"GET\", url, headers=headers, params=querystring).json())\n",
    "    return jsons"
   ]
  },
  {
   "cell_type": "code",
   "execution_count": 8,
   "id": "e41ccbeb-eb3a-4741-b605-e3ac2adde765",
   "metadata": {},
   "outputs": [],
   "source": [
    "\n",
    "# url = f\"https://aerodatabox.p.rapidapi.com/flights/airports/icao/EDDB/{tomorrow}T00:00/{tomorrow}T11:59\"\n",
    "\n",
    "# querystring = {\"withLeg\":\"true\",\"direction\":\"Arrival\",\"withCancelled\":\"false\",\"withCodeshared\":\"true\",\"withCargo\":\"false\",\"withPrivate\":\"false\",\"withLocation\":\"false\"}\n",
    "\n",
    "# headers = {\n",
    "#     'x-rapidapi-host': \"aerodatabox.p.rapidapi.com\",\n",
    "#     'x-rapidapi-key': API_keys.Airports_key\n",
    "#     }\n",
    "\n",
    "# response = requests.request(\"GET\", url, headers=headers, params=querystring)"
   ]
  },
  {
   "cell_type": "code",
   "execution_count": 9,
   "id": "7874b472-3a02-4959-92d6-4d0b43694431",
   "metadata": {},
   "outputs": [],
   "source": [
    "# url = f\"https://aerodatabox.p.rapidapi.com/flights/airports/icao/EDDB/{tomorrow}T12:00/{tomorrow}T23:59\"\n",
    "\n",
    "# querystring = {\"withLeg\":\"true\",\"direction\":\"Arrival\",\"withCancelled\":\"false\",\"withCodeshared\":\"true\",\"withCargo\":\"false\",\"withPrivate\":\"false\",\"withLocation\":\"false\"}\n",
    "\n",
    "# headers = {\n",
    "#     'x-rapidapi-host': \"aerodatabox.p.rapidapi.com\",\n",
    "#     'x-rapidapi-key': API_keys.Airports_key\n",
    "#     }\n",
    "\n",
    "# response2 = requests.request(\"GET\", url, headers=headers, params=querystring)"
   ]
  },
  {
   "cell_type": "code",
   "execution_count": 10,
   "id": "85fd4d33-2624-417e-a97d-dbe796782f48",
   "metadata": {},
   "outputs": [],
   "source": [
    "# flights_json = response.json()\n",
    "# flights2_json = response2.json()\n",
    "# jsons= [flights_json,flights2_json]"
   ]
  },
  {
   "cell_type": "code",
   "execution_count": 13,
   "id": "52d93133-5d6a-4c1e-8d20-49ef36fb50f3",
   "metadata": {},
   "outputs": [],
   "source": [
    "def create_dictionary_from_json(jsons):\n",
    "    dictionary = {\"From\":[],\"Arrival (Local time)\":[], \"Arrival (UTC time)\":[],\"Terminal\":[],\"Airline\":[],\"Flight number\":[],\"Aircraft model\":[]}\n",
    "    for j in jsons:\n",
    "        for flight in j['arrivals']:\n",
    "            try:\n",
    "                dictionary[\"From\"].append(flight['departure'][\"airport\"]['name'])\n",
    "            except:\n",
    "                dictionary[\"From\"].append(\"Unknown\")\n",
    "            try:\n",
    "                dictionary[\"Arrival (Local time)\"].append(flight['arrival'][\"scheduledTimeLocal\"][10:-6])\n",
    "            except:\n",
    "                dictionary[\"Arrival (Local time)\"].append(\"Unknown\")\n",
    "            try:\n",
    "                dictionary[\"Arrival (UTC time)\"].append(flight['arrival'][\"scheduledTimeUtc\"][10:-1])\n",
    "            except:\n",
    "                dictionary[\"Arrival (UTC time)\"].append(\"Unknown\")\n",
    "            try:\n",
    "                dictionary[\"Terminal\"].append(flight['arrival'][\"terminal\"])\n",
    "            except:\n",
    "                dictionary[\"Terminal\"].append(\"Unknown\")\n",
    "            try:\n",
    "                dictionary[\"Airline\"].append(flight['airline'][\"name\"])\n",
    "            except:\n",
    "                dictionary[\"Airline\"].append(\"Unknown\")\n",
    "            try:\n",
    "                dictionary[\"Flight number\"].append(flight['number'])\n",
    "            except:\n",
    "                dictionary[\"Flight number\"].append(\"Unknown\")\n",
    "            try:\n",
    "                dictionary[\"Aircraft model\"].append(flight['aircraft'][\"model\"])\n",
    "            except:\n",
    "                dictionary[\"Aircraft model\"].append(\"Unknown\")\n",
    "    return dictionary"
   ]
  },
  {
   "cell_type": "code",
   "execution_count": 10,
   "id": "09dbb11c-ed59-435b-b3cd-5cca8b4920b2",
   "metadata": {},
   "outputs": [],
   "source": [
    "# flights = pd.DataFrame.from_dict(dictionary)"
   ]
  },
  {
   "cell_type": "code",
   "execution_count": 14,
   "id": "8768e809-d052-4e80-96e2-2507ce99327a",
   "metadata": {},
   "outputs": [],
   "source": [
    "def create_dataframe_from_dictionaries(dictionary):\n",
    "    flights = pd.DataFrame.from_dict(dictionary)\n",
    "    return flights"
   ]
  },
  {
   "cell_type": "code",
   "execution_count": 15,
   "id": "4c9b962c-2fdf-4605-9127-19f5c554a16c",
   "metadata": {},
   "outputs": [],
   "source": [
    "# flights"
   ]
  },
  {
   "cell_type": "markdown",
   "id": "15febeaa-3a13-4223-ada0-f57d74e5eb3d",
   "metadata": {},
   "source": [
    "## Create pipeline"
   ]
  },
  {
   "cell_type": "code",
   "execution_count": null,
   "id": "43cb365a-2d60-4c47-9663-dae36b1cb3b0",
   "metadata": {},
   "outputs": [],
   "source": [
    "p = (get_cities_dataframe()\n",
    "     .pipe(clean_unit_price)\n",
    "     .pipe(tofloat,col_to_float)\n",
    "     .pipe(change_col_name,old,new)\n",
    "     .pipe(delete_orderlines_not_in_orders)\n",
    "     .pipe(create_total_sum)\n",
    "     .pipe(deleting_outliers,orders)\n",
    ")"
   ]
  }
 ],
 "metadata": {
  "kernelspec": {
   "display_name": "Python 3",
   "language": "python",
   "name": "python3"
  },
  "language_info": {
   "codemirror_mode": {
    "name": "ipython",
    "version": 3
   },
   "file_extension": ".py",
   "mimetype": "text/x-python",
   "name": "python",
   "nbconvert_exporter": "python",
   "pygments_lexer": "ipython3",
   "version": "3.8.8"
  }
 },
 "nbformat": 4,
 "nbformat_minor": 5
}
