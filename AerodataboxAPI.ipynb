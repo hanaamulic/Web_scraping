{
 "cells": [
  {
   "cell_type": "code",
   "execution_count": 1,
   "id": "8f9cf8ef-40f1-4ef7-91e0-6e25ca2f7818",
   "metadata": {},
   "outputs": [],
   "source": [
    "import datetime\n",
    "from IPython.display import JSON\n",
    "import pandas as pd\n",
    "import requests\n",
    "import API_keys\n",
    "import awswrangler as wr\n",
    "import sqlalchemy"
   ]
  },
  {
   "cell_type": "code",
   "execution_count": 2,
   "id": "9cd197ac-1034-45de-8cb6-41fab4633d22",
   "metadata": {},
   "outputs": [],
   "source": [
    "def get_cities_dataframe():\n",
    "    cities = pd.read_csv('data/cities.csv')\n",
    "    return cities[:1]"
   ]
  },
  {
   "cell_type": "code",
   "execution_count": 69,
   "id": "a784d576-1756-4dc3-9440-232f32b39413",
   "metadata": {},
   "outputs": [],
   "source": [
    "cities = get_cities_dataframe()"
   ]
  },
  {
   "cell_type": "code",
   "execution_count": 53,
   "id": "211aa580-a853-4b5f-bcf1-3fab0e2ac171",
   "metadata": {},
   "outputs": [],
   "source": [
    "jsons = get_jsons_from_AerodataboxAPI(cities['icao'].iloc[0])"
   ]
  },
  {
   "cell_type": "code",
   "execution_count": 54,
   "id": "7a1158bb-3171-4c5e-b350-762eef2cb084",
   "metadata": {},
   "outputs": [
    {
     "data": {
      "application/json": {
       "arrivals": [
        {
         "aircraft": {
          "model": "Airbus A321"
         },
         "airline": {
          "name": "Aeroflot"
         },
         "arrival": {
          "quality": [
           "Basic"
          ],
          "scheduledTimeLocal": "2021-11-27 01:35+03:00",
          "scheduledTimeUtc": "2021-11-26 22:35Z"
         },
         "codeshareStatus": "IsOperator",
         "departure": {
          "airport": {
           "name": "Moscow"
          },
          "quality": []
         },
         "isCargo": false,
         "number": "SU 2134",
         "status": "Unknown"
        },
        {
         "aircraft": {
          "model": "Airbus A330-300"
         },
         "airline": {
          "name": "Turkish"
         },
         "arrival": {
          "quality": [
           "Basic"
          ],
          "scheduledTimeLocal": "2021-11-27 05:35+03:00",
          "scheduledTimeUtc": "2021-11-27 02:35Z"
         },
         "codeshareStatus": "Unknown",
         "departure": {
          "airport": {
           "name": "Cape Town"
          },
          "quality": []
         },
         "isCargo": false,
         "number": "TK 45",
         "status": "Unknown"
        },
        {
         "aircraft": {
          "model": "Boeing 737-800"
         },
         "airline": {
          "name": "Turkish"
         },
         "arrival": {
          "quality": [
           "Basic"
          ],
          "scheduledTimeLocal": "2021-11-27 06:10+03:00",
          "scheduledTimeUtc": "2021-11-27 03:10Z"
         },
         "codeshareStatus": "Unknown",
         "departure": {
          "airport": {
           "name": "Nur-Sultan (Astana)"
          },
          "quality": []
         },
         "isCargo": false,
         "number": "TK 355",
         "status": "Unknown"
        },
        {
         "aircraft": {
          "model": "Airbus A330-200"
         },
         "airline": {
          "name": "Turkish"
         },
         "arrival": {
          "quality": [
           "Basic"
          ],
          "scheduledTimeLocal": "2021-11-27 06:35+03:00",
          "scheduledTimeUtc": "2021-11-27 03:35Z"
         },
         "codeshareStatus": "Unknown",
         "departure": {
          "airport": {
           "name": "Istanbul"
          },
          "quality": []
         },
         "isCargo": false,
         "number": "TK 583",
         "status": "Unknown"
        },
        {
         "aircraft": {
          "model": "Boeing 737"
         },
         "airline": {
          "name": "Turkish"
         },
         "arrival": {
          "quality": [
           "Basic"
          ],
          "scheduledTimeLocal": "2021-11-27 06:05+03:00",
          "scheduledTimeUtc": "2021-11-27 03:05Z"
         },
         "codeshareStatus": "Unknown",
         "departure": {
          "airport": {
           "name": "Muscat"
          },
          "quality": []
         },
         "isCargo": false,
         "number": "TK 775",
         "status": "Unknown"
        },
        {
         "aircraft": {
          "model": "Airbus A321"
         },
         "airline": {
          "name": "Turkish"
         },
         "arrival": {
          "quality": [
           "Basic"
          ],
          "scheduledTimeLocal": "2021-11-27 09:20+03:00",
          "scheduledTimeUtc": "2021-11-27 06:20Z"
         },
         "codeshareStatus": "Unknown",
         "departure": {
          "airport": {
           "name": "Samarkand"
          },
          "quality": []
         },
         "isCargo": false,
         "number": "TK 373",
         "status": "Unknown"
        },
        {
         "aircraft": {
          "model": "Boeing 737-800"
         },
         "airline": {
          "name": "Pobeda"
         },
         "arrival": {
          "quality": [
           "Basic"
          ],
          "scheduledTimeLocal": "2021-11-27 11:50+03:00",
          "scheduledTimeUtc": "2021-11-27 08:50Z"
         },
         "codeshareStatus": "Unknown",
         "departure": {
          "airport": {
           "name": "Moscow"
          },
          "quality": []
         },
         "isCargo": false,
         "number": "DP 6103",
         "status": "Unknown"
        },
        {
         "aircraft": {
          "model": "Boeing 737-800"
         },
         "airline": {
          "name": "Turkish"
         },
         "arrival": {
          "quality": [
           "Basic"
          ],
          "scheduledTimeLocal": "2021-11-27 00:05+03:00",
          "scheduledTimeUtc": "2021-11-26 21:05Z"
         },
         "codeshareStatus": "Unknown",
         "departure": {
          "airport": {
           "iata": "PRN",
           "icao": "BKPR",
           "name": "Prishtina"
          },
          "quality": [
           "Basic"
          ],
          "scheduledTimeLocal": "2021-11-26 20:25+01:00",
          "scheduledTimeUtc": "2021-11-26 19:25Z"
         },
         "isCargo": false,
         "number": "TK 1020",
         "status": "Unknown"
        },
        {
         "aircraft": {
          "model": "Boeing 737-800"
         },
         "airline": {
          "name": "Corendon Air"
         },
         "arrival": {
          "quality": [
           "Basic"
          ],
          "scheduledTimeLocal": "2021-11-27 04:10+03:00",
          "scheduledTimeUtc": "2021-11-27 01:10Z"
         },
         "codeshareStatus": "Unknown",
         "departure": {
          "airport": {
           "iata": "OUA",
           "icao": "DFFD",
           "name": "Ouagadougou"
          },
          "quality": [
           "Basic"
          ],
          "scheduledTimeLocal": "2021-11-26 19:00+00:00",
          "scheduledTimeUtc": "2021-11-26 19:00Z"
         },
         "isCargo": false,
         "number": "XC 992",
         "status": "Unknown"
        },
        {
         "aircraft": {
          "model": "Airbus A330-300"
         },
         "airline": {
          "name": "Turkish"
         },
         "arrival": {
          "quality": [
           "Basic"
          ],
          "scheduledTimeLocal": "2021-11-27 10:10+03:00",
          "scheduledTimeUtc": "2021-11-27 07:10Z"
         },
         "codeshareStatus": "Unknown",
         "departure": {
          "airport": {
           "iata": "OUA",
           "icao": "DFFD",
           "name": "Ouagadougou"
          },
          "quality": [
           "Basic"
          ],
          "scheduledTimeLocal": "2021-11-27 01:05+00:00",
          "scheduledTimeUtc": "2021-11-27 01:05Z"
         },
         "isCargo": false,
         "number": "TK 538",
         "status": "Unknown"
        },
        {
         "aircraft": {
          "model": "Boeing 737-900"
         },
         "airline": {
          "name": "Turkish"
         },
         "arrival": {
          "quality": [
           "Basic"
          ],
          "scheduledTimeLocal": "2021-11-27 06:05+03:00",
          "scheduledTimeUtc": "2021-11-27 03:05Z"
         },
         "codeshareStatus": "Unknown",
         "departure": {
          "airport": {
           "iata": "ACC",
           "icao": "DGAA",
           "name": "Accra"
          },
          "quality": [
           "Basic"
          ],
          "scheduledTimeLocal": "2021-11-26 20:10+00:00",
          "scheduledTimeUtc": "2021-11-26 20:10Z",
          "terminal": "3"
         },
         "isCargo": false,
         "number": "TK 630",
         "status": "Unknown"
        },
        {
         "aircraft": {
          "model": "Boeing 737-900"
         },
         "airline": {
          "name": "Turkish"
         },
         "arrival": {
          "quality": [
           "Basic"
          ],
          "scheduledTimeLocal": "2021-11-27 11:55+03:00",
          "scheduledTimeUtc": "2021-11-27 08:55Z"
         },
         "codeshareStatus": "Unknown",
         "departure": {
          "airport": {
           "iata": "ABJ",
           "icao": "DIAP",
           "name": "Abidjan"
          },
          "quality": [
           "Basic"
          ],
          "scheduledTimeLocal": "2021-11-27 01:50+00:00",
          "scheduledTimeUtc": "2021-11-27 01:50Z"
         },
         "isCargo": false,
         "number": "TK 559",
         "status": "Unknown"
        },
        {
         "aircraft": {
          "model": "Airbus A330-200"
         },
         "airline": {
          "name": "Turkish"
         },
         "arrival": {
          "quality": [
           "Basic"
          ],
          "scheduledTimeLocal": "2021-11-27 06:15+03:00",
          "scheduledTimeUtc": "2021-11-27 03:15Z"
         },
         "codeshareStatus": "Unknown",
         "departure": {
          "airport": {
           "iata": "ABV",
           "icao": "DNAA",
           "name": "Abuja"
          },
          "quality": [
           "Basic"
          ],
          "scheduledTimeLocal": "2021-11-26 22:00+01:00",
          "scheduledTimeUtc": "2021-11-26 21:00Z",
          "terminal": "0"
         },
         "isCargo": false,
         "number": "TK 624",
         "status": "Unknown"
        },
        {
         "aircraft": {
          "model": "Airbus A330-300"
         },
         "airline": {
          "name": "Turkish"
         },
         "arrival": {
          "quality": [
           "Basic"
          ],
          "scheduledTimeLocal": "2021-11-27 06:00+03:00",
          "scheduledTimeUtc": "2021-11-27 03:00Z"
         },
         "codeshareStatus": "Unknown",
         "departure": {
          "airport": {
           "iata": "LOS",
           "icao": "DNMM",
           "name": "Lagos"
          },
          "quality": [
           "Basic"
          ],
          "scheduledTimeLocal": "2021-11-26 21:30+01:00",
          "scheduledTimeUtc": "2021-11-26 20:30Z",
          "terminal": "I"
         },
         "isCargo": false,
         "number": "TK 626",
         "status": "Unknown"
        },
        {
         "aircraft": {
          "model": "Airbus A321"
         },
         "airline": {
          "name": "Turkish"
         },
         "arrival": {
          "quality": [
           "Basic"
          ],
          "scheduledTimeLocal": "2021-11-27 00:15+03:00",
          "scheduledTimeUtc": "2021-11-26 21:15Z"
         },
         "codeshareStatus": "Unknown",
         "departure": {
          "actualTimeLocal": "2021-11-26 17:15+00:00",
          "actualTimeUtc": "2021-11-26 17:15Z",
          "airport": {
           "iata": "LGW",
           "icao": "EGKK",
           "name": "London"
          },
          "quality": [
           "Basic",
           "Live"
          ],
          "scheduledTimeLocal": "2021-11-26 17:15+00:00",
          "scheduledTimeUtc": "2021-11-26 17:15Z",
          "terminal": "N"
         },
         "isCargo": false,
         "number": "TK 1998",
         "status": "Unknown"
        },
        {
         "aircraft": {
          "model": "Airbus A350-900"
         },
         "airline": {
          "name": "Turkish"
         },
         "arrival": {
          "quality": [
           "Basic"
          ],
          "scheduledTimeLocal": "2021-11-27 00:30+03:00",
          "scheduledTimeUtc": "2021-11-26 21:30Z"
         },
         "codeshareStatus": "Unknown",
         "departure": {
          "actualTimeLocal": "2021-11-26 17:40+00:00",
          "actualTimeUtc": "2021-11-26 17:40Z",
          "airport": {
           "iata": "LHR",
           "icao": "EGLL",
           "name": "London"
          },
          "checkInDesk": "A",
          "quality": [
           "Basic",
           "Live"
          ],
          "scheduledTimeLocal": "2021-11-26 17:40+00:00",
          "scheduledTimeUtc": "2021-11-26 17:40Z",
          "terminal": "2"
         },
         "isCargo": false,
         "number": "TK 1972",
         "status": "Unknown"
        },
        {
         "aircraft": {
          "model": "Airbus A321"
         },
         "airline": {
          "name": "Turkish"
         },
         "arrival": {
          "quality": [
           "Basic"
          ],
          "scheduledTimeLocal": "2021-11-27 04:00+03:00",
          "scheduledTimeUtc": "2021-11-27 01:00Z"
         },
         "codeshareStatus": "Unknown",
         "departure": {
          "actualTimeLocal": "2021-11-26 21:10+00:00",
          "actualTimeUtc": "2021-11-26 21:10Z",
          "airport": {
           "iata": "LHR",
           "icao": "EGLL",
           "name": "London"
          },
          "checkInDesk": "A",
          "quality": [
           "Basic",
           "Live"
          ],
          "scheduledTimeLocal": "2021-11-26 21:10+00:00",
          "scheduledTimeUtc": "2021-11-26 21:10Z",
          "terminal": "2"
         },
         "isCargo": false,
         "number": "TK 1984",
         "status": "Unknown"
        },
        {
         "aircraft": {
          "model": "Airbus A321"
         },
         "airline": {
          "name": "Turkish"
         },
         "arrival": {
          "quality": [
           "Basic"
          ],
          "scheduledTimeLocal": "2021-11-27 04:20+03:00",
          "scheduledTimeUtc": "2021-11-27 01:20Z"
         },
         "codeshareStatus": "Unknown",
         "departure": {
          "airport": {
           "iata": "AMS",
           "icao": "EHAM",
           "name": "Amsterdam"
          },
          "checkInDesk": "25",
          "gate": "E18",
          "quality": [
           "Basic"
          ],
          "scheduledTimeLocal": "2021-11-26 23:05+01:00",
          "scheduledTimeUtc": "2021-11-26 22:05Z",
          "terminal": "3"
         },
         "isCargo": false,
         "number": "TK 1956",
         "status": "Unknown"
        },
        {
         "aircraft": {
          "model": "Airbus A330-300"
         },
         "airline": {
          "name": "Turkish"
         },
         "arrival": {
          "quality": [
           "Basic"
          ],
          "scheduledTimeLocal": "2021-11-27 00:20+03:00",
          "scheduledTimeUtc": "2021-11-26 21:20Z"
         },
         "codeshareStatus": "Unknown",
         "departure": {
          "actualTimeLocal": "2021-11-26 16:55+00:00",
          "actualTimeUtc": "2021-11-26 16:55Z",
          "airport": {
           "iata": "DUB",
           "icao": "EIDW",
           "name": "Dublin"
          },
          "checkInDesk": "1401-1405",
          "gate": "305",
          "quality": [
           "Basic",
           "Live"
          ],
          "scheduledTimeLocal": "2021-11-26 16:55+00:00",
          "scheduledTimeUtc": "2021-11-26 16:55Z",
          "terminal": "T1"
         },
         "isCargo": false,
         "number": "TK 1978",
         "status": "Unknown"
        },
        {
         "aircraft": {
          "model": "Boeing 737"
         },
         "airline": {
          "name": "Turkish"
         },
         "arrival": {
          "quality": [
           "Basic"
          ],
          "scheduledTimeLocal": "2021-11-27 00:20+03:00",
          "scheduledTimeUtc": "2021-11-26 21:20Z"
         },
         "codeshareStatus": "Unknown",
         "departure": {
          "airport": {
           "iata": "VNO",
           "icao": "EYVI",
           "name": "Vilnius"
          },
          "quality": [
           "Basic"
          ],
          "scheduledTimeLocal": "2021-11-26 20:45+02:00",
          "scheduledTimeUtc": "2021-11-26 18:45Z"
         },
         "isCargo": false,
         "number": "TK 1408",
         "status": "Unknown"
        },
        {
         "aircraft": {
          "model": "Airbus A330-300"
         },
         "airline": {
          "name": "Turkish"
         },
         "arrival": {
          "quality": [
           "Basic"
          ],
          "scheduledTimeLocal": "2021-11-27 05:50+03:00",
          "scheduledTimeUtc": "2021-11-27 02:50Z"
         },
         "codeshareStatus": "Unknown",
         "departure": {
          "airport": {
           "iata": "JNB",
           "icao": "FAOR",
           "name": "Jo'anna"
          },
          "quality": [
           "Basic"
          ],
          "scheduledTimeLocal": "2021-11-26 19:15+02:00",
          "scheduledTimeUtc": "2021-11-26 17:15Z",
          "terminal": "A"
         },
         "isCargo": false,
         "number": "TK 43",
         "status": "Unknown"
        },
        {
         "aircraft": {
          "model": "Airbus A330-300"
         },
         "airline": {
          "name": "Turkish"
         },
         "arrival": {
          "quality": [
           "Basic"
          ],
          "scheduledTimeLocal": "2021-11-27 06:05+03:00",
          "scheduledTimeUtc": "2021-11-27 03:05Z"
         },
         "codeshareStatus": "Unknown",
         "departure": {
          "airport": {
           "iata": "MRU",
           "icao": "FIMP",
           "name": "Port Louis"
          },
          "quality": [
           "Basic"
          ],
          "scheduledTimeLocal": "2021-11-26 21:10+04:00",
          "scheduledTimeUtc": "2021-11-26 17:10Z"
         },
         "isCargo": false,
         "number": "TK 177",
         "status": "Unknown"
        },
        {
         "aircraft": {
          "model": "Airbus A330-200"
         },
         "airline": {
          "name": "Turkish"
         },
         "arrival": {
          "quality": [
           "Basic"
          ],
          "scheduledTimeLocal": "2021-11-27 05:50+03:00",
          "scheduledTimeUtc": "2021-11-27 02:50Z"
         },
         "codeshareStatus": "Unknown",
         "departure": {
          "airport": {
           "iata": "LBV",
           "icao": "FOOL",
           "name": "Libreville"
          },
          "quality": [
           "Basic"
          ],
          "scheduledTimeLocal": "2021-11-26 20:30+01:00",
          "scheduledTimeUtc": "2021-11-26 19:30Z"
         },
         "isCargo": false,
         "number": "TK 540",
         "status": "Unknown"
        },
        {
         "aircraft": {
          "model": "Airbus A330-200"
         },
         "airline": {
          "name": "Turkish"
         },
         "arrival": {
          "quality": [
           "Basic"
          ],
          "scheduledTimeLocal": "2021-11-27 11:15+03:00",
          "scheduledTimeUtc": "2021-11-27 08:15Z"
         },
         "codeshareStatus": "Unknown",
         "departure": {
          "airport": {
           "iata": "FIH",
           "icao": "FZAA",
           "name": "Kinshasa"
          },
          "quality": [
           "Basic"
          ],
          "scheduledTimeLocal": "2021-11-27 01:15+01:00",
          "scheduledTimeUtc": "2021-11-27 00:15Z"
         },
         "isCargo": false,
         "number": "TK 672",
         "status": "Unknown"
        },
        {
         "aircraft": {
          "model": "Boeing 737"
         },
         "airline": {
          "name": "Turkish"
         },
         "arrival": {
          "quality": [
           "Basic"
          ],
          "scheduledTimeLocal": "2021-11-27 05:50+03:00",
          "scheduledTimeUtc": "2021-11-27 02:50Z"
         },
         "codeshareStatus": "Unknown",
         "departure": {
          "airport": {
           "iata": "RAK",
           "icao": "GMMX",
           "name": "Marrakech"
          },
          "quality": [
           "Basic"
          ],
          "scheduledTimeLocal": "2021-11-26 22:50+00:00",
          "scheduledTimeUtc": "2021-11-26 22:50Z",
          "terminal": "1"
         },
         "isCargo": false,
         "number": "TK 622",
         "status": "Unknown"
        },
        {
         "aircraft": {
          "model": "Boeing 737-800"
         },
         "airline": {
          "name": "Ethiopian"
         },
         "arrival": {
          "quality": [
           "Basic"
          ],
          "scheduledTimeLocal": "2021-11-27 04:35+03:00",
          "scheduledTimeUtc": "2021-11-27 01:35Z"
         },
         "codeshareStatus": "Unknown",
         "departure": {
          "airport": {
           "iata": "ADD",
           "icao": "HAAB",
           "name": "Addis Ababa"
          },
          "quality": [
           "Basic"
          ],
          "scheduledTimeLocal": "2021-11-26 23:05+03:00",
          "scheduledTimeUtc": "2021-11-26 20:05Z",
          "terminal": "2"
         },
         "isCargo": false,
         "number": "ET 720",
         "status": "Unknown"
        },
        {
         "aircraft": {
          "model": "Airbus A321"
         },
         "airline": {
          "name": "Turkish"
         },
         "arrival": {
          "quality": [
           "Basic"
          ],
          "scheduledTimeLocal": "2021-11-27 07:30+03:00",
          "scheduledTimeUtc": "2021-11-27 04:30Z"
         },
         "codeshareStatus": "Unknown",
         "departure": {
          "airport": {
           "iata": "ADD",
           "icao": "HAAB",
           "name": "Addis Ababa"
          },
          "quality": [
           "Basic"
          ],
          "scheduledTimeLocal": "2021-11-27 01:45+03:00",
          "scheduledTimeUtc": "2021-11-26 22:45Z",
          "terminal": "1"
         },
         "isCargo": false,
         "number": "TK 677",
         "status": "Unknown"
        },
        {
         "aircraft": {
          "model": "Boeing 737"
         },
         "airline": {
          "name": "Turkish"
         },
         "arrival": {
          "quality": [
           "Basic"
          ],
          "scheduledTimeLocal": "2021-11-27 06:55+03:00",
          "scheduledTimeUtc": "2021-11-27 03:55Z"
         },
         "codeshareStatus": "Unknown",
         "departure": {
          "airport": {
           "iata": "HBE",
           "icao": "HEBA",
           "name": "Alexandria"
          },
          "quality": [
           "Basic"
          ],
          "scheduledTimeLocal": "2021-11-27 03:35+02:00",
          "scheduledTimeUtc": "2021-11-27 01:35Z"
         },
         "isCargo": false,
         "number": "TK 697",
         "status": "Unknown"
        },
        {
         "aircraft": {
          "model": "Airbus A321"
         },
         "airline": {
          "name": "Turkish"
         },
         "arrival": {
          "quality": [
           "Basic"
          ],
          "scheduledTimeLocal": "2021-11-27 00:45+03:00",
          "scheduledTimeUtc": "2021-11-26 21:45Z"
         },
         "codeshareStatus": "Unknown",
         "departure": {
          "airport": {
           "iata": "CAI",
           "icao": "HECA",
           "name": "Cairo"
          },
          "quality": [
           "Basic"
          ],
          "scheduledTimeLocal": "2021-11-26 21:25+02:00",
          "scheduledTimeUtc": "2021-11-26 19:25Z",
          "terminal": "3"
         },
         "isCargo": false,
         "number": "TK 695",
         "status": "Unknown"
        },
        {
         "aircraft": {
          "model": "Airbus A320 NEO"
         },
         "airline": {
          "name": "EgyptAir"
         },
         "arrival": {
          "quality": [
           "Basic"
          ],
          "scheduledTimeLocal": "2021-11-27 02:50+03:00",
          "scheduledTimeUtc": "2021-11-26 23:50Z"
         },
         "codeshareStatus": "Unknown",
         "departure": {
          "airport": {
           "iata": "CAI",
           "icao": "HECA",
           "name": "Cairo"
          },
          "quality": [
           "Basic"
          ],
          "scheduledTimeLocal": "2021-11-26 23:30+02:00",
          "scheduledTimeUtc": "2021-11-26 21:30Z",
          "terminal": "3"
         },
         "isCargo": false,
         "number": "MS 745",
         "status": "Unknown"
        },
        {
         "aircraft": {
          "model": "Airbus A321"
         },
         "airline": {
          "name": "Turkish"
         },
         "arrival": {
          "quality": [
           "Basic"
          ],
          "scheduledTimeLocal": "2021-11-27 06:55+03:00",
          "scheduledTimeUtc": "2021-11-27 03:55Z"
         },
         "codeshareStatus": "Unknown",
         "departure": {
          "airport": {
           "iata": "CAI",
           "icao": "HECA",
           "name": "Cairo"
          },
          "quality": [
           "Basic"
          ],
          "scheduledTimeLocal": "2021-11-27 03:35+02:00",
          "scheduledTimeUtc": "2021-11-27 01:35Z",
          "terminal": "3"
         },
         "isCargo": false,
         "number": "TK 693",
         "status": "Unknown"
        },
        {
         "aircraft": {
          "model": "Boeing 737"
         },
         "airline": {
          "name": "Turkish"
         },
         "arrival": {
          "quality": [
           "Basic"
          ],
          "scheduledTimeLocal": "2021-11-27 05:30+03:00",
          "scheduledTimeUtc": "2021-11-27 02:30Z"
         },
         "codeshareStatus": "Unknown",
         "departure": {
          "airport": {
           "iata": "HRG",
           "icao": "HEGN",
           "name": "Hurghada"
          },
          "quality": [
           "Basic"
          ],
          "scheduledTimeLocal": "2021-11-27 01:30+02:00",
          "scheduledTimeUtc": "2021-11-26 23:30Z",
          "terminal": "1"
         },
         "isCargo": false,
         "number": "TK 1430",
         "status": "Unknown"
        },
        {
         "aircraft": {
          "model": "Airbus A321"
         },
         "airline": {
          "name": "Turkish"
         },
         "arrival": {
          "quality": [
           "Basic"
          ],
          "scheduledTimeLocal": "2021-11-27 07:35+03:00",
          "scheduledTimeUtc": "2021-11-27 04:35Z"
         },
         "codeshareStatus": "Unknown",
         "departure": {
          "airport": {
           "iata": "HRG",
           "icao": "HEGN",
           "name": "Hurghada"
          },
          "quality": [
           "Basic"
          ],
          "scheduledTimeLocal": "2021-11-27 03:35+02:00",
          "scheduledTimeUtc": "2021-11-27 01:35Z",
          "terminal": "1"
         },
         "isCargo": false,
         "number": "TK 703",
         "status": "Unknown"
        },
        {
         "aircraft": {
          "model": "Boeing 737"
         },
         "airline": {
          "name": "Turkish"
         },
         "arrival": {
          "quality": [
           "Basic"
          ],
          "scheduledTimeLocal": "2021-11-27 07:50+03:00",
          "scheduledTimeUtc": "2021-11-27 04:50Z"
         },
         "codeshareStatus": "Unknown",
         "departure": {
          "airport": {
           "iata": "SSH",
           "icao": "HESH",
           "name": "Sharm el Sheikh"
          },
          "quality": [
           "Basic"
          ],
          "scheduledTimeLocal": "2021-11-27 03:55+02:00",
          "scheduledTimeUtc": "2021-11-27 01:55Z",
          "terminal": "1"
         },
         "isCargo": false,
         "number": "TK 699",
         "status": "Unknown"
        },
        {
         "aircraft": {
          "model": "Airbus A321"
         },
         "airline": {
          "name": "Turkish"
         },
         "arrival": {
          "quality": [
           "Basic"
          ],
          "scheduledTimeLocal": "2021-11-27 05:55+03:00",
          "scheduledTimeUtc": "2021-11-27 02:55Z"
         },
         "codeshareStatus": "Unknown",
         "departure": {
          "airport": {
           "iata": "ASM",
           "icao": "HHAS",
           "name": "Asmara"
          },
          "quality": [
           "Basic"
          ],
          "scheduledTimeLocal": "2021-11-27 01:15+03:00",
          "scheduledTimeUtc": "2021-11-26 22:15Z"
         },
         "isCargo": false,
         "number": "TK 577",
         "status": "Unknown"
        },
        {
         "aircraft": {
          "model": "Airbus A321"
         },
         "airline": {
          "name": "Turkish"
         },
         "arrival": {
          "quality": [
           "Basic"
          ],
          "scheduledTimeLocal": "2021-11-27 06:20+03:00",
          "scheduledTimeUtc": "2021-11-27 03:20Z"
         },
         "codeshareStatus": "Unknown",
         "departure": {
          "airport": {
           "iata": "KRT",
           "icao": "HSSS",
           "name": "Khartoum"
          },
          "quality": [
           "Basic"
          ],
          "scheduledTimeLocal": "2021-11-27 01:05+02:00",
          "scheduledTimeUtc": "2021-11-26 23:05Z"
         },
         "isCargo": false,
         "number": "TK 681",
         "status": "Unknown"
        },
        {
         "aircraft": {
          "model": "Boeing 777-300ER"
         },
         "airline": {
          "name": "Turkish"
         },
         "arrival": {
          "quality": [
           "Basic"
          ],
          "scheduledTimeLocal": "2021-11-27 06:25+03:00",
          "scheduledTimeUtc": "2021-11-27 03:25Z"
         },
         "codeshareStatus": "Unknown",
         "departure": {
          "airport": {
           "iata": "JFK",
           "icao": "KJFK",
           "name": "New York"
          },
          "quality": [
           "Basic"
          ],
          "scheduledTimeLocal": "2021-11-26 13:10-05:00",
          "scheduledTimeUtc": "2021-11-26 18:10Z",
          "terminal": "1"
         },
         "isCargo": false,
         "number": "TK 4",
         "status": "Unknown"
        },
        {
         "aircraft": {
          "model": "Boeing 787-9"
         },
         "airline": {
          "name": "Turkish"
         },
         "arrival": {
          "quality": [
           "Basic"
          ],
          "scheduledTimeLocal": "2021-11-27 06:15+03:00",
          "scheduledTimeUtc": "2021-11-27 03:15Z"
         },
         "codeshareStatus": "Unknown",
         "departure": {
          "airport": {
           "iata": "MIA",
           "icao": "KMIA",
           "name": "Miami"
          },
          "quality": [
           "Basic"
          ],
          "scheduledTimeLocal": "2021-11-26 11:05-05:00",
          "scheduledTimeUtc": "2021-11-26 16:05Z"
         },
         "isCargo": false,
         "number": "TK 158",
         "status": "Unknown"
        },
        {
         "aircraft": {
          "model": "Boeing 777-300ER"
         },
         "airline": {
          "name": "Turkish"
         },
         "arrival": {
          "quality": [
           "Basic"
          ],
          "scheduledTimeLocal": "2021-11-27 06:45+03:00",
          "scheduledTimeUtc": "2021-11-27 03:45Z"
         },
         "codeshareStatus": "Unknown",
         "departure": {
          "airport": {
           "iata": "ORD",
           "icao": "KORD",
           "name": "Chicago"
          },
          "quality": [
           "Basic"
          ],
          "scheduledTimeLocal": "2021-11-26 11:35-06:00",
          "scheduledTimeUtc": "2021-11-26 17:35Z",
          "terminal": "5"
         },
         "isCargo": false,
         "number": "TK 186",
         "status": "Unknown"
        },
        {
         "aircraft": {
          "model": "Airbus A320"
         },
         "airline": {
          "name": "Turkish"
         },
         "arrival": {
          "quality": [
           "Basic"
          ],
          "scheduledTimeLocal": "2021-11-27 06:55+03:00",
          "scheduledTimeUtc": "2021-11-27 03:55Z"
         },
         "codeshareStatus": "Unknown",
         "departure": {
          "airport": {
           "iata": "ECN",
           "icao": "LCEN",
           "name": "Nicosia"
          },
          "quality": [
           "Basic"
          ],
          "scheduledTimeLocal": "2021-11-27 04:15+02:00",
          "scheduledTimeUtc": "2021-11-27 02:15Z"
         },
         "isCargo": false,
         "number": "TK 965",
         "status": "Unknown"
        },
        {
         "aircraft": {
          "model": "Airbus A321"
         },
         "airline": {
          "name": "Turkish"
         },
         "arrival": {
          "quality": [
           "Basic"
          ],
          "scheduledTimeLocal": "2021-11-27 11:40+03:00",
          "scheduledTimeUtc": "2021-11-27 08:40Z"
         },
         "codeshareStatus": "Unknown",
         "departure": {
          "airport": {
           "iata": "ECN",
           "icao": "LCEN",
           "name": "Nicosia"
          },
          "quality": [
           "Basic"
          ],
          "scheduledTimeLocal": "2021-11-27 09:00+02:00",
          "scheduledTimeUtc": "2021-11-27 07:00Z"
         },
         "isCargo": false,
         "number": "TK 961",
         "status": "Unknown"
        },
        {
         "aircraft": {
          "model": "Boeing 737"
         },
         "airline": {
          "name": "Turkish"
         },
         "arrival": {
          "quality": [
           "Basic"
          ],
          "scheduledTimeLocal": "2021-11-27 00:30+03:00",
          "scheduledTimeUtc": "2021-11-26 21:30Z"
         },
         "codeshareStatus": "Unknown",
         "departure": {
          "airport": {
           "iata": "ZAG",
           "icao": "LDZA",
           "name": "Zagreb"
          },
          "quality": [
           "Basic"
          ],
          "scheduledTimeLocal": "2021-11-26 20:15+01:00",
          "scheduledTimeUtc": "2021-11-26 19:15Z"
         },
         "isCargo": false,
         "number": "TK 1056",
         "status": "Unknown"
        },
        {
         "aircraft": {
          "model": "Airbus A330-300"
         },
         "airline": {
          "name": "Turkish"
         },
         "arrival": {
          "quality": [
           "Basic"
          ],
          "scheduledTimeLocal": "2021-11-27 00:10+03:00",
          "scheduledTimeUtc": "2021-11-26 21:10Z"
         },
         "codeshareStatus": "Unknown",
         "departure": {
          "actualTimeLocal": "2021-11-26 18:00+01:00",
          "actualTimeUtc": "2021-11-26 17:00Z",
          "airport": {
           "iata": "MAD",
           "icao": "LEMD",
           "name": "Madrid"
          },
          "checkInDesk": "308-313",
          "gate": "A",
          "quality": [
           "Basic",
           "Live"
          ],
          "scheduledTimeLocal": "2021-11-26 18:00+01:00",
          "scheduledTimeUtc": "2021-11-26 17:00Z",
          "terminal": "1"
         },
         "isCargo": false,
         "number": "TK 1860",
         "status": "Unknown"
        },
        {
         "aircraft": {
          "model": "Airbus A321"
         },
         "airline": {
          "name": "Turkish"
         },
         "arrival": {
          "quality": [
           "Basic"
          ],
          "scheduledTimeLocal": "2021-11-27 00:05+03:00",
          "scheduledTimeUtc": "2021-11-26 21:05Z"
         },
         "codeshareStatus": "Unknown",
         "departure": {
          "actualTimeLocal": "2021-11-26 17:40+01:00",
          "actualTimeUtc": "2021-11-26 16:40Z",
          "airport": {
           "iata": "AGP",
           "icao": "LEMG",
           "name": "Málaga"
          },
          "checkInDesk": "314-320",
          "gate": "B",
          "quality": [
           "Basic",
           "Live"
          ],
          "scheduledTimeLocal": "2021-11-26 17:40+01:00",
          "scheduledTimeUtc": "2021-11-26 16:40Z",
          "terminal": "PAX"
         },
         "isCargo": false,
         "number": "TK 1304",
         "status": "Unknown"
        },
        {
         "aircraft": {
          "model": "Airbus A330-300"
         },
         "airline": {
          "name": "Turkish"
         },
         "arrival": {
          "quality": [
           "Basic"
          ],
          "scheduledTimeLocal": "2021-11-27 00:10+03:00",
          "scheduledTimeUtc": "2021-11-26 21:10Z"
         },
         "codeshareStatus": "Unknown",
         "departure": {
          "airport": {
           "iata": "CDG",
           "icao": "LFPG",
           "name": "Paris"
          },
          "quality": [
           "Basic"
          ],
          "scheduledTimeLocal": "2021-11-26 18:40+01:00",
          "scheduledTimeUtc": "2021-11-26 17:40Z",
          "terminal": "2A"
         },
         "isCargo": false,
         "number": "TK 1828",
         "status": "Unknown"
        },
        {
         "aircraft": {
          "model": "Airbus A319"
         },
         "airline": {
          "name": "Air France"
         },
         "arrival": {
          "quality": [
           "Basic"
          ],
          "scheduledTimeLocal": "2021-11-27 04:10+03:00",
          "scheduledTimeUtc": "2021-11-27 01:10Z"
         },
         "codeshareStatus": "Unknown",
         "departure": {
          "airport": {
           "iata": "CDG",
           "icao": "LFPG",
           "name": "Paris"
          },
          "quality": [
           "Basic"
          ],
          "scheduledTimeLocal": "2021-11-26 22:45+01:00",
          "scheduledTimeUtc": "2021-11-26 21:45Z",
          "terminal": "2E"
         },
         "isCargo": false,
         "number": "AF 1390",
         "status": "Unknown"
        },
        {
         "aircraft": {
          "model": "Airbus A321"
         },
         "airline": {
          "name": "Turkish"
         },
         "arrival": {
          "quality": [
           "Basic"
          ],
          "scheduledTimeLocal": "2021-11-27 00:10+03:00",
          "scheduledTimeUtc": "2021-11-26 21:10Z"
         },
         "codeshareStatus": "Unknown",
         "departure": {
          "actualTimeLocal": "2021-11-26 21:35+02:00",
          "actualTimeUtc": "2021-11-26 19:35Z",
          "airport": {
           "iata": "ATH",
           "icao": "LGAV",
           "name": "Athens"
          },
          "checkInDesk": "39---43",
          "quality": [
           "Basic",
           "Live"
          ],
          "scheduledTimeLocal": "2021-11-26 21:35+02:00",
          "scheduledTimeUtc": "2021-11-26 19:35Z",
          "terminal": "I"
         },
         "isCargo": false,
         "number": "TK 1844",
         "status": "Unknown"
        },
        {
         "aircraft": {
          "model": "Airbus A320"
         },
         "airline": {
          "name": "Aegean"
         },
         "arrival": {
          "quality": [
           "Basic"
          ],
          "scheduledTimeLocal": "2021-11-27 10:40+03:00",
          "scheduledTimeUtc": "2021-11-27 07:40Z"
         },
         "codeshareStatus": "IsCodeshared",
         "departure": {
          "actualTimeLocal": "2021-11-27 08:10+02:00",
          "actualTimeUtc": "2021-11-27 06:10Z",
          "airport": {
           "iata": "ATH",
           "icao": "LGAV",
           "name": "Athens"
          },
          "quality": [
           "Basic",
           "Live"
          ],
          "scheduledTimeLocal": "2021-11-27 08:10+02:00",
          "scheduledTimeUtc": "2021-11-27 06:10Z",
          "terminal": "I"
         },
         "isCargo": false,
         "number": "A3 990",
         "status": "Unknown"
        },
        {
         "aircraft": {
          "model": "Airbus A321"
         },
         "airline": {
          "name": "Turkish"
         },
         "arrival": {
          "quality": [
           "Basic"
          ],
          "scheduledTimeLocal": "2021-11-27 11:45+03:00",
          "scheduledTimeUtc": "2021-11-27 08:45Z"
         },
         "codeshareStatus": "Unknown",
         "departure": {
          "actualTimeLocal": "2021-11-27 09:10+02:00",
          "actualTimeUtc": "2021-11-27 07:10Z",
          "airport": {
           "iata": "ATH",
           "icao": "LGAV",
           "name": "Athens"
          },
          "checkInDesk": "39---40",
          "quality": [
           "Basic",
           "Live"
          ],
          "scheduledTimeLocal": "2021-11-27 09:10+02:00",
          "scheduledTimeUtc": "2021-11-27 07:10Z",
          "terminal": "I"
         },
         "isCargo": false,
         "number": "TK 1846",
         "status": "Unknown"
        },
        {
         "aircraft": {
          "model": "Boeing 737"
         },
         "airline": {
          "name": "Turkish"
         },
         "arrival": {
          "quality": [
           "Basic"
          ],
          "scheduledTimeLocal": "2021-11-27 00:25+03:00",
          "scheduledTimeUtc": "2021-11-26 21:25Z"
         },
         "codeshareStatus": "Unknown",
         "departure": {
          "actualTimeLocal": "2021-11-26 20:20+01:00",
          "actualTimeUtc": "2021-11-26 19:20Z",
          "airport": {
           "iata": "BUD",
           "icao": "LHBP",
           "name": "Budapest"
          },
          "quality": [
           "Basic",
           "Live"
          ],
          "scheduledTimeLocal": "2021-11-26 20:20+01:00",
          "scheduledTimeUtc": "2021-11-26 19:20Z",
          "terminal": "2A"
         },
         "isCargo": false,
         "number": "TK 1038",
         "status": "Unknown"
        },
        {
         "aircraft": {
          "model": "Airbus A321"
         },
         "airline": {
          "name": "Turkish"
         },
         "arrival": {
          "quality": [
           "Basic"
          ],
          "scheduledTimeLocal": "2021-11-27 00:05+03:00",
          "scheduledTimeUtc": "2021-11-26 21:05Z"
         },
         "codeshareStatus": "Unknown",
         "departure": {
          "airport": {
           "iata": "LJU",
           "icao": "LJLJ",
           "name": "Ljubljana"
          },
          "quality": [
           "Basic"
          ],
          "scheduledTimeLocal": "2021-11-26 19:40+01:00",
          "scheduledTimeUtc": "2021-11-26 18:40Z"
         },
         "isCargo": false,
         "number": "TK 1064",
         "status": "Unknown"
        },
        {
         "aircraft": {
          "model": "Airbus A330-200"
         },
         "airline": {
          "name": "Turkish"
         },
         "arrival": {
          "quality": [
           "Basic"
          ],
          "scheduledTimeLocal": "2021-11-27 00:15+03:00",
          "scheduledTimeUtc": "2021-11-26 21:15Z"
         },
         "codeshareStatus": "Unknown",
         "departure": {
          "airport": {
           "iata": "PRG",
           "icao": "LKPR",
           "name": "Prague"
          },
          "gate": "A7",
          "quality": [
           "Basic"
          ],
          "scheduledTimeLocal": "2021-11-26 19:35+01:00",
          "scheduledTimeUtc": "2021-11-26 18:35Z",
          "terminal": "1"
         },
         "isCargo": false,
         "number": "TK 1770",
         "status": "Unknown"
        },
        {
         "aircraft": {
          "model": "Airbus A330-300"
         },
         "airline": {
          "name": "Turkish"
         },
         "arrival": {
          "quality": [
           "Basic"
          ],
          "scheduledTimeLocal": "2021-11-27 00:15+03:00",
          "scheduledTimeUtc": "2021-11-26 21:15Z"
         },
         "codeshareStatus": "Unknown",
         "departure": {
          "airport": {
           "iata": "TLV",
           "icao": "LLBG",
           "name": "Tel Aviv Yafo"
          },
          "quality": [
           "Basic"
          ],
          "scheduledTimeLocal": "2021-11-26 21:00+02:00",
          "scheduledTimeUtc": "2021-11-26 19:00Z",
          "terminal": "3"
         },
         "isCargo": false,
         "number": "TK 789",
         "status": "Unknown"
        },
        {
         "aircraft": {
          "model": "Airbus A321"
         },
         "airline": {
          "name": "Turkish"
         },
         "arrival": {
          "quality": [
           "Basic"
          ],
          "scheduledTimeLocal": "2021-11-27 00:30+03:00",
          "scheduledTimeUtc": "2021-11-26 21:30Z"
         },
         "codeshareStatus": "Unknown",
         "departure": {
          "actualTimeLocal": "2021-11-26 16:40+00:00",
          "actualTimeUtc": "2021-11-26 16:40Z",
          "airport": {
           "iata": "LIS",
           "icao": "LPPT",
           "name": "Lisbon"
          },
          "quality": [
           "Basic",
           "Live"
          ],
          "scheduledTimeLocal": "2021-11-26 16:40+00:00",
          "scheduledTimeUtc": "2021-11-26 16:40Z",
          "terminal": "T1"
         },
         "isCargo": false,
         "number": "TK 1760",
         "status": "Unknown"
        },
        {
         "aircraft": {
          "model": "Boeing 737-900"
         },
         "airline": {
          "name": "Turkish"
         },
         "arrival": {
          "quality": [
           "Basic"
          ],
          "scheduledTimeLocal": "2021-11-27 00:05+03:00",
          "scheduledTimeUtc": "2021-11-26 21:05Z"
         },
         "codeshareStatus": "Unknown",
         "departure": {
          "airport": {
           "iata": "SJJ",
           "icao": "LQSA",
           "name": "Sarajevo"
          },
          "quality": [
           "Basic"
          ],
          "scheduledTimeLocal": "2021-11-26 20:05+01:00",
          "scheduledTimeUtc": "2021-11-26 19:05Z"
         },
         "isCargo": false,
         "number": "TK 1026",
         "status": "Unknown"
        },
        {
         "aircraft": {
          "model": "Airbus A321"
         },
         "airline": {
          "name": "Turkish"
         },
         "arrival": {
          "quality": [
           "Basic"
          ],
          "scheduledTimeLocal": "2021-11-27 00:05+03:00",
          "scheduledTimeUtc": "2021-11-26 21:05Z"
         },
         "codeshareStatus": "Unknown",
         "departure": {
          "actualTimeLocal": "2021-11-26 21:45+02:00",
          "actualTimeUtc": "2021-11-26 19:45Z",
          "airport": {
           "iata": "OTP",
           "icao": "LROP",
           "name": "Bucharest"
          },
          "quality": [
           "Basic",
           "Live"
          ],
          "scheduledTimeLocal": "2021-11-26 21:45+02:00",
          "scheduledTimeUtc": "2021-11-26 19:45Z"
         },
         "isCargo": false,
         "number": "TK 1046",
         "status": "Unknown"
        },
        {
         "aircraft": {
          "model": "Airbus A318"
         },
         "airline": {
          "name": "TAROM"
         },
         "arrival": {
          "quality": [
           "Basic"
          ],
          "scheduledTimeLocal": "2021-11-27 10:50+03:00",
          "scheduledTimeUtc": "2021-11-27 07:50Z"
         },
         "codeshareStatus": "Unknown",
         "departure": {
          "airport": {
           "iata": "OTP",
           "icao": "LROP",
           "name": "Bucharest"
          },
          "quality": [
           "Basic"
          ],
          "scheduledTimeLocal": "2021-11-27 08:35+02:00",
          "scheduledTimeUtc": "2021-11-27 06:35Z"
         },
         "isCargo": false,
         "number": "RO 261",
         "status": "Unknown"
        },
        {
         "aircraft": {
          "model": "Airbus A320"
         },
         "airline": {
          "name": "Turkish"
         },
         "arrival": {
          "quality": [
           "Basic"
          ],
          "scheduledTimeLocal": "2021-11-27 00:10+03:00",
          "scheduledTimeUtc": "2021-11-26 21:10Z"
         },
         "codeshareStatus": "Unknown",
         "departure": {
          "airport": {
           "iata": "ESB",
           "icao": "LTAC",
           "name": "Ankara"
          },
          "quality": [
           "Basic"
          ],
          "scheduledTimeLocal": "2021-11-26 22:55+03:00",
          "scheduledTimeUtc": "2021-11-26 19:55Z"
         },
         "isCargo": false,
         "number": "TK 2183",
         "status": "Unknown"
        },
        {
         "aircraft": {
          "model": "Boeing 737"
         },
         "airline": {
          "name": "Turkish"
         },
         "arrival": {
          "quality": [
           "Basic"
          ],
          "scheduledTimeLocal": "2021-11-27 05:50+03:00",
          "scheduledTimeUtc": "2021-11-27 02:50Z"
         },
         "codeshareStatus": "Unknown",
         "departure": {
          "airport": {
           "iata": "ESB",
           "icao": "LTAC",
           "name": "Ankara"
          },
          "quality": [
           "Basic"
          ],
          "scheduledTimeLocal": "2021-11-27 04:35+03:00",
          "scheduledTimeUtc": "2021-11-27 01:35Z"
         },
         "isCargo": false,
         "number": "TK 2105",
         "status": "Unknown"
        },
        {
         "aircraft": {
          "model": "Boeing 737-800"
         },
         "airline": {
          "name": "Turkish"
         },
         "arrival": {
          "quality": [
           "Basic"
          ],
          "scheduledTimeLocal": "2021-11-27 08:15+03:00",
          "scheduledTimeUtc": "2021-11-27 05:15Z"
         },
         "codeshareStatus": "Unknown",
         "departure": {
          "airport": {
           "iata": "ESB",
           "icao": "LTAC",
           "name": "Ankara"
          },
          "quality": [
           "Basic"
          ],
          "scheduledTimeLocal": "2021-11-27 07:00+03:00",
          "scheduledTimeUtc": "2021-11-27 04:00Z"
         },
         "isCargo": false,
         "number": "TK 2111",
         "status": "Unknown"
        },
        {
         "aircraft": {
          "model": "Airbus A321"
         },
         "airline": {
          "name": "Turkish"
         },
         "arrival": {
          "quality": [
           "Basic"
          ],
          "scheduledTimeLocal": "2021-11-27 10:00+03:00",
          "scheduledTimeUtc": "2021-11-27 07:00Z"
         },
         "codeshareStatus": "Unknown",
         "departure": {
          "airport": {
           "iata": "ESB",
           "icao": "LTAC",
           "name": "Ankara"
          },
          "quality": [
           "Basic"
          ],
          "scheduledTimeLocal": "2021-11-27 08:50+03:00",
          "scheduledTimeUtc": "2021-11-27 05:50Z"
         },
         "isCargo": false,
         "number": "TK 2123",
         "status": "Unknown"
        },
        {
         "aircraft": {
          "model": "Airbus A321"
         },
         "airline": {
          "name": "Turkish"
         },
         "arrival": {
          "quality": [
           "Basic"
          ],
          "scheduledTimeLocal": "2021-11-27 10:45+03:00",
          "scheduledTimeUtc": "2021-11-27 07:45Z"
         },
         "codeshareStatus": "Unknown",
         "departure": {
          "airport": {
           "iata": "ESB",
           "icao": "LTAC",
           "name": "Ankara"
          },
          "quality": [
           "Basic"
          ],
          "scheduledTimeLocal": "2021-11-27 09:30+03:00",
          "scheduledTimeUtc": "2021-11-27 06:30Z"
         },
         "isCargo": false,
         "number": "TK 2113",
         "status": "Unknown"
        },
        {
         "aircraft": {
          "model": "Airbus A321"
         },
         "airline": {
          "name": "Turkish"
         },
         "arrival": {
          "quality": [
           "Basic"
          ],
          "scheduledTimeLocal": "2021-11-27 11:40+03:00",
          "scheduledTimeUtc": "2021-11-27 08:40Z"
         },
         "codeshareStatus": "Unknown",
         "departure": {
          "airport": {
           "iata": "ESB",
           "icao": "LTAC",
           "name": "Ankara"
          },
          "quality": [
           "Basic"
          ],
          "scheduledTimeLocal": "2021-11-27 10:30+03:00",
          "scheduledTimeUtc": "2021-11-27 07:30Z"
         },
         "isCargo": false,
         "number": "TK 2127",
         "status": "Unknown"
        },
        {
         "aircraft": {
          "model": "Airbus A321"
         },
         "airline": {
          "name": "Turkish"
         },
         "arrival": {
          "quality": [
           "Basic"
          ],
          "scheduledTimeLocal": "2021-11-27 00:50+03:00",
          "scheduledTimeUtc": "2021-11-26 21:50Z"
         },
         "codeshareStatus": "Unknown",
         "departure": {
          "airport": {
           "iata": "ADA",
           "icao": "LTAF",
           "name": "Adana"
          },
          "quality": [
           "Basic"
          ],
          "scheduledTimeLocal": "2021-11-26 23:15+03:00",
          "scheduledTimeUtc": "2021-11-26 20:15Z"
         },
         "isCargo": false,
         "number": "TK 2471",
         "status": "Unknown"
        },
        {
         "aircraft": {
          "model": "Boeing 737"
         },
         "airline": {
          "name": "Turkish"
         },
         "arrival": {
          "quality": [
           "Basic"
          ],
          "scheduledTimeLocal": "2021-11-27 06:10+03:00",
          "scheduledTimeUtc": "2021-11-27 03:10Z"
         },
         "codeshareStatus": "Unknown",
         "departure": {
          "airport": {
           "iata": "ADA",
           "icao": "LTAF",
           "name": "Adana"
          },
          "quality": [
           "Basic"
          ],
          "scheduledTimeLocal": "2021-11-27 04:35+03:00",
          "scheduledTimeUtc": "2021-11-27 01:35Z"
         },
         "isCargo": false,
         "number": "TK 2453",
         "status": "Unknown"
        },
        {
         "aircraft": {
          "model": "Airbus A319"
         },
         "airline": {
          "name": "Turkish"
         },
         "arrival": {
          "quality": [
           "Basic"
          ],
          "scheduledTimeLocal": "2021-11-27 08:30+03:00",
          "scheduledTimeUtc": "2021-11-27 05:30Z"
         },
         "codeshareStatus": "Unknown",
         "departure": {
          "airport": {
           "iata": "ADA",
           "icao": "LTAF",
           "name": "Adana"
          },
          "quality": [
           "Basic"
          ],
          "scheduledTimeLocal": "2021-11-27 06:55+03:00",
          "scheduledTimeUtc": "2021-11-27 03:55Z"
         },
         "isCargo": false,
         "number": "TK 2481",
         "status": "Unknown"
        },
        {
         "aircraft": {
          "model": "Boeing 737-800"
         },
         "airline": {
          "name": "Turkish"
         },
         "arrival": {
          "quality": [
           "Basic"
          ],
          "scheduledTimeLocal": "2021-11-27 11:25+03:00",
          "scheduledTimeUtc": "2021-11-27 08:25Z"
         },
         "codeshareStatus": "Unknown",
         "departure": {
          "airport": {
           "iata": "ADA",
           "icao": "LTAF",
           "name": "Adana"
          },
          "quality": [
           "Basic"
          ],
          "scheduledTimeLocal": "2021-11-27 09:45+03:00",
          "scheduledTimeUtc": "2021-11-27 06:45Z"
         },
         "isCargo": false,
         "number": "TK 2459",
         "status": "Unknown"
        },
        {
         "aircraft": {
          "model": "Airbus A319"
         },
         "airline": {
          "name": "Turkish"
         },
         "arrival": {
          "quality": [
           "Basic"
          ],
          "scheduledTimeLocal": "2021-11-27 00:30+03:00",
          "scheduledTimeUtc": "2021-11-26 21:30Z"
         },
         "codeshareStatus": "Unknown",
         "departure": {
          "actualTimeLocal": "2021-11-26 23:05+03:00",
          "actualTimeUtc": "2021-11-26 20:05Z",
          "airport": {
           "iata": "AYT",
           "icao": "LTAI",
           "name": "Antalya"
          },
          "checkInDesk": "302-307",
          "quality": [
           "Basic",
           "Live"
          ],
          "scheduledTimeLocal": "2021-11-26 23:05+03:00",
          "scheduledTimeUtc": "2021-11-26 20:05Z",
          "terminal": "D"
         },
         "isCargo": false,
         "number": "TK 2425",
         "status": "Unknown"
        },
        {
         "aircraft": {
          "model": "Boeing 737"
         },
         "airline": {
          "name": "Turkish"
         },
         "arrival": {
          "quality": [
           "Basic"
          ],
          "scheduledTimeLocal": "2021-11-27 05:50+03:00",
          "scheduledTimeUtc": "2021-11-27 02:50Z"
         },
         "codeshareStatus": "Unknown",
         "departure": {
          "actualTimeLocal": "2021-11-27 04:35+03:00",
          "actualTimeUtc": "2021-11-27 01:35Z",
          "airport": {
           "iata": "AYT",
           "icao": "LTAI",
           "name": "Antalya"
          },
          "checkInDesk": "303-307",
          "quality": [
           "Basic",
           "Live"
          ],
          "scheduledTimeLocal": "2021-11-27 04:35+03:00",
          "scheduledTimeUtc": "2021-11-27 01:35Z",
          "terminal": "D"
         },
         "isCargo": false,
         "number": "TK 2403",
         "status": "Unknown"
        },
        {
         "aircraft": {
          "model": "Boeing 737-900"
         },
         "airline": {
          "name": "Turkish"
         },
         "arrival": {
          "quality": [
           "Basic"
          ],
          "scheduledTimeLocal": "2021-11-27 08:00+03:00",
          "scheduledTimeUtc": "2021-11-27 05:00Z"
         },
         "codeshareStatus": "Unknown",
         "departure": {
          "actualTimeLocal": "2021-11-27 06:40+03:00",
          "actualTimeUtc": "2021-11-27 03:40Z",
          "airport": {
           "iata": "AYT",
           "icao": "LTAI",
           "name": "Antalya"
          },
          "checkInDesk": "303-307",
          "quality": [
           "Basic",
           "Live"
          ],
          "scheduledTimeLocal": "2021-11-27 06:40+03:00",
          "scheduledTimeUtc": "2021-11-27 03:40Z",
          "terminal": "D"
         },
         "isCargo": false,
         "number": "TK 2407",
         "status": "Unknown"
        },
        {
         "aircraft": {
          "model": "Airbus A321"
         },
         "airline": {
          "name": "Turkish"
         },
         "arrival": {
          "quality": [
           "Basic"
          ],
          "scheduledTimeLocal": "2021-11-27 11:25+03:00",
          "scheduledTimeUtc": "2021-11-27 08:25Z"
         },
         "codeshareStatus": "Unknown",
         "departure": {
          "actualTimeLocal": "2021-11-27 10:05+03:00",
          "actualTimeUtc": "2021-11-27 07:05Z",
          "airport": {
           "iata": "AYT",
           "icao": "LTAI",
           "name": "Antalya"
          },
          "quality": [
           "Basic",
           "Live"
          ],
          "scheduledTimeLocal": "2021-11-27 10:05+03:00",
          "scheduledTimeUtc": "2021-11-27 07:05Z",
          "terminal": "D"
         },
         "isCargo": false,
         "number": "TK 2411",
         "status": "Unknown"
        },
        {
         "aircraft": {
          "model": "Boeing 737"
         },
         "airline": {
          "name": "Turkish"
         },
         "arrival": {
          "quality": [
           "Basic"
          ],
          "scheduledTimeLocal": "2021-11-27 06:35+03:00",
          "scheduledTimeUtc": "2021-11-27 03:35Z"
         },
         "codeshareStatus": "Unknown",
         "departure": {
          "airport": {
           "iata": "GZT",
           "icao": "LTAJ",
           "name": "Gaziantep"
          },
          "quality": [
           "Basic"
          ],
          "scheduledTimeLocal": "2021-11-27 04:45+03:00",
          "scheduledTimeUtc": "2021-11-27 01:45Z"
         },
         "isCargo": false,
         "number": "TK 2229",
         "status": "Unknown"
        },
        {
         "aircraft": {
          "model": "Boeing 737-900"
         },
         "airline": {
          "name": "Turkish"
         },
         "arrival": {
          "quality": [
           "Basic"
          ],
          "scheduledTimeLocal": "2021-11-27 08:50+03:00",
          "scheduledTimeUtc": "2021-11-27 05:50Z"
         },
         "codeshareStatus": "Unknown",
         "departure": {
          "airport": {
           "iata": "GZT",
           "icao": "LTAJ",
           "name": "Gaziantep"
          },
          "quality": [
           "Basic"
          ],
          "scheduledTimeLocal": "2021-11-27 07:05+03:00",
          "scheduledTimeUtc": "2021-11-27 04:05Z"
         },
         "isCargo": false,
         "number": "TK 2227",
         "status": "Unknown"
        },
        {
         "aircraft": {
          "model": "Airbus A320"
         },
         "airline": {
          "name": "Turkish"
         },
         "arrival": {
          "quality": [
           "Basic"
          ],
          "scheduledTimeLocal": "2021-11-27 11:45+03:00",
          "scheduledTimeUtc": "2021-11-27 08:45Z"
         },
         "codeshareStatus": "Unknown",
         "departure": {
          "airport": {
           "iata": "MLX",
           "icao": "LTAT",
           "name": "Malatya"
          },
          "quality": [
           "Basic"
          ],
          "scheduledTimeLocal": "2021-11-27 10:00+03:00",
          "scheduledTimeUtc": "2021-11-27 07:00Z"
         },
         "isCargo": false,
         "number": "TK 2631",
         "status": "Unknown"
        },
        {
         "aircraft": {
          "model": "Airbus A319"
         },
         "airline": {
          "name": "Turkish"
         },
         "arrival": {
          "quality": [
           "Basic"
          ],
          "scheduledTimeLocal": "2021-11-27 00:20+03:00",
          "scheduledTimeUtc": "2021-11-26 21:20Z"
         },
         "codeshareStatus": "Unknown",
         "departure": {
          "airport": {
           "iata": "ASR",
           "icao": "LTAU",
           "name": "Kayseri"
          },
          "quality": [
           "Basic"
          ],
          "scheduledTimeLocal": "2021-11-26 22:45+03:00",
          "scheduledTimeUtc": "2021-11-26 19:45Z"
         },
         "isCargo": false,
         "number": "TK 2021",
         "status": "Unknown"
        },
        {
         "aircraft": {
          "model": "Boeing 737"
         },
         "airline": {
          "name": "Turkish"
         },
         "arrival": {
          "quality": [
           "Basic"
          ],
          "scheduledTimeLocal": "2021-11-27 05:55+03:00",
          "scheduledTimeUtc": "2021-11-27 02:55Z"
         },
         "codeshareStatus": "Unknown",
         "departure": {
          "airport": {
           "iata": "ASR",
           "icao": "LTAU",
           "name": "Kayseri"
          },
          "quality": [
           "Basic"
          ],
          "scheduledTimeLocal": "2021-11-27 04:20+03:00",
          "scheduledTimeUtc": "2021-11-27 01:20Z"
         },
         "isCargo": false,
         "number": "TK 2023",
         "status": "Unknown"
        },
        {
         "aircraft": {
          "model": "Boeing 737-800"
         },
         "airline": {
          "name": "Turkish"
         },
         "arrival": {
          "quality": [
           "Basic"
          ],
          "scheduledTimeLocal": "2021-11-27 11:25+03:00",
          "scheduledTimeUtc": "2021-11-27 08:25Z"
         },
         "codeshareStatus": "Unknown",
         "departure": {
          "airport": {
           "iata": "ASR",
           "icao": "LTAU",
           "name": "Kayseri"
          },
          "quality": [
           "Basic"
          ],
          "scheduledTimeLocal": "2021-11-27 09:55+03:00",
          "scheduledTimeUtc": "2021-11-27 06:55Z"
         },
         "isCargo": false,
         "number": "TK 2011",
         "status": "Unknown"
        },
        {
         "aircraft": {
          "model": "Airbus A319"
         },
         "airline": {
          "name": "Turkish"
         },
         "arrival": {
          "quality": [
           "Basic"
          ],
          "scheduledTimeLocal": "2021-11-27 11:05+03:00",
          "scheduledTimeUtc": "2021-11-27 08:05Z"
         },
         "codeshareStatus": "Unknown",
         "departure": {
          "airport": {
           "iata": "DNZ",
           "icao": "LTAY",
           "name": "Denizli"
          },
          "quality": [
           "Basic"
          ],
          "scheduledTimeLocal": "2021-11-27 09:55+03:00",
          "scheduledTimeUtc": "2021-11-27 06:55Z"
         },
         "isCargo": false,
         "number": "TK 2579",
         "status": "Unknown"
        },
        {
         "aircraft": {
          "model": "Boeing 737-800"
         },
         "airline": {
          "name": "Turkish"
         },
         "arrival": {
          "quality": [
           "Basic"
          ],
          "scheduledTimeLocal": "2021-11-27 11:10+03:00",
          "scheduledTimeUtc": "2021-11-27 08:10Z"
         },
         "codeshareStatus": "Unknown",
         "departure": {
          "airport": {
           "iata": "NAV",
           "icao": "LTAZ",
           "name": "Nevşehir"
          },
          "quality": [
           "Basic"
          ],
          "scheduledTimeLocal": "2021-11-27 09:50+03:00",
          "scheduledTimeUtc": "2021-11-27 06:50Z"
         },
         "isCargo": false,
         "number": "TK 2007",
         "status": "Unknown"
        },
        {
         "aircraft": {
          "model": "Boeing 737"
         },
         "airline": {
          "name": "Turkish"
         },
         "arrival": {
          "quality": [
           "Basic"
          ],
          "scheduledTimeLocal": "2021-11-27 05:45+03:00",
          "scheduledTimeUtc": "2021-11-27 02:45Z"
         },
         "codeshareStatus": "Unknown",
         "departure": {
          "airport": {
           "iata": "ADB",
           "icao": "LTBJ",
           "name": "İzmir"
          },
          "quality": [
           "Basic"
          ],
          "scheduledTimeLocal": "2021-11-27 04:40+03:00",
          "scheduledTimeUtc": "2021-11-27 01:40Z",
          "terminal": "D"
         },
         "isCargo": false,
         "number": "TK 2305",
         "status": "Unknown"
        },
        {
         "aircraft": {
          "model": "Boeing 737-900"
         },
         "airline": {
          "name": "Turkish"
         },
         "arrival": {
          "quality": [
           "Basic"
          ],
          "scheduledTimeLocal": "2021-11-27 07:35+03:00",
          "scheduledTimeUtc": "2021-11-27 04:35Z"
         },
         "codeshareStatus": "Unknown",
         "departure": {
          "airport": {
           "iata": "ADB",
           "icao": "LTBJ",
           "name": "İzmir"
          },
          "quality": [
           "Basic"
          ],
          "scheduledTimeLocal": "2021-11-27 06:30+03:00",
          "scheduledTimeUtc": "2021-11-27 03:30Z",
          "terminal": "D"
         },
         "isCargo": false,
         "number": "TK 2307",
         "status": "Unknown"
        },
        {
         "aircraft": {
          "model": "Airbus A320"
         },
         "airline": {
          "name": "Pegasus"
         },
         "arrival": {
          "quality": [
           "Basic"
          ],
          "scheduledTimeLocal": "2021-11-27 09:15+03:00",
          "scheduledTimeUtc": "2021-11-27 06:15Z"
         },
         "codeshareStatus": "Unknown",
         "departure": {
          "airport": {
           "iata": "ADB",
           "icao": "LTBJ",
           "name": "İzmir"
          },
          "quality": [
           "Basic"
          ],
          "scheduledTimeLocal": "2021-11-27 08:05+03:00",
          "scheduledTimeUtc": "2021-11-27 05:05Z",
          "terminal": "D"
         },
         "isCargo": false,
         "number": "PC 3300",
         "status": "Unknown"
        },
        {
         "aircraft": {
          "model": "Airbus A320"
         },
         "airline": {
          "name": "Turkish"
         },
         "arrival": {
          "quality": [
           "Basic"
          ],
          "scheduledTimeLocal": "2021-11-27 09:45+03:00",
          "scheduledTimeUtc": "2021-11-27 06:45Z"
         },
         "codeshareStatus": "Unknown",
         "departure": {
          "airport": {
           "iata": "ADB",
           "icao": "LTBJ",
           "name": "İzmir"
          },
          "quality": [
           "Basic"
          ],
          "scheduledTimeLocal": "2021-11-27 08:30+03:00",
          "scheduledTimeUtc": "2021-11-27 05:30Z",
          "terminal": "D"
         },
         "isCargo": false,
         "number": "TK 2309",
         "status": "Unknown"
        },
        {
         "aircraft": {
          "model": "Airbus A320"
         },
         "airline": {
          "name": "Turkish"
         },
         "arrival": {
          "quality": [
           "Basic"
          ],
          "scheduledTimeLocal": "2021-11-27 10:50+03:00",
          "scheduledTimeUtc": "2021-11-27 07:50Z"
         },
         "codeshareStatus": "Unknown",
         "departure": {
          "airport": {
           "iata": "ADB",
           "icao": "LTBJ",
           "name": "İzmir"
          },
          "quality": [
           "Basic"
          ],
          "scheduledTimeLocal": "2021-11-27 09:35+03:00",
          "scheduledTimeUtc": "2021-11-27 06:35Z",
          "terminal": "D"
         },
         "isCargo": false,
         "number": "TK 2311",
         "status": "Unknown"
        },
        {
         "aircraft": {
          "model": "Boeing 777-300ER"
         },
         "airline": {
          "name": "Turkish"
         },
         "arrival": {
          "quality": [
           "Basic"
          ],
          "scheduledTimeLocal": "2021-11-27 11:50+03:00",
          "scheduledTimeUtc": "2021-11-27 08:50Z"
         },
         "codeshareStatus": "Unknown",
         "departure": {
          "airport": {
           "iata": "ADB",
           "icao": "LTBJ",
           "name": "İzmir"
          },
          "quality": [
           "Basic"
          ],
          "scheduledTimeLocal": "2021-11-27 10:35+03:00",
          "scheduledTimeUtc": "2021-11-27 07:35Z",
          "terminal": "D"
         },
         "isCargo": false,
         "number": "TK 2313",
         "status": "Unknown"
        },
        {
         "aircraft": {
          "model": "Boeing 737-800"
         },
         "airline": {
          "name": "Turkish"
         },
         "arrival": {
          "quality": [
           "Basic"
          ],
          "scheduledTimeLocal": "2021-11-27 11:25+03:00",
          "scheduledTimeUtc": "2021-11-27 08:25Z"
         },
         "codeshareStatus": "Unknown",
         "departure": {
          "airport": {
           "iata": "DLM",
           "icao": "LTBS",
           "name": "Dalaman"
          },
          "quality": [
           "Basic"
          ],
          "scheduledTimeLocal": "2021-11-27 10:05+03:00",
          "scheduledTimeUtc": "2021-11-27 07:05Z",
          "terminal": "I"
         },
         "isCargo": false,
         "number": "TK 2553",
         "status": "Unknown"
        },
        {
         "aircraft": {
          "model": "Boeing 737-900"
         },
         "airline": {
          "name": "Turkish"
         },
         "arrival": {
          "quality": [
           "Basic"
          ],
          "scheduledTimeLocal": "2021-11-27 00:40+03:00",
          "scheduledTimeUtc": "2021-11-26 21:40Z"
         },
         "codeshareStatus": "Unknown",
         "departure": {
          "airport": {
           "iata": "DIY",
           "icao": "LTCC",
           "name": "Diyarbakır"
          },
          "quality": [
           "Basic"
          ],
          "scheduledTimeLocal": "2021-11-26 22:40+03:00",
          "scheduledTimeUtc": "2021-11-26 19:40Z"
         },
         "isCargo": false,
         "number": "TK 2613",
         "status": "Unknown"
        },
        {
         "aircraft": {
          "model": "Boeing 737"
         },
         "airline": {
          "name": "Turkish"
         },
         "arrival": {
          "quality": [
           "Basic"
          ],
          "scheduledTimeLocal": "2021-11-27 00:05+03:00",
          "scheduledTimeUtc": "2021-11-26 21:05Z"
         },
         "codeshareStatus": "Unknown",
         "departure": {
          "airport": {
           "iata": "TZX",
           "icao": "LTCG",
           "name": "Trabzon"
          },
          "quality": [
           "Basic"
          ],
          "scheduledTimeLocal": "2021-11-26 22:15+03:00",
          "scheduledTimeUtc": "2021-11-26 19:15Z"
         },
         "isCargo": false,
         "number": "TK 2831",
         "status": "Unknown"
        },
        {
         "aircraft": {
          "model": "Airbus A321"
         },
         "airline": {
          "name": "Turkish"
         },
         "arrival": {
          "quality": [
           "Basic"
          ],
          "scheduledTimeLocal": "2021-11-27 08:50+03:00",
          "scheduledTimeUtc": "2021-11-27 05:50Z"
         },
         "codeshareStatus": "Unknown",
         "departure": {
          "airport": {
           "iata": "TZX",
           "icao": "LTCG",
           "name": "Trabzon"
          },
          "quality": [
           "Basic"
          ],
          "scheduledTimeLocal": "2021-11-27 07:00+03:00",
          "scheduledTimeUtc": "2021-11-27 04:00Z"
         },
         "isCargo": false,
         "number": "TK 2837",
         "status": "Unknown"
        },
        {
         "aircraft": {
          "model": "Airbus A321"
         },
         "airline": {
          "name": "Turkish"
         },
         "arrival": {
          "quality": [
           "Basic"
          ],
          "scheduledTimeLocal": "2021-11-27 05:30+03:00",
          "scheduledTimeUtc": "2021-11-27 02:30Z"
         },
         "codeshareStatus": "Unknown",
         "departure": {
          "airport": {
           "iata": "BJV",
           "icao": "LTFE",
           "name": "Bodrum"
          },
          "quality": [
           "Basic"
          ],
          "scheduledTimeLocal": "2021-11-27 04:10+03:00",
          "scheduledTimeUtc": "2021-11-27 01:10Z",
          "terminal": "I"
         },
         "isCargo": false,
         "number": "TK 2539",
         "status": "Unknown"
        },
        {
         "aircraft": {
          "model": "Boeing 737"
         },
         "airline": {
          "name": "Turkish"
         },
         "arrival": {
          "quality": [
           "Basic"
          ],
          "scheduledTimeLocal": "2021-11-27 11:10+03:00",
          "scheduledTimeUtc": "2021-11-27 08:10Z"
         },
         "codeshareStatus": "Unknown",
         "departure": {
          "airport": {
           "iata": "BJV",
           "icao": "LTFE",
           "name": "Bodrum"
          },
          "quality": [
           "Basic"
          ],
          "scheduledTimeLocal": "2021-11-27 09:45+03:00",
          "scheduledTimeUtc": "2021-11-27 06:45Z",
          "terminal": "I"
         },
         "isCargo": false,
         "number": "TK 2505",
         "status": "Unknown"
        },
        {
         "aircraft": {
          "model": "Airbus A320"
         },
         "airline": {
          "name": "Turkish"
         },
         "arrival": {
          "quality": [
           "Basic"
          ],
          "scheduledTimeLocal": "2021-11-27 11:15+03:00",
          "scheduledTimeUtc": "2021-11-27 08:15Z"
         },
         "codeshareStatus": "Unknown",
         "departure": {
          "airport": {
           "iata": "SZF",
           "icao": "LTFH",
           "name": "Samsun"
          },
          "quality": [
           "Basic"
          ],
          "scheduledTimeLocal": "2021-11-27 09:45+03:00",
          "scheduledTimeUtc": "2021-11-27 06:45Z"
         },
         "isCargo": false,
         "number": "TK 2807",
         "status": "Unknown"
        },
        {
         "aircraft": {
          "model": "Airbus A320"
         },
         "airline": {
          "name": "Turkish"
         },
         "arrival": {
          "quality": [
           "Basic"
          ],
          "scheduledTimeLocal": "2021-11-27 00:10+03:00",
          "scheduledTimeUtc": "2021-11-26 21:10Z"
         },
         "codeshareStatus": "Unknown",
         "departure": {
          "airport": {
           "iata": "KIV",
           "icao": "LUKK",
           "name": "Chişinău"
          },
          "quality": [
           "Basic"
          ],
          "scheduledTimeLocal": "2021-11-26 21:40+02:00",
          "scheduledTimeUtc": "2021-11-26 19:40Z"
         },
         "isCargo": false,
         "number": "TK 272",
         "status": "Unknown"
        },
        {
         "aircraft": {
          "model": "Boeing 737-800"
         },
         "airline": {
          "name": "Turkish"
         },
         "arrival": {
          "quality": [
           "Basic"
          ],
          "scheduledTimeLocal": "2021-11-27 00:10+03:00",
          "scheduledTimeUtc": "2021-11-26 21:10Z"
         },
         "codeshareStatus": "Unknown",
         "departure": {
          "airport": {
           "iata": "SKP",
           "icao": "LWSK",
           "name": "Skopje"
          },
          "quality": [
           "Basic"
          ],
          "scheduledTimeLocal": "2021-11-26 20:35+01:00",
          "scheduledTimeUtc": "2021-11-26 19:35Z"
         },
         "isCargo": false,
         "number": "TK 1006",
         "status": "Unknown"
        },
        {
         "aircraft": {
          "model": "Boeing 737-800"
         },
         "airline": {
          "name": "Turkish"
         },
         "arrival": {
          "quality": [
           "Basic"
          ],
          "scheduledTimeLocal": "2021-11-27 00:05+03:00",
          "scheduledTimeUtc": "2021-11-26 21:05Z"
         },
         "codeshareStatus": "Unknown",
         "departure": {
          "actualTimeLocal": "2021-11-26 20:15+01:00",
          "actualTimeUtc": "2021-11-26 19:15Z",
          "airport": {
           "iata": "TGD",
           "icao": "LYPG",
           "name": "Podgorica"
          },
          "gate": "G7,G8",
          "quality": [
           "Basic",
           "Live"
          ],
          "scheduledTimeLocal": "2021-11-26 20:15+01:00",
          "scheduledTimeUtc": "2021-11-26 19:15Z"
         },
         "isCargo": false,
         "number": "TK 1088",
         "status": "Unknown"
        },
        {
         "aircraft": {
          "model": "Boeing 787-9"
         },
         "airline": {
          "name": "Turkish"
         },
         "arrival": {
          "quality": [
           "Basic"
          ],
          "scheduledTimeLocal": "2021-11-27 10:30+03:00",
          "scheduledTimeUtc": "2021-11-27 07:30Z"
         },
         "codeshareStatus": "Unknown",
         "departure": {
          "airport": {
           "iata": "CUN",
           "icao": "MMUN",
           "name": "Cancún"
          },
          "quality": [
           "Basic"
          ],
          "scheduledTimeLocal": "2021-11-26 14:45-05:00",
          "scheduledTimeUtc": "2021-11-26 19:45Z",
          "terminal": "2"
         },
         "isCargo": false,
         "number": "TK 184",
         "status": "Unknown"
        },
        {
         "aircraft": {
          "model": "Airbus A321"
         },
         "airline": {
          "name": "Turkish"
         },
         "arrival": {
          "quality": [
           "Basic"
          ],
          "scheduledTimeLocal": "2021-11-27 06:25+03:00",
          "scheduledTimeUtc": "2021-11-27 03:25Z"
         },
         "codeshareStatus": "Unknown",
         "departure": {
          "airport": {
           "iata": "BAH",
           "icao": "OBBI",
           "name": "Manama"
          },
          "quality": [
           "Basic"
          ],
          "scheduledTimeLocal": "2021-11-27 02:05+03:00",
          "scheduledTimeUtc": "2021-11-26 23:05Z"
         },
         "isCargo": false,
         "number": "TK 779",
         "status": "Unknown"
        },
        {
         "aircraft": {
          "model": "Airbus A321"
         },
         "airline": {
          "name": "Turkish"
         },
         "arrival": {
          "quality": [
           "Basic"
          ],
          "scheduledTimeLocal": "2021-11-27 05:20+03:00",
          "scheduledTimeUtc": "2021-11-27 02:20Z"
         },
         "codeshareStatus": "Unknown",
         "departure": {
          "airport": {
           "iata": "IFN",
           "icao": "OIFM",
           "name": "Isfahan"
          },
          "quality": [
           "Basic"
          ],
          "scheduledTimeLocal": "2021-11-27 02:10+03:30",
          "scheduledTimeUtc": "2021-11-26 22:40Z"
         },
         "isCargo": false,
         "number": "TK 893",
         "status": "Unknown"
        },
        {
         "aircraft": {
          "model": "Airbus A321"
         },
         "airline": {
          "name": "Turkish"
         },
         "arrival": {
          "quality": [
           "Basic"
          ],
          "scheduledTimeLocal": "2021-11-27 05:05+03:00",
          "scheduledTimeUtc": "2021-11-27 02:05Z"
         },
         "codeshareStatus": "Unknown",
         "departure": {
          "airport": {
           "iata": "IKA",
           "icao": "OIIE",
           "name": "Tehran"
          },
          "quality": [
           "Basic"
          ],
          "scheduledTimeLocal": "2021-11-27 02:05+03:30",
          "scheduledTimeUtc": "2021-11-26 22:35Z"
         },
         "isCargo": false,
         "number": "TK 881",
         "status": "Unknown"
        },
        {
         "aircraft": {
          "model": "Airbus A321"
         },
         "airline": {
          "name": "Turkish"
         },
         "arrival": {
          "quality": [
           "Basic"
          ],
          "scheduledTimeLocal": "2021-11-27 06:15+03:00",
          "scheduledTimeUtc": "2021-11-27 03:15Z"
         },
         "codeshareStatus": "Unknown",
         "departure": {
          "airport": {
           "iata": "IKA",
           "icao": "OIIE",
           "name": "Tehran"
          },
          "quality": [
           "Basic"
          ],
          "scheduledTimeLocal": "2021-11-27 03:15+03:30",
          "scheduledTimeUtc": "2021-11-26 23:45Z"
         },
         "isCargo": false,
         "number": "TK 875",
         "status": "Unknown"
        },
        {
         "aircraft": {
          "model": "Airbus A340-300"
         },
         "airline": {
          "name": "Mahan Air"
         },
         "arrival": {
          "quality": [
           "Basic"
          ],
          "scheduledTimeLocal": "2021-11-27 08:35+03:00",
          "scheduledTimeUtc": "2021-11-27 05:35Z"
         },
         "codeshareStatus": "Unknown",
         "departure": {
          "airport": {
           "iata": "IKA",
           "icao": "OIIE",
           "name": "Tehran"
          },
          "quality": [
           "Basic"
          ],
          "scheduledTimeLocal": "2021-11-27 05:50+03:30",
          "scheduledTimeUtc": "2021-11-27 02:20Z"
         },
         "isCargo": false,
         "number": "W5 112",
         "status": "Unknown"
        },
        {
         "aircraft": {
          "model": "Airbus A321"
         },
         "airline": {
          "name": "Turkish"
         },
         "arrival": {
          "quality": [
           "Basic"
          ],
          "scheduledTimeLocal": "2021-11-27 09:20+03:00",
          "scheduledTimeUtc": "2021-11-27 06:20Z"
         },
         "codeshareStatus": "Unknown",
         "departure": {
          "airport": {
           "iata": "IKA",
           "icao": "OIIE",
           "name": "Tehran"
          },
          "quality": [
           "Basic"
          ],
          "scheduledTimeLocal": "2021-11-27 06:30+03:30",
          "scheduledTimeUtc": "2021-11-27 03:00Z"
         },
         "isCargo": false,
         "number": "TK 873",
         "status": "Unknown"
        },
        {
         "aircraft": {
          "model": "Airbus A340-300"
         },
         "airline": {
          "name": "Mahan Air"
         },
         "arrival": {
          "quality": [
           "Basic"
          ],
          "scheduledTimeLocal": "2021-11-27 10:45+03:00",
          "scheduledTimeUtc": "2021-11-27 07:45Z"
         },
         "codeshareStatus": "Unknown",
         "departure": {
          "airport": {
           "iata": "IKA",
           "icao": "OIIE",
           "name": "Tehran"
          },
          "quality": [
           "Basic"
          ],
          "scheduledTimeLocal": "2021-11-27 08:00+03:30",
          "scheduledTimeUtc": "2021-11-27 04:30Z"
         },
         "isCargo": false,
         "number": "W5 116",
         "status": "Unknown"
        },
        {
         "aircraft": {
          "model": "Airbus A321"
         },
         "airline": {
          "name": "Turkish"
         },
         "arrival": {
          "quality": [
           "Basic"
          ],
          "scheduledTimeLocal": "2021-11-27 06:10+03:00",
          "scheduledTimeUtc": "2021-11-27 03:10Z"
         },
         "codeshareStatus": "Unknown",
         "departure": {
          "airport": {
           "iata": "SYZ",
           "icao": "OISS",
           "name": "Shiraz"
          },
          "quality": [
           "Basic"
          ],
          "scheduledTimeLocal": "2021-11-27 02:30+03:30",
          "scheduledTimeUtc": "2021-11-26 23:00Z"
         },
         "isCargo": false,
         "number": "TK 885",
         "status": "Unknown"
        },
        {
         "aircraft": {
          "model": "Boeing 737-900"
         },
         "airline": {
          "name": "Turkish"
         },
         "arrival": {
          "quality": [
           "Basic"
          ],
          "scheduledTimeLocal": "2021-11-27 10:45+03:00",
          "scheduledTimeUtc": "2021-11-27 07:45Z"
         },
         "codeshareStatus": "Unknown",
         "departure": {
          "airport": {
           "iata": "TBZ",
           "icao": "OITT",
           "name": "Tabriz"
          },
          "quality": [
           "Basic"
          ],
          "scheduledTimeLocal": "2021-11-27 08:30+03:30",
          "scheduledTimeUtc": "2021-11-27 05:00Z"
         },
         "isCargo": false,
         "number": "TK 883",
         "status": "Unknown"
        },
        {
         "aircraft": {
          "model": "Airbus A330-200"
         },
         "airline": {
          "name": "Turkish"
         },
         "arrival": {
          "quality": [
           "Basic"
          ],
          "scheduledTimeLocal": "2021-11-27 06:00+03:00",
          "scheduledTimeUtc": "2021-11-27 03:00Z"
         },
         "codeshareStatus": "Unknown",
         "departure": {
          "airport": {
           "iata": "AMM",
           "icao": "OJAI",
           "name": "Amman"
          },
          "quality": [
           "Basic"
          ],
          "scheduledTimeLocal": "2021-11-27 02:35+02:00",
          "scheduledTimeUtc": "2021-11-27 00:35Z"
         },
         "isCargo": false,
         "number": "TK 815",
         "status": "Unknown"
        },
        {
         "aircraft": {
          "model": "Airbus A321"
         },
         "airline": {
          "name": "Turkish"
         },
         "arrival": {
          "quality": [
           "Basic"
          ],
          "scheduledTimeLocal": "2021-11-27 09:35+03:00",
          "scheduledTimeUtc": "2021-11-27 06:35Z"
         },
         "codeshareStatus": "Unknown",
         "departure": {
          "airport": {
           "iata": "AMM",
           "icao": "OJAI",
           "name": "Amman"
          },
          "quality": [
           "Basic"
          ],
          "scheduledTimeLocal": "2021-11-27 06:10+02:00",
          "scheduledTimeUtc": "2021-11-27 04:10Z"
         },
         "isCargo": false,
         "number": "TK 813",
         "status": "Unknown"
        },
        {
         "aircraft": {
          "model": "Airbus A320 NEO"
         },
         "airline": {
          "name": "Kuwait Airways"
         },
         "arrival": {
          "quality": [
           "Basic"
          ],
          "scheduledTimeLocal": "2021-11-27 01:50+03:00",
          "scheduledTimeUtc": "2021-11-26 22:50Z"
         },
         "codeshareStatus": "Unknown",
         "departure": {
          "airport": {
           "iata": "KWI",
           "icao": "OKBK",
           "name": "Kuwait City"
          },
          "quality": [
           "Basic"
          ],
          "scheduledTimeLocal": "2021-11-26 21:50+03:00",
          "scheduledTimeUtc": "2021-11-26 18:50Z",
          "terminal": "4"
         },
         "isCargo": false,
         "number": "KU 151",
         "status": "Unknown"
        },
        {
         "aircraft": {
          "model": "Airbus A330-300"
         },
         "airline": {
          "name": "Turkish"
         },
         "arrival": {
          "quality": [
           "Basic"
          ],
          "scheduledTimeLocal": "2021-11-27 05:05+03:00",
          "scheduledTimeUtc": "2021-11-27 02:05Z"
         },
         "codeshareStatus": "Unknown",
         "departure": {
          "airport": {
           "iata": "KWI",
           "icao": "OKBK",
           "name": "Kuwait City"
          },
          "quality": [
           "Basic"
          ],
          "scheduledTimeLocal": "2021-11-27 01:15+03:00",
          "scheduledTimeUtc": "2021-11-26 22:15Z",
          "terminal": "1"
         },
         "isCargo": false,
         "number": "TK 773",
         "status": "Unknown"
        },
        {
         "aircraft": {
          "model": "Airbus A321"
         },
         "airline": {
          "name": "Turkish"
         },
         "arrival": {
          "quality": [
           "Basic"
          ],
          "scheduledTimeLocal": "2021-11-27 10:45+03:00",
          "scheduledTimeUtc": "2021-11-27 07:45Z"
         },
         "codeshareStatus": "Unknown",
         "departure": {
          "airport": {
           "iata": "KWI",
           "icao": "OKBK",
           "name": "Kuwait City"
          },
          "quality": [
           "Basic"
          ],
          "scheduledTimeLocal": "2021-11-27 06:55+03:00",
          "scheduledTimeUtc": "2021-11-27 03:55Z",
          "terminal": "1"
         },
         "isCargo": false,
         "number": "TK 771",
         "status": "Unknown"
        },
        {
         "aircraft": {
          "model": "Airbus A350-900"
         },
         "airline": {
          "name": "Turkish"
         },
         "arrival": {
          "quality": [
           "Basic"
          ],
          "scheduledTimeLocal": "2021-11-27 05:35+03:00",
          "scheduledTimeUtc": "2021-11-27 02:35Z"
         },
         "codeshareStatus": "Unknown",
         "departure": {
          "airport": {
           "iata": "BEY",
           "icao": "OLBA",
           "name": "Beirut"
          },
          "quality": [
           "Basic"
          ],
          "scheduledTimeLocal": "2021-11-27 02:30+02:00",
          "scheduledTimeUtc": "2021-11-27 00:30Z"
         },
         "isCargo": false,
         "number": "TK 827",
         "status": "Unknown"
        },
        {
         "aircraft": {
          "model": "Boeing 737-800"
         },
         "airline": {
          "name": "Turkish"
         },
         "arrival": {
          "quality": [
           "Basic"
          ],
          "scheduledTimeLocal": "2021-11-27 10:15+03:00",
          "scheduledTimeUtc": "2021-11-27 07:15Z"
         },
         "codeshareStatus": "Unknown",
         "departure": {
          "airport": {
           "iata": "BEY",
           "icao": "OLBA",
           "name": "Beirut"
          },
          "quality": [
           "Basic"
          ],
          "scheduledTimeLocal": "2021-11-27 07:10+02:00",
          "scheduledTimeUtc": "2021-11-27 05:10Z"
         },
         "isCargo": false,
         "number": "TK 829",
         "status": "Unknown"
        },
        {
         "aircraft": {
          "model": "Airbus A320"
         },
         "airline": {
          "name": "Middle East"
         },
         "arrival": {
          "quality": [
           "Basic"
          ],
          "scheduledTimeLocal": "2021-11-27 11:20+03:00",
          "scheduledTimeUtc": "2021-11-27 08:20Z"
         },
         "codeshareStatus": "Unknown",
         "departure": {
          "airport": {
           "iata": "BEY",
           "icao": "OLBA",
           "name": "Beirut"
          },
          "quality": [
           "Basic"
          ],
          "scheduledTimeLocal": "2021-11-27 08:20+02:00",
          "scheduledTimeUtc": "2021-11-27 06:20Z"
         },
         "isCargo": false,
         "number": "ME 265",
         "status": "Unknown"
        },
        {
         "aircraft": {
          "model": "Airbus A321"
         },
         "airline": {
          "name": "Turkish"
         },
         "arrival": {
          "quality": [
           "Basic"
          ],
          "scheduledTimeLocal": "2021-11-27 06:20+03:00",
          "scheduledTimeUtc": "2021-11-27 03:20Z"
         },
         "codeshareStatus": "Unknown",
         "departure": {
          "airport": {
           "iata": "AUH",
           "icao": "OMAA",
           "name": "Abu Dhabi Island and Internal Islands City"
          },
          "quality": [
           "Basic"
          ],
          "scheduledTimeLocal": "2021-11-27 02:10+04:00",
          "scheduledTimeUtc": "2021-11-26 22:10Z",
          "terminal": "1"
         },
         "isCargo": false,
         "number": "TK 869",
         "status": "Unknown"
        },
        {
         "aircraft": {
          "model": "Boeing 737"
         },
         "airline": {
          "name": "flydubai"
         },
         "arrival": {
          "quality": [
           "Basic"
          ],
          "scheduledTimeLocal": "2021-11-27 00:40+03:00",
          "scheduledTimeUtc": "2021-11-26 21:40Z"
         },
         "codeshareStatus": "Unknown",
         "departure": {
          "actualTimeLocal": "2021-11-26 20:45+04:00",
          "actualTimeUtc": "2021-11-26 16:45Z",
          "airport": {
           "iata": "DXB",
           "icao": "OMDB",
           "name": "Dubai City"
          },
          "gate": "F8",
          "quality": [
           "Basic",
           "Live"
          ],
          "scheduledTimeLocal": "2021-11-26 20:45+04:00",
          "scheduledTimeUtc": "2021-11-26 16:45Z",
          "terminal": "2"
         },
         "isCargo": false,
         "number": "FZ 755",
         "status": "Unknown"
        },
        {
         "aircraft": {
          "model": "Boeing 777-300ER"
         },
         "airline": {
          "name": "Turkish"
         },
         "arrival": {
          "quality": [
           "Basic"
          ],
          "scheduledTimeLocal": "2021-11-27 06:35+03:00",
          "scheduledTimeUtc": "2021-11-27 03:35Z"
         },
         "codeshareStatus": "Unknown",
         "departure": {
          "actualTimeLocal": "2021-11-27 02:40+04:00",
          "actualTimeUtc": "2021-11-26 22:40Z",
          "airport": {
           "iata": "DXB",
           "icao": "OMDB",
           "name": "Dubai City"
          },
          "gate": "D17",
          "quality": [
           "Basic",
           "Live"
          ],
          "scheduledTimeLocal": "2021-11-27 02:40+04:00",
          "scheduledTimeUtc": "2021-11-26 22:40Z",
          "terminal": "1"
         },
         "isCargo": false,
         "number": "TK 761",
         "status": "Unknown"
        },
        {
         "aircraft": {
          "model": "Airbus A330-200"
         },
         "airline": {
          "name": "Turkish"
         },
         "arrival": {
          "quality": [
           "Basic"
          ],
          "scheduledTimeLocal": "2021-11-27 10:35+03:00",
          "scheduledTimeUtc": "2021-11-27 07:35Z"
         },
         "codeshareStatus": "Unknown",
         "departure": {
          "airport": {
           "iata": "ISB",
           "icao": "OPIS",
           "name": "Islamabad"
          },
          "quality": [
           "Basic"
          ],
          "scheduledTimeLocal": "2021-11-27 06:35+05:00",
          "scheduledTimeUtc": "2021-11-27 01:35Z"
         },
         "isCargo": false,
         "number": "TK 711",
         "status": "Unknown"
        },
        {
         "aircraft": {
          "model": "Airbus A330-300"
         },
         "airline": {
          "name": "Turkish"
         },
         "arrival": {
          "quality": [
           "Basic"
          ],
          "scheduledTimeLocal": "2021-11-27 11:20+03:00",
          "scheduledTimeUtc": "2021-11-27 08:20Z"
         },
         "codeshareStatus": "Unknown",
         "departure": {
          "airport": {
           "iata": "KHI",
           "icao": "OPKC",
           "name": "Karanchi"
          },
          "quality": [
           "Basic"
          ],
          "scheduledTimeLocal": "2021-11-27 07:15+05:00",
          "scheduledTimeUtc": "2021-11-27 02:15Z",
          "terminal": "M"
         },
         "isCargo": false,
         "number": "TK 709",
         "status": "Unknown"
        },
        {
         "aircraft": {
          "model": "Boeing 737"
         },
         "airline": {
          "name": "I A W"
         },
         "arrival": {
          "quality": [
           "Basic"
          ],
          "scheduledTimeLocal": "2021-11-27 02:00+03:00",
          "scheduledTimeUtc": "2021-11-26 23:00Z"
         },
         "codeshareStatus": "Unknown",
         "departure": {
          "airport": {
           "iata": "BGW",
           "icao": "ORBI",
           "name": "Baghdad"
          },
          "quality": [
           "Basic"
          ],
          "scheduledTimeLocal": "2021-11-26 23:00+03:00",
          "scheduledTimeUtc": "2021-11-26 20:00Z"
         },
         "isCargo": false,
         "number": "IA 215",
         "status": "Unknown"
        },
        {
         "aircraft": {
          "model": "Airbus A321"
         },
         "airline": {
          "name": "Turkish"
         },
         "arrival": {
          "quality": [
           "Basic"
          ],
          "scheduledTimeLocal": "2021-11-27 06:20+03:00",
          "scheduledTimeUtc": "2021-11-27 03:20Z"
         },
         "codeshareStatus": "Unknown",
         "departure": {
          "airport": {
           "iata": "BGW",
           "icao": "ORBI",
           "name": "Baghdad"
          },
          "quality": [
           "Basic"
          ],
          "scheduledTimeLocal": "2021-11-27 03:15+03:00",
          "scheduledTimeUtc": "2021-11-27 00:15Z"
         },
         "isCargo": false,
         "number": "TK 303",
         "status": "Unknown"
        },
        {
         "aircraft": {
          "model": "Airbus A321"
         },
         "airline": {
          "name": "Turkish"
         },
         "arrival": {
          "quality": [
           "Basic"
          ],
          "scheduledTimeLocal": "2021-11-27 10:05+03:00",
          "scheduledTimeUtc": "2021-11-27 07:05Z"
         },
         "codeshareStatus": "Unknown",
         "departure": {
          "airport": {
           "iata": "BGW",
           "icao": "ORBI",
           "name": "Baghdad"
          },
          "quality": [
           "Basic"
          ],
          "scheduledTimeLocal": "2021-11-27 07:00+03:00",
          "scheduledTimeUtc": "2021-11-27 04:00Z"
         },
         "isCargo": false,
         "number": "TK 803",
         "status": "Unknown"
        },
        {
         "aircraft": {
          "model": "Boeing 737-800"
         },
         "airline": {
          "name": "Turkish"
         },
         "arrival": {
          "quality": [
           "Basic"
          ],
          "scheduledTimeLocal": "2021-11-27 05:35+03:00",
          "scheduledTimeUtc": "2021-11-27 02:35Z"
         },
         "codeshareStatus": "Unknown",
         "departure": {
          "airport": {
           "iata": "EBL",
           "icao": "ORER",
           "name": "Arbil"
          },
          "quality": [
           "Basic"
          ],
          "scheduledTimeLocal": "2021-11-27 02:45+03:00",
          "scheduledTimeUtc": "2021-11-26 23:45Z"
         },
         "isCargo": false,
         "number": "TK 317",
         "status": "Unknown"
        },
        {
         "aircraft": {
          "model": "Airbus A321"
         },
         "airline": {
          "name": "Turkish"
         },
         "arrival": {
          "quality": [
           "Basic"
          ],
          "scheduledTimeLocal": "2021-11-27 10:30+03:00",
          "scheduledTimeUtc": "2021-11-27 07:30Z"
         },
         "codeshareStatus": "Unknown",
         "departure": {
          "airport": {
           "iata": "EBL",
           "icao": "ORER",
           "name": "Arbil"
          },
          "quality": [
           "Basic"
          ],
          "scheduledTimeLocal": "2021-11-27 07:45+03:00",
          "scheduledTimeUtc": "2021-11-27 04:45Z"
         },
         "isCargo": false,
         "number": "TK 805",
         "status": "Unknown"
        },
        {
         "aircraft": {
          "model": "Boeing 737-800"
         },
         "airline": {
          "name": "Turkish"
         },
         "arrival": {
          "quality": [
           "Basic"
          ],
          "scheduledTimeLocal": "2021-11-27 11:40+03:00",
          "scheduledTimeUtc": "2021-11-27 08:40Z"
         },
         "codeshareStatus": "Unknown",
         "departure": {
          "airport": {
           "iata": "BSR",
           "icao": "ORMM",
           "name": "Basrah"
          },
          "quality": [
           "Basic"
          ],
          "scheduledTimeLocal": "2021-11-27 08:00+03:00",
          "scheduledTimeUtc": "2021-11-27 05:00Z"
         },
         "isCargo": false,
         "number": "TK 799",
         "status": "Unknown"
        },
        {
         "aircraft": {
          "model": "Airbus A320"
         },
         "airline": {
          "name": "I A W"
         },
         "arrival": {
          "quality": [
           "Basic"
          ],
          "scheduledTimeLocal": "2021-11-27 11:40+03:00",
          "scheduledTimeUtc": "2021-11-27 08:40Z"
         },
         "codeshareStatus": "Unknown",
         "departure": {
          "airport": {
           "iata": "NJF",
           "icao": "ORNI",
           "name": "Baghdad"
          },
          "quality": [
           "Basic"
          ],
          "scheduledTimeLocal": "2021-11-27 08:30+03:00",
          "scheduledTimeUtc": "2021-11-27 05:30Z"
         },
         "isCargo": false,
         "number": "IA 219",
         "status": "Unknown"
        },
        {
         "aircraft": {
          "model": "Boeing 737-800"
         },
         "airline": {
          "name": "Turkish"
         },
         "arrival": {
          "quality": [
           "Basic"
          ],
          "scheduledTimeLocal": "2021-11-27 06:55+03:00",
          "scheduledTimeUtc": "2021-11-27 03:55Z"
         },
         "codeshareStatus": "Unknown",
         "departure": {
          "airport": {
           "iata": "ISU",
           "icao": "ORSU",
           "name": "Sulaymaniyah"
          },
          "quality": [
           "Basic"
          ],
          "scheduledTimeLocal": "2021-11-27 04:00+03:00",
          "scheduledTimeUtc": "2021-11-27 01:00Z"
         },
         "isCargo": false,
         "number": "TK 807",
         "status": "Unknown"
        },
        {
         "aircraft": {
          "model": "Airbus A321"
         },
         "airline": {
          "name": "Turkish"
         },
         "arrival": {
          "quality": [
           "Basic"
          ],
          "scheduledTimeLocal": "2021-11-27 06:30+03:00",
          "scheduledTimeUtc": "2021-11-27 03:30Z"
         },
         "codeshareStatus": "Unknown",
         "departure": {
          "airport": {
           "iata": "DOH",
           "icao": "OTHH",
           "name": "Doha"
          },
          "quality": [
           "Basic"
          ],
          "scheduledTimeLocal": "2021-11-27 01:45+03:00",
          "scheduledTimeUtc": "2021-11-26 22:45Z"
         },
         "isCargo": false,
         "number": "TK 781",
         "status": "Unknown"
        },
        {
         "aircraft": {
          "model": "Boeing 787-9"
         },
         "airline": {
          "name": "Turkish"
         },
         "arrival": {
          "quality": [
           "Basic"
          ],
          "scheduledTimeLocal": "2021-11-27 06:00+03:00",
          "scheduledTimeUtc": "2021-11-27 03:00Z"
         },
         "codeshareStatus": "Unknown",
         "departure": {
          "airport": {
           "iata": "TPE",
           "icao": "RCTP",
           "name": "Taipei"
          },
          "quality": [
           "Basic"
          ],
          "scheduledTimeLocal": "2021-11-26 22:05+08:00",
          "scheduledTimeUtc": "2021-11-26 14:05Z",
          "terminal": "2"
         },
         "isCargo": false,
         "number": "TK 25",
         "status": "Unknown"
        },
        {
         "aircraft": {
          "model": "Boeing 787-9"
         },
         "airline": {
          "name": "Turkish"
         },
         "arrival": {
          "quality": [
           "Basic"
          ],
          "scheduledTimeLocal": "2021-11-27 05:45+03:00",
          "scheduledTimeUtc": "2021-11-27 02:45Z"
         },
         "codeshareStatus": "Unknown",
         "departure": {
          "airport": {
           "iata": "HND",
           "icao": "RJTT",
           "name": "Tokyo"
          },
          "quality": [
           "Basic"
          ],
          "scheduledTimeLocal": "2021-11-26 22:55+09:00",
          "scheduledTimeUtc": "2021-11-26 13:55Z",
          "terminal": "3"
         },
         "isCargo": false,
         "number": "TK 199",
         "status": "Unknown"
        },
        {
         "aircraft": {
          "model": "Boeing 777-300ER"
         },
         "airline": {
          "name": "Turkish"
         },
         "arrival": {
          "quality": [
           "Basic"
          ],
          "scheduledTimeLocal": "2021-11-27 06:20+03:00",
          "scheduledTimeUtc": "2021-11-27 03:20Z"
         },
         "codeshareStatus": "Unknown",
         "departure": {
          "airport": {
           "iata": "ICN",
           "icao": "RKSI",
           "name": "Seoul"
          },
          "quality": [
           "Basic"
          ],
          "scheduledTimeLocal": "2021-11-27 00:40+09:00",
          "scheduledTimeUtc": "2021-11-26 15:40Z",
          "terminal": "1"
         },
         "isCargo": false,
         "number": "TK 91",
         "status": "Unknown"
        },
        {
         "aircraft": {
          "model": "Airbus A350-900"
         },
         "airline": {
          "name": "Turkish"
         },
         "arrival": {
          "quality": [
           "Basic"
          ],
          "scheduledTimeLocal": "2021-11-27 06:15+03:00",
          "scheduledTimeUtc": "2021-11-27 03:15Z"
         },
         "codeshareStatus": "Unknown",
         "departure": {
          "airport": {
           "iata": "MNL",
           "icao": "RPLL",
           "name": "Manila"
          },
          "quality": [
           "Basic"
          ],
          "scheduledTimeLocal": "2021-11-26 22:00+08:00",
          "scheduledTimeUtc": "2021-11-26 14:00Z",
          "terminal": "3"
         },
         "isCargo": false,
         "number": "TK 85",
         "status": "Unknown"
        },
        {
         "aircraft": {
          "model": "Boeing 787-9"
         },
         "airline": {
          "name": "Turkish"
         },
         "arrival": {
          "quality": [
           "Basic"
          ],
          "scheduledTimeLocal": "2021-11-27 10:10+03:00",
          "scheduledTimeUtc": "2021-11-27 07:10Z"
         },
         "codeshareStatus": "Unknown",
         "departure": {
          "airport": {
           "iata": "CCS",
           "icao": "SVMI",
           "name": "Caracas"
          },
          "quality": [
           "Basic"
          ],
          "scheduledTimeLocal": "2021-11-26 14:55-04:00",
          "scheduledTimeUtc": "2021-11-26 18:55Z"
         },
         "isCargo": false,
         "number": "TK 183",
         "status": "Unknown"
        },
        {
         "aircraft": {
          "model": "Boeing 737-800"
         },
         "airline": {
          "name": "Turkish"
         },
         "arrival": {
          "quality": [
           "Basic"
          ],
          "scheduledTimeLocal": "2021-11-27 08:50+03:00",
          "scheduledTimeUtc": "2021-11-27 05:50Z"
         },
         "codeshareStatus": "Unknown",
         "departure": {
          "airport": {
           "iata": "SCO",
           "icao": "UATE",
           "name": "Aktau"
          },
          "quality": [
           "Basic"
          ],
          "scheduledTimeLocal": "2021-11-27 07:30+05:00",
          "scheduledTimeUtc": "2021-11-27 02:30Z"
         },
         "isCargo": false,
         "number": "TK 279",
         "status": "Unknown"
        },
        {
         "aircraft": {
          "model": "Airbus A330-200"
         },
         "airline": {
          "name": "Turkish"
         },
         "arrival": {
          "quality": [
           "Basic"
          ],
          "scheduledTimeLocal": "2021-11-27 09:55+03:00",
          "scheduledTimeUtc": "2021-11-27 06:55Z"
         },
         "codeshareStatus": "Unknown",
         "departure": {
          "airport": {
           "iata": "GYD",
           "icao": "UBBB",
           "name": "Baku"
          },
          "quality": [
           "Basic"
          ],
          "scheduledTimeLocal": "2021-11-27 07:55+04:00",
          "scheduledTimeUtc": "2021-11-27 03:55Z",
          "terminal": "1"
         },
         "isCargo": false,
         "number": "TK 337",
         "status": "Unknown"
        },
        {
         "aircraft": {
          "model": "Airbus A320"
         },
         "airline": {
          "name": "AZAL Azerbaijan"
         },
         "arrival": {
          "quality": [
           "Basic"
          ],
          "scheduledTimeLocal": "2021-11-27 11:50+03:00",
          "scheduledTimeUtc": "2021-11-27 08:50Z"
         },
         "codeshareStatus": "Unknown",
         "departure": {
          "airport": {
           "iata": "GYD",
           "icao": "UBBB",
           "name": "Baku"
          },
          "quality": [
           "Basic"
          ],
          "scheduledTimeLocal": "2021-11-27 09:50+04:00",
          "scheduledTimeUtc": "2021-11-27 05:50Z",
          "terminal": "1"
         },
         "isCargo": false,
         "number": "J2 75",
         "status": "Unknown"
        },
        {
         "aircraft": {
          "model": "Airbus A321"
         },
         "airline": {
          "name": "Turkish"
         },
         "arrival": {
          "quality": [
           "Basic"
          ],
          "scheduledTimeLocal": "2021-11-27 06:40+03:00",
          "scheduledTimeUtc": "2021-11-27 03:40Z"
         },
         "codeshareStatus": "Unknown",
         "departure": {
          "airport": {
           "iata": "FRU",
           "icao": "UCFM",
           "name": "Bishkek"
          },
          "quality": [
           "Basic"
          ],
          "scheduledTimeLocal": "2021-11-27 03:50+06:00",
          "scheduledTimeUtc": "2021-11-26 21:50Z"
         },
         "isCargo": false,
         "number": "TK 349",
         "status": "Unknown"
        },
        {
         "aircraft": {
          "model": "Airbus A321"
         },
         "airline": {
          "name": "Turkish"
         },
         "arrival": {
          "quality": [
           "Basic"
          ],
          "scheduledTimeLocal": "2021-11-27 06:00+03:00",
          "scheduledTimeUtc": "2021-11-27 03:00Z"
         },
         "codeshareStatus": "Unknown",
         "departure": {
          "airport": {
           "iata": "TBS",
           "icao": "UGTB",
           "name": "Tbilisi"
          },
          "quality": [
           "Basic"
          ],
          "scheduledTimeLocal": "2021-11-27 04:30+04:00",
          "scheduledTimeUtc": "2021-11-27 00:30Z"
         },
         "isCargo": false,
         "number": "TK 387",
         "status": "Unknown"
        },
        {
         "aircraft": {
          "model": "Airbus A321"
         },
         "airline": {
          "name": "Turkish"
         },
         "arrival": {
          "quality": [
           "Basic"
          ],
          "scheduledTimeLocal": "2021-11-27 10:35+03:00",
          "scheduledTimeUtc": "2021-11-27 07:35Z"
         },
         "codeshareStatus": "Unknown",
         "departure": {
          "airport": {
           "iata": "TBS",
           "icao": "UGTB",
           "name": "Tbilisi"
          },
          "quality": [
           "Basic"
          ],
          "scheduledTimeLocal": "2021-11-27 09:05+04:00",
          "scheduledTimeUtc": "2021-11-27 05:05Z"
         },
         "isCargo": false,
         "number": "TK 377",
         "status": "Unknown"
        },
        {
         "aircraft": {
          "model": "Boeing 737"
         },
         "airline": {
          "name": "Turkish"
         },
         "arrival": {
          "quality": [
           "Basic"
          ],
          "scheduledTimeLocal": "2021-11-27 00:30+03:00",
          "scheduledTimeUtc": "2021-11-26 21:30Z"
         },
         "codeshareStatus": "Unknown",
         "departure": {
          "airport": {
           "iata": "HRK",
           "icao": "UKHH",
           "name": "Kharkiv"
          },
          "quality": [
           "Basic"
          ],
          "scheduledTimeLocal": "2021-11-26 21:20+02:00",
          "scheduledTimeUtc": "2021-11-26 19:20Z"
         },
         "isCargo": false,
         "number": "TK 1476",
         "status": "Unknown"
        },
        {
         "aircraft": {
          "model": "Boeing 737-900"
         },
         "airline": {
          "name": "Turkish"
         },
         "arrival": {
          "quality": [
           "Basic"
          ],
          "scheduledTimeLocal": "2021-11-27 00:30+03:00",
          "scheduledTimeUtc": "2021-11-26 21:30Z"
         },
         "codeshareStatus": "Unknown",
         "departure": {
          "airport": {
           "iata": "LWO",
           "icao": "UKLL",
           "name": "Lviv"
          },
          "quality": [
           "Basic"
          ],
          "scheduledTimeLocal": "2021-11-26 21:25+02:00",
          "scheduledTimeUtc": "2021-11-26 19:25Z"
         },
         "isCargo": false,
         "number": "TK 444",
         "status": "Unknown"
        },
        {
         "aircraft": {
          "model": "Boeing 737"
         },
         "airline": {
          "name": "Turkish"
         },
         "arrival": {
          "quality": [
           "Basic"
          ],
          "scheduledTimeLocal": "2021-11-27 00:15+03:00",
          "scheduledTimeUtc": "2021-11-26 21:15Z"
         },
         "codeshareStatus": "Unknown",
         "departure": {
          "airport": {
           "iata": "ODS",
           "icao": "UKOO",
           "name": "Odesa"
          },
          "quality": [
           "Basic"
          ],
          "scheduledTimeLocal": "2021-11-26 21:50+02:00",
          "scheduledTimeUtc": "2021-11-26 19:50Z"
         },
         "isCargo": false,
         "number": "TK 468",
         "status": "Unknown"
        },
        {
         "aircraft": {
          "model": "Airbus A321"
         },
         "airline": {
          "name": "Turkish"
         },
         "arrival": {
          "quality": [
           "Basic"
          ],
          "scheduledTimeLocal": "2021-11-27 05:35+03:00",
          "scheduledTimeUtc": "2021-11-27 02:35Z"
         },
         "codeshareStatus": "Unknown",
         "departure": {
          "actualTimeLocal": "2021-11-27 02:10+03:00",
          "actualTimeUtc": "2021-11-26 23:10Z",
          "airport": {
           "iata": "LED",
           "icao": "ULLI",
           "name": "Saint-Petersburg"
          },
          "checkInDesk": "A322-A324",
          "gate": "A06",
          "quality": [
           "Basic",
           "Live"
          ],
          "scheduledTimeLocal": "2021-11-27 02:10+03:00",
          "scheduledTimeUtc": "2021-11-26 23:10Z",
          "terminal": "1"
         },
         "isCargo": false,
         "number": "TK 404",
         "status": "Unknown"
        },
        {
         "aircraft": {
          "model": "Boeing 737-800"
         },
         "airline": {
          "name": "Nordwind"
         },
         "arrival": {
          "quality": [
           "Basic"
          ],
          "scheduledTimeLocal": "2021-11-27 07:30+03:00",
          "scheduledTimeUtc": "2021-11-27 04:30Z"
         },
         "codeshareStatus": "IsCodeshared",
         "departure": {
          "actualTimeLocal": "2021-11-27 03:30+03:00",
          "actualTimeUtc": "2021-11-27 00:30Z",
          "airport": {
           "iata": "LED",
           "icao": "ULLI",
           "name": "Saint-Petersburg"
          },
          "checkInDesk": "A313-A314",
          "quality": [
           "Basic",
           "Live"
          ],
          "scheduledTimeLocal": "2021-11-27 03:30+03:00",
          "scheduledTimeUtc": "2021-11-27 00:30Z",
          "terminal": "1"
         },
         "isCargo": false,
         "number": "N4 663",
         "status": "Unknown"
        },
        {
         "aircraft": {
          "model": "Airbus A319"
         },
         "airline": {
          "name": "Turkish"
         },
         "arrival": {
          "quality": [
           "Basic"
          ],
          "scheduledTimeLocal": "2021-11-27 06:55+03:00",
          "scheduledTimeUtc": "2021-11-27 03:55Z"
         },
         "codeshareStatus": "Unknown",
         "departure": {
          "actualTimeLocal": "2021-11-27 04:25+03:00",
          "actualTimeUtc": "2021-11-27 01:25Z",
          "airport": {
           "iata": "ROV",
           "icao": "URRP",
           "name": "Rostov-on-Don"
          },
          "quality": [
           "Basic",
           "Live"
          ],
          "scheduledTimeLocal": "2021-11-27 04:25+03:00",
          "scheduledTimeUtc": "2021-11-27 01:25Z"
         },
         "isCargo": false,
         "number": "TK 294",
         "status": "Unknown"
        },
        {
         "aircraft": {
          "model": "Boeing 737-800"
         },
         "airline": {
          "name": "Pobeda"
         },
         "arrival": {
          "quality": [
           "Basic"
          ],
          "scheduledTimeLocal": "2021-11-27 09:30+03:00",
          "scheduledTimeUtc": "2021-11-27 06:30Z"
         },
         "codeshareStatus": "Unknown",
         "departure": {
          "actualTimeLocal": "2021-11-27 06:40+05:00",
          "actualTimeUtc": "2021-11-27 01:40Z",
          "airport": {
           "iata": "SVX",
           "icao": "USSS",
           "name": "Ekaterinburg"
          },
          "quality": [
           "Basic",
           "Live"
          ],
          "scheduledTimeLocal": "2021-11-27 06:40+05:00",
          "scheduledTimeUtc": "2021-11-27 01:40Z"
         },
         "isCargo": false,
         "number": "DP 949",
         "status": "Unknown"
        },
        {
         "aircraft": {
          "model": "Airbus A330-300"
         },
         "airline": {
          "name": "Turkish"
         },
         "arrival": {
          "quality": [
           "Basic"
          ],
          "scheduledTimeLocal": "2021-11-27 06:55+03:00",
          "scheduledTimeUtc": "2021-11-27 03:55Z"
         },
         "codeshareStatus": "Unknown",
         "departure": {
          "airport": {
           "iata": "TAS",
           "icao": "UTTT",
           "name": "Tashkent"
          },
          "quality": [
           "Basic"
          ],
          "scheduledTimeLocal": "2021-11-27 03:40+05:00",
          "scheduledTimeUtc": "2021-11-26 22:40Z",
          "terminal": "2"
         },
         "isCargo": false,
         "number": "TK 371",
         "status": "Unknown"
        },
        {
         "aircraft": {
          "model": "Boeing 787"
         },
         "airline": {
          "name": "Uzbekistan Airways"
         },
         "arrival": {
          "quality": [
           "Basic"
          ],
          "scheduledTimeLocal": "2021-11-27 11:00+03:00",
          "scheduledTimeUtc": "2021-11-27 08:00Z"
         },
         "codeshareStatus": "Unknown",
         "departure": {
          "airport": {
           "iata": "TAS",
           "icao": "UTTT",
           "name": "Tashkent"
          },
          "quality": [
           "Basic"
          ],
          "scheduledTimeLocal": "2021-11-27 07:40+05:00",
          "scheduledTimeUtc": "2021-11-27 02:40Z",
          "terminal": "2"
         },
         "isCargo": false,
         "number": "HY 271",
         "status": "Unknown"
        },
        {
         "aircraft": {
          "model": "Airbus A321"
         },
         "airline": {
          "name": "Turkish"
         },
         "arrival": {
          "quality": [
           "Basic"
          ],
          "scheduledTimeLocal": "2021-11-27 00:15+03:00",
          "scheduledTimeUtc": "2021-11-26 21:15Z"
         },
         "codeshareStatus": "Unknown",
         "departure": {
          "actualTimeLocal": "2021-11-26 21:10+03:00",
          "actualTimeUtc": "2021-11-26 18:10Z",
          "airport": {
           "iata": "VKO",
           "icao": "UUWW",
           "name": "Moscow"
          },
          "checkInDesk": "81,83-86",
          "gate": "27",
          "quality": [
           "Basic",
           "Live"
          ],
          "scheduledTimeLocal": "2021-11-26 21:10+03:00",
          "scheduledTimeUtc": "2021-11-26 18:10Z",
          "terminal": "A"
         },
         "isCargo": false,
         "number": "TK 416",
         "status": "Unknown"
        },
        {
         "aircraft": {
          "model": "Boeing 737-800"
         },
         "airline": {
          "name": "Turkish"
         },
         "arrival": {
          "quality": [
           "Basic"
          ],
          "scheduledTimeLocal": "2021-11-27 05:45+03:00",
          "scheduledTimeUtc": "2021-11-27 02:45Z"
         },
         "codeshareStatus": "Unknown",
         "departure": {
          "actualTimeLocal": "2021-11-27 02:40+03:00",
          "actualTimeUtc": "2021-11-26 23:40Z",
          "airport": {
           "iata": "VKO",
           "icao": "UUWW",
           "name": "Moscow"
          },
          "checkInDesk": "81,83-85",
          "gate": "27",
          "quality": [
           "Basic",
           "Live"
          ],
          "scheduledTimeLocal": "2021-11-27 02:40+03:00",
          "scheduledTimeUtc": "2021-11-26 23:40Z",
          "terminal": "A"
         },
         "isCargo": false,
         "number": "TK 412",
         "status": "Unknown"
        },
        {
         "aircraft": {
          "model": "Airbus A321"
         },
         "airline": {
          "name": "Turkish"
         },
         "arrival": {
          "quality": [
           "Basic"
          ],
          "scheduledTimeLocal": "2021-11-27 10:20+03:00",
          "scheduledTimeUtc": "2021-11-27 07:20Z"
         },
         "codeshareStatus": "Unknown",
         "departure": {
          "actualTimeLocal": "2021-11-27 07:15+03:00",
          "actualTimeUtc": "2021-11-27 04:15Z",
          "airport": {
           "iata": "VKO",
           "icao": "UUWW",
           "name": "Moscow"
          },
          "checkInDesk": "81,83-84",
          "gate": "27",
          "quality": [
           "Basic",
           "Live"
          ],
          "scheduledTimeLocal": "2021-11-27 07:15+03:00",
          "scheduledTimeUtc": "2021-11-27 04:15Z",
          "terminal": "A"
         },
         "isCargo": false,
         "number": "TK 420",
         "status": "Unknown"
        },
        {
         "aircraft": {
          "model": "Boeing 737-800"
         },
         "airline": {
          "name": "Nordwind"
         },
         "arrival": {
          "quality": [
           "Basic"
          ],
          "scheduledTimeLocal": "2021-11-27 09:50+03:00",
          "scheduledTimeUtc": "2021-11-27 06:50Z"
         },
         "codeshareStatus": "IsCodeshared",
         "departure": {
          "airport": {
           "iata": "KZN",
           "icao": "UWKD",
           "name": "Kazan"
          },
          "quality": [
           "Basic"
          ],
          "scheduledTimeLocal": "2021-11-27 05:45+03:00",
          "scheduledTimeUtc": "2021-11-27 02:45Z",
          "terminal": "1"
         },
         "isCargo": false,
         "number": "N4 651",
         "status": "Unknown"
        },
        {
         "aircraft": {
          "model": "Airbus A330-300"
         },
         "airline": {
          "name": "Turkish"
         },
         "arrival": {
          "quality": [
           "Basic"
          ],
          "scheduledTimeLocal": "2021-11-27 05:40+03:00",
          "scheduledTimeUtc": "2021-11-27 02:40Z"
         },
         "codeshareStatus": "Unknown",
         "departure": {
          "airport": {
           "iata": "DAC",
           "icao": "VGHS",
           "name": "Dhaka"
          },
          "quality": [
           "Basic"
          ],
          "scheduledTimeLocal": "2021-11-26 23:30+06:00",
          "scheduledTimeUtc": "2021-11-26 17:30Z",
          "terminal": "0"
         },
         "isCargo": false,
         "number": "TK 723",
         "status": "Unknown"
        },
        {
         "aircraft": {
          "model": "Boeing 777-300ER"
         },
         "airline": {
          "name": "Turkish"
         },
         "arrival": {
          "quality": [
           "Basic"
          ],
          "scheduledTimeLocal": "2021-11-27 05:30+03:00",
          "scheduledTimeUtc": "2021-11-27 02:30Z"
         },
         "codeshareStatus": "Unknown",
         "departure": {
          "actualTimeLocal": "2021-11-26 22:20+08:00",
          "actualTimeUtc": "2021-11-26 14:20Z",
          "airport": {
           "iata": "HKG",
           "icao": "VHHH",
           "name": "Hong Kong"
          },
          "checkInDesk": "D",
          "quality": [
           "Basic",
           "Live"
          ],
          "scheduledTimeLocal": "2021-11-26 22:20+08:00",
          "scheduledTimeUtc": "2021-11-26 14:20Z",
          "terminal": "T1"
         },
         "isCargo": false,
         "number": "TK 71",
         "status": "Unknown"
        },
        {
         "aircraft": {
          "model": "Boeing 777-300ER"
         },
         "airline": {
          "name": "Turkish"
         },
         "arrival": {
          "quality": [
           "Basic"
          ],
          "scheduledTimeLocal": "2021-11-27 05:20+03:00",
          "scheduledTimeUtc": "2021-11-27 02:20Z"
         },
         "codeshareStatus": "Unknown",
         "departure": {
          "airport": {
           "iata": "MLE",
           "icao": "VRMM",
           "name": "Malé"
          },
          "quality": [
           "Basic"
          ],
          "scheduledTimeLocal": "2021-11-26 22:45+05:00",
          "scheduledTimeUtc": "2021-11-26 17:45Z"
         },
         "isCargo": false,
         "number": "TK 731",
         "status": "Unknown"
        },
        {
         "aircraft": {
          "model": "Airbus A330-300"
         },
         "airline": {
          "name": "Turkish"
         },
         "arrival": {
          "quality": [
           "Basic"
          ],
          "scheduledTimeLocal": "2021-11-27 06:10+03:00",
          "scheduledTimeUtc": "2021-11-27 03:10Z"
         },
         "codeshareStatus": "Unknown",
         "departure": {
          "airport": {
           "iata": "BKK",
           "icao": "VTBS",
           "name": "Bangkok"
          },
          "quality": [
           "Basic"
          ],
          "scheduledTimeLocal": "2021-11-26 23:30+07:00",
          "scheduledTimeUtc": "2021-11-26 16:30Z"
         },
         "isCargo": false,
         "number": "TK 69",
         "status": "Unknown"
        },
        {
         "aircraft": {
          "model": "Boeing 777-300ER"
         },
         "airline": {
          "name": "Turkish"
         },
         "arrival": {
          "quality": [
           "Basic"
          ],
          "scheduledTimeLocal": "2021-11-27 06:00+03:00",
          "scheduledTimeUtc": "2021-11-27 03:00Z"
         },
         "codeshareStatus": "Unknown",
         "departure": {
          "airport": {
           "iata": "SGN",
           "icao": "VVTS",
           "name": "Ho Chi Minh City"
          },
          "quality": [
           "Basic"
          ],
          "scheduledTimeLocal": "2021-11-26 22:20+07:00",
          "scheduledTimeUtc": "2021-11-26 15:20Z",
          "terminal": "1"
         },
         "isCargo": false,
         "number": "TK 163",
         "status": "Unknown"
        },
        {
         "aircraft": {
          "model": "Boeing 777-300ER"
         },
         "airline": {
          "name": "Turkish"
         },
         "arrival": {
          "quality": [
           "Basic"
          ],
          "scheduledTimeLocal": "2021-11-27 05:55+03:00",
          "scheduledTimeUtc": "2021-11-27 02:55Z"
         },
         "codeshareStatus": "Unknown",
         "departure": {
          "airport": {
           "iata": "CGK",
           "icao": "WIII",
           "name": "Jakarta"
          },
          "quality": [
           "Basic"
          ],
          "scheduledTimeLocal": "2021-11-26 21:40+07:00",
          "scheduledTimeUtc": "2021-11-26 14:40Z",
          "terminal": "3"
         },
         "isCargo": false,
         "number": "TK 57",
         "status": "Unknown"
        },
        {
         "aircraft": {
          "model": "Boeing 777-300ER"
         },
         "airline": {
          "name": "Turkish"
         },
         "arrival": {
          "quality": [
           "Basic"
          ],
          "scheduledTimeLocal": "2021-11-27 06:20+03:00",
          "scheduledTimeUtc": "2021-11-27 03:20Z"
         },
         "codeshareStatus": "Unknown",
         "departure": {
          "airport": {
           "iata": "KUL",
           "icao": "WMKK",
           "name": "Kuala Lumpur"
          },
          "quality": [
           "Basic"
          ],
          "scheduledTimeLocal": "2021-11-26 23:40+08:00",
          "scheduledTimeUtc": "2021-11-26 15:40Z",
          "terminal": "M"
         },
         "isCargo": false,
         "number": "TK 61",
         "status": "Unknown"
        },
        {
         "aircraft": {
          "model": "Boeing 787-9"
         },
         "airline": {
          "name": "Turkish"
         },
         "arrival": {
          "quality": [
           "Basic"
          ],
          "scheduledTimeLocal": "2021-11-27 06:10+03:00",
          "scheduledTimeUtc": "2021-11-27 03:10Z"
         },
         "codeshareStatus": "Unknown",
         "departure": {
          "airport": {
           "iata": "SIN",
           "icao": "WSSS",
           "name": "Singapore"
          },
          "checkInDesk": "04",
          "quality": [
           "Basic"
          ],
          "scheduledTimeLocal": "2021-11-26 23:35+08:00",
          "scheduledTimeUtc": "2021-11-26 15:35Z",
          "terminal": "1"
         },
         "isCargo": false,
         "number": "TK 55",
         "status": "Unknown"
        },
        {
         "aircraft": {
          "model": "Airbus A350-900"
         },
         "airline": {
          "name": "Singapore"
         },
         "arrival": {
          "quality": [
           "Basic"
          ],
          "scheduledTimeLocal": "2021-11-27 08:25+03:00",
          "scheduledTimeUtc": "2021-11-27 05:25Z"
         },
         "codeshareStatus": "Unknown",
         "departure": {
          "airport": {
           "iata": "SIN",
           "icao": "WSSS",
           "name": "Singapore"
          },
          "quality": [
           "Basic"
          ],
          "scheduledTimeLocal": "2021-11-27 01:50+08:00",
          "scheduledTimeUtc": "2021-11-26 17:50Z",
          "terminal": "3"
         },
         "isCargo": false,
         "number": "SQ 392",
         "status": "Unknown"
        }
       ]
      },
      "text/plain": [
       "<IPython.core.display.JSON object>"
      ]
     },
     "execution_count": 54,
     "metadata": {
      "application/json": {
       "expanded": false,
       "root": "root"
      }
     },
     "output_type": "execute_result"
    }
   ],
   "source": [
    "JSON(jsons[0])"
   ]
  },
  {
   "cell_type": "code",
   "execution_count": 55,
   "id": "233f0e62-232e-4d8a-b6e8-afd9458d5850",
   "metadata": {},
   "outputs": [],
   "source": [
    "dic = create_dictionary_from_json(jsons)"
   ]
  },
  {
   "cell_type": "code",
   "execution_count": 81,
   "id": "a0e1827b-dda6-459a-8543-2a3adfe8327d",
   "metadata": {},
   "outputs": [],
   "source": [
    "df = create_dataframe_from_dictionaries(dic)"
   ]
  },
  {
   "cell_type": "code",
   "execution_count": 82,
   "id": "76ea907f-8794-4b44-bfbc-541f3f49f6c9",
   "metadata": {},
   "outputs": [],
   "source": [
    "df = df.assign(CityCountry = \"FF\")"
   ]
  },
  {
   "cell_type": "code",
   "execution_count": 83,
   "id": "fe50bf9b-8a58-4c25-a4d8-aff32d2c3140",
   "metadata": {},
   "outputs": [],
   "source": [
    "df[\"Arrival (Local time)\"] = pd.to_datetime(df[\"Arrival (Local time)\"])"
   ]
  },
  {
   "cell_type": "code",
   "execution_count": 85,
   "id": "961308db-b09c-422b-b990-98861fcaf360",
   "metadata": {},
   "outputs": [
    {
     "data": {
      "text/html": [
       "<div>\n",
       "<style scoped>\n",
       "    .dataframe tbody tr th:only-of-type {\n",
       "        vertical-align: middle;\n",
       "    }\n",
       "\n",
       "    .dataframe tbody tr th {\n",
       "        vertical-align: top;\n",
       "    }\n",
       "\n",
       "    .dataframe thead th {\n",
       "        text-align: right;\n",
       "    }\n",
       "</style>\n",
       "<table border=\"1\" class=\"dataframe\">\n",
       "  <thead>\n",
       "    <tr style=\"text-align: right;\">\n",
       "      <th></th>\n",
       "      <th>From</th>\n",
       "      <th>Arrival (Local time)</th>\n",
       "      <th>Arrival (UTC time)</th>\n",
       "      <th>Terminal</th>\n",
       "      <th>Airline</th>\n",
       "      <th>Flight number</th>\n",
       "      <th>Aircraft model</th>\n",
       "      <th>CityCountry</th>\n",
       "    </tr>\n",
       "  </thead>\n",
       "  <tbody>\n",
       "    <tr>\n",
       "      <th>0</th>\n",
       "      <td>Moscow</td>\n",
       "      <td>2021-11-27 01:35:00</td>\n",
       "      <td>2021-11-26 22:35</td>\n",
       "      <td>Unknown</td>\n",
       "      <td>Aeroflot</td>\n",
       "      <td>SU 2134</td>\n",
       "      <td>Airbus A321</td>\n",
       "      <td>FF</td>\n",
       "    </tr>\n",
       "    <tr>\n",
       "      <th>1</th>\n",
       "      <td>Cape Town</td>\n",
       "      <td>2021-11-27 05:35:00</td>\n",
       "      <td>2021-11-27 02:35</td>\n",
       "      <td>Unknown</td>\n",
       "      <td>Turkish</td>\n",
       "      <td>TK 45</td>\n",
       "      <td>Airbus A330-300</td>\n",
       "      <td>FF</td>\n",
       "    </tr>\n",
       "    <tr>\n",
       "      <th>2</th>\n",
       "      <td>Nur-Sultan (Astana)</td>\n",
       "      <td>2021-11-27 06:10:00</td>\n",
       "      <td>2021-11-27 03:10</td>\n",
       "      <td>Unknown</td>\n",
       "      <td>Turkish</td>\n",
       "      <td>TK 355</td>\n",
       "      <td>Boeing 737-800</td>\n",
       "      <td>FF</td>\n",
       "    </tr>\n",
       "    <tr>\n",
       "      <th>3</th>\n",
       "      <td>Istanbul</td>\n",
       "      <td>2021-11-27 06:35:00</td>\n",
       "      <td>2021-11-27 03:35</td>\n",
       "      <td>Unknown</td>\n",
       "      <td>Turkish</td>\n",
       "      <td>TK 583</td>\n",
       "      <td>Airbus A330-200</td>\n",
       "      <td>FF</td>\n",
       "    </tr>\n",
       "    <tr>\n",
       "      <th>4</th>\n",
       "      <td>Muscat</td>\n",
       "      <td>2021-11-27 06:05:00</td>\n",
       "      <td>2021-11-27 03:05</td>\n",
       "      <td>Unknown</td>\n",
       "      <td>Turkish</td>\n",
       "      <td>TK 775</td>\n",
       "      <td>Boeing 737</td>\n",
       "      <td>FF</td>\n",
       "    </tr>\n",
       "    <tr>\n",
       "      <th>...</th>\n",
       "      <td>...</td>\n",
       "      <td>...</td>\n",
       "      <td>...</td>\n",
       "      <td>...</td>\n",
       "      <td>...</td>\n",
       "      <td>...</td>\n",
       "      <td>...</td>\n",
       "      <td>...</td>\n",
       "    </tr>\n",
       "    <tr>\n",
       "      <th>424</th>\n",
       "      <td>Tashkent</td>\n",
       "      <td>2021-11-27 20:10:00</td>\n",
       "      <td>2021-11-27 17:10</td>\n",
       "      <td>Unknown</td>\n",
       "      <td>Uzbekistan Airways</td>\n",
       "      <td>HY 273</td>\n",
       "      <td>Boeing 787</td>\n",
       "      <td>FF</td>\n",
       "    </tr>\n",
       "    <tr>\n",
       "      <th>425</th>\n",
       "      <td>Moscow</td>\n",
       "      <td>2021-11-27 16:00:00</td>\n",
       "      <td>2021-11-27 13:00</td>\n",
       "      <td>Unknown</td>\n",
       "      <td>Turkish</td>\n",
       "      <td>TK 414</td>\n",
       "      <td>Airbus A321</td>\n",
       "      <td>FF</td>\n",
       "    </tr>\n",
       "    <tr>\n",
       "      <th>426</th>\n",
       "      <td>Moscow</td>\n",
       "      <td>2021-11-27 19:45:00</td>\n",
       "      <td>2021-11-27 16:45</td>\n",
       "      <td>Unknown</td>\n",
       "      <td>Turkish</td>\n",
       "      <td>TK 418</td>\n",
       "      <td>Airbus A321</td>\n",
       "      <td>FF</td>\n",
       "    </tr>\n",
       "    <tr>\n",
       "      <th>427</th>\n",
       "      <td>Ufa</td>\n",
       "      <td>2021-11-27 15:30:00</td>\n",
       "      <td>2021-11-27 12:30</td>\n",
       "      <td>Unknown</td>\n",
       "      <td>Pobeda</td>\n",
       "      <td>DP 977</td>\n",
       "      <td>Boeing 737-800</td>\n",
       "      <td>FF</td>\n",
       "    </tr>\n",
       "    <tr>\n",
       "      <th>428</th>\n",
       "      <td>Dhaka</td>\n",
       "      <td>2021-11-27 12:55:00</td>\n",
       "      <td>2021-11-27 09:55</td>\n",
       "      <td>Unknown</td>\n",
       "      <td>Turkish</td>\n",
       "      <td>TK 713</td>\n",
       "      <td>Airbus A330-300</td>\n",
       "      <td>FF</td>\n",
       "    </tr>\n",
       "  </tbody>\n",
       "</table>\n",
       "<p>429 rows × 8 columns</p>\n",
       "</div>"
      ],
      "text/plain": [
       "                    From Arrival (Local time) Arrival (UTC time) Terminal  \\\n",
       "0                 Moscow  2021-11-27 01:35:00   2021-11-26 22:35  Unknown   \n",
       "1              Cape Town  2021-11-27 05:35:00   2021-11-27 02:35  Unknown   \n",
       "2    Nur-Sultan (Astana)  2021-11-27 06:10:00   2021-11-27 03:10  Unknown   \n",
       "3               Istanbul  2021-11-27 06:35:00   2021-11-27 03:35  Unknown   \n",
       "4                 Muscat  2021-11-27 06:05:00   2021-11-27 03:05  Unknown   \n",
       "..                   ...                  ...                ...      ...   \n",
       "424             Tashkent  2021-11-27 20:10:00   2021-11-27 17:10  Unknown   \n",
       "425               Moscow  2021-11-27 16:00:00   2021-11-27 13:00  Unknown   \n",
       "426               Moscow  2021-11-27 19:45:00   2021-11-27 16:45  Unknown   \n",
       "427                  Ufa  2021-11-27 15:30:00   2021-11-27 12:30  Unknown   \n",
       "428                Dhaka  2021-11-27 12:55:00   2021-11-27 09:55  Unknown   \n",
       "\n",
       "                Airline Flight number   Aircraft model CityCountry  \n",
       "0              Aeroflot       SU 2134      Airbus A321          FF  \n",
       "1               Turkish         TK 45  Airbus A330-300          FF  \n",
       "2               Turkish        TK 355   Boeing 737-800          FF  \n",
       "3               Turkish        TK 583  Airbus A330-200          FF  \n",
       "4               Turkish        TK 775       Boeing 737          FF  \n",
       "..                  ...           ...              ...         ...  \n",
       "424  Uzbekistan Airways        HY 273       Boeing 787          FF  \n",
       "425             Turkish        TK 414      Airbus A321          FF  \n",
       "426             Turkish        TK 418      Airbus A321          FF  \n",
       "427              Pobeda        DP 977   Boeing 737-800          FF  \n",
       "428             Turkish        TK 713  Airbus A330-300          FF  \n",
       "\n",
       "[429 rows x 8 columns]"
      ]
     },
     "execution_count": 85,
     "metadata": {},
     "output_type": "execute_result"
    }
   ],
   "source": [
    "df"
   ]
  },
  {
   "cell_type": "code",
   "execution_count": 63,
   "id": "b71cc8fe-5fdf-40c5-96f5-3227606c5a56",
   "metadata": {},
   "outputs": [],
   "source": [
    "big_data = pd.DataFrame()"
   ]
  },
  {
   "cell_type": "code",
   "execution_count": 64,
   "id": "7face7a2-06e7-48e4-8e2e-aebb8d8e8954",
   "metadata": {},
   "outputs": [],
   "source": [
    "big_data = big_data.append(df,ignore_index=True)"
   ]
  },
  {
   "cell_type": "code",
   "execution_count": 65,
   "id": "e24202df-a9d9-4bb9-bbcd-b0609fd5d750",
   "metadata": {},
   "outputs": [
    {
     "data": {
      "text/html": [
       "<div>\n",
       "<style scoped>\n",
       "    .dataframe tbody tr th:only-of-type {\n",
       "        vertical-align: middle;\n",
       "    }\n",
       "\n",
       "    .dataframe tbody tr th {\n",
       "        vertical-align: top;\n",
       "    }\n",
       "\n",
       "    .dataframe thead th {\n",
       "        text-align: right;\n",
       "    }\n",
       "</style>\n",
       "<table border=\"1\" class=\"dataframe\">\n",
       "  <thead>\n",
       "    <tr style=\"text-align: right;\">\n",
       "      <th></th>\n",
       "      <th>From</th>\n",
       "      <th>Arrival (Local time)</th>\n",
       "      <th>Arrival (UTC time)</th>\n",
       "      <th>Terminal</th>\n",
       "      <th>Airline</th>\n",
       "      <th>Flight number</th>\n",
       "      <th>Aircraft model</th>\n",
       "      <th>CityCountry</th>\n",
       "    </tr>\n",
       "  </thead>\n",
       "  <tbody>\n",
       "    <tr>\n",
       "      <th>0</th>\n",
       "      <td>Moscow</td>\n",
       "      <td>2021-11-27 01:35</td>\n",
       "      <td>2021-11-26 22:35</td>\n",
       "      <td>Unknown</td>\n",
       "      <td>Aeroflot</td>\n",
       "      <td>SU 2134</td>\n",
       "      <td>Airbus A321</td>\n",
       "      <td>FF</td>\n",
       "    </tr>\n",
       "    <tr>\n",
       "      <th>1</th>\n",
       "      <td>Cape Town</td>\n",
       "      <td>2021-11-27 05:35</td>\n",
       "      <td>2021-11-27 02:35</td>\n",
       "      <td>Unknown</td>\n",
       "      <td>Turkish</td>\n",
       "      <td>TK 45</td>\n",
       "      <td>Airbus A330-300</td>\n",
       "      <td>FF</td>\n",
       "    </tr>\n",
       "    <tr>\n",
       "      <th>2</th>\n",
       "      <td>Nur-Sultan (Astana)</td>\n",
       "      <td>2021-11-27 06:10</td>\n",
       "      <td>2021-11-27 03:10</td>\n",
       "      <td>Unknown</td>\n",
       "      <td>Turkish</td>\n",
       "      <td>TK 355</td>\n",
       "      <td>Boeing 737-800</td>\n",
       "      <td>FF</td>\n",
       "    </tr>\n",
       "    <tr>\n",
       "      <th>3</th>\n",
       "      <td>Istanbul</td>\n",
       "      <td>2021-11-27 06:35</td>\n",
       "      <td>2021-11-27 03:35</td>\n",
       "      <td>Unknown</td>\n",
       "      <td>Turkish</td>\n",
       "      <td>TK 583</td>\n",
       "      <td>Airbus A330-200</td>\n",
       "      <td>FF</td>\n",
       "    </tr>\n",
       "    <tr>\n",
       "      <th>4</th>\n",
       "      <td>Muscat</td>\n",
       "      <td>2021-11-27 06:05</td>\n",
       "      <td>2021-11-27 03:05</td>\n",
       "      <td>Unknown</td>\n",
       "      <td>Turkish</td>\n",
       "      <td>TK 775</td>\n",
       "      <td>Boeing 737</td>\n",
       "      <td>FF</td>\n",
       "    </tr>\n",
       "    <tr>\n",
       "      <th>...</th>\n",
       "      <td>...</td>\n",
       "      <td>...</td>\n",
       "      <td>...</td>\n",
       "      <td>...</td>\n",
       "      <td>...</td>\n",
       "      <td>...</td>\n",
       "      <td>...</td>\n",
       "      <td>...</td>\n",
       "    </tr>\n",
       "    <tr>\n",
       "      <th>424</th>\n",
       "      <td>Tashkent</td>\n",
       "      <td>2021-11-27 20:10</td>\n",
       "      <td>2021-11-27 17:10</td>\n",
       "      <td>Unknown</td>\n",
       "      <td>Uzbekistan Airways</td>\n",
       "      <td>HY 273</td>\n",
       "      <td>Boeing 787</td>\n",
       "      <td>FF</td>\n",
       "    </tr>\n",
       "    <tr>\n",
       "      <th>425</th>\n",
       "      <td>Moscow</td>\n",
       "      <td>2021-11-27 16:00</td>\n",
       "      <td>2021-11-27 13:00</td>\n",
       "      <td>Unknown</td>\n",
       "      <td>Turkish</td>\n",
       "      <td>TK 414</td>\n",
       "      <td>Airbus A321</td>\n",
       "      <td>FF</td>\n",
       "    </tr>\n",
       "    <tr>\n",
       "      <th>426</th>\n",
       "      <td>Moscow</td>\n",
       "      <td>2021-11-27 19:45</td>\n",
       "      <td>2021-11-27 16:45</td>\n",
       "      <td>Unknown</td>\n",
       "      <td>Turkish</td>\n",
       "      <td>TK 418</td>\n",
       "      <td>Airbus A321</td>\n",
       "      <td>FF</td>\n",
       "    </tr>\n",
       "    <tr>\n",
       "      <th>427</th>\n",
       "      <td>Ufa</td>\n",
       "      <td>2021-11-27 15:30</td>\n",
       "      <td>2021-11-27 12:30</td>\n",
       "      <td>Unknown</td>\n",
       "      <td>Pobeda</td>\n",
       "      <td>DP 977</td>\n",
       "      <td>Boeing 737-800</td>\n",
       "      <td>FF</td>\n",
       "    </tr>\n",
       "    <tr>\n",
       "      <th>428</th>\n",
       "      <td>Dhaka</td>\n",
       "      <td>2021-11-27 12:55</td>\n",
       "      <td>2021-11-27 09:55</td>\n",
       "      <td>Unknown</td>\n",
       "      <td>Turkish</td>\n",
       "      <td>TK 713</td>\n",
       "      <td>Airbus A330-300</td>\n",
       "      <td>FF</td>\n",
       "    </tr>\n",
       "  </tbody>\n",
       "</table>\n",
       "<p>429 rows × 8 columns</p>\n",
       "</div>"
      ],
      "text/plain": [
       "                    From Arrival (Local time) Arrival (UTC time) Terminal  \\\n",
       "0                 Moscow     2021-11-27 01:35   2021-11-26 22:35  Unknown   \n",
       "1              Cape Town     2021-11-27 05:35   2021-11-27 02:35  Unknown   \n",
       "2    Nur-Sultan (Astana)     2021-11-27 06:10   2021-11-27 03:10  Unknown   \n",
       "3               Istanbul     2021-11-27 06:35   2021-11-27 03:35  Unknown   \n",
       "4                 Muscat     2021-11-27 06:05   2021-11-27 03:05  Unknown   \n",
       "..                   ...                  ...                ...      ...   \n",
       "424             Tashkent     2021-11-27 20:10   2021-11-27 17:10  Unknown   \n",
       "425               Moscow     2021-11-27 16:00   2021-11-27 13:00  Unknown   \n",
       "426               Moscow     2021-11-27 19:45   2021-11-27 16:45  Unknown   \n",
       "427                  Ufa     2021-11-27 15:30   2021-11-27 12:30  Unknown   \n",
       "428                Dhaka     2021-11-27 12:55   2021-11-27 09:55  Unknown   \n",
       "\n",
       "                Airline Flight number   Aircraft model CityCountry  \n",
       "0              Aeroflot       SU 2134      Airbus A321          FF  \n",
       "1               Turkish         TK 45  Airbus A330-300          FF  \n",
       "2               Turkish        TK 355   Boeing 737-800          FF  \n",
       "3               Turkish        TK 583  Airbus A330-200          FF  \n",
       "4               Turkish        TK 775       Boeing 737          FF  \n",
       "..                  ...           ...              ...         ...  \n",
       "424  Uzbekistan Airways        HY 273       Boeing 787          FF  \n",
       "425             Turkish        TK 414      Airbus A321          FF  \n",
       "426             Turkish        TK 418      Airbus A321          FF  \n",
       "427              Pobeda        DP 977   Boeing 737-800          FF  \n",
       "428             Turkish        TK 713  Airbus A330-300          FF  \n",
       "\n",
       "[429 rows x 8 columns]"
      ]
     },
     "execution_count": 65,
     "metadata": {},
     "output_type": "execute_result"
    }
   ],
   "source": [
    "big_data"
   ]
  },
  {
   "cell_type": "code",
   "execution_count": null,
   "id": "efdaa68a-fe19-448c-be83-af33b4c7353f",
   "metadata": {},
   "outputs": [],
   "source": []
  },
  {
   "cell_type": "code",
   "execution_count": 3,
   "id": "d743c168-dd95-49b1-bec7-2d302e157539",
   "metadata": {},
   "outputs": [],
   "source": [
    "def get_jsons_from_AerodataboxAPI(icao):\n",
    "    today = datetime.date.today()\n",
    "    tomorrow = str(today + datetime.timedelta(days=1))\n",
    "    \n",
    "    times = [[\"00:00\",\"11:59\"],[\"12:00\",\"23:59\"]]\n",
    "    jsons = []\n",
    "    for time in times:\n",
    "        url = f\"https://aerodatabox.p.rapidapi.com/flights/airports/icao/{icao}/{tomorrow}T{time[0]}/{tomorrow}T{time[1]}\"\n",
    "\n",
    "        querystring = {\"withLeg\":\"true\",\"direction\":\"Arrival\",\"withCancelled\":\"false\",\"withCodeshared\":\"true\",\"withCargo\":\"false\",\"withPrivate\":\"false\",\"withLocation\":\"false\"}\n",
    "\n",
    "        headers = {\n",
    "            'x-rapidapi-host': \"aerodatabox.p.rapidapi.com\",\n",
    "            'x-rapidapi-key': API_keys.Airports_key\n",
    "            }\n",
    "\n",
    "        jsons.append(requests.request(\"GET\", url, headers=headers, params=querystring).json())\n",
    "    return jsons"
   ]
  },
  {
   "cell_type": "code",
   "execution_count": 8,
   "id": "52d93133-5d6a-4c1e-8d20-49ef36fb50f3",
   "metadata": {},
   "outputs": [],
   "source": [
    "def create_dictionary_from_json(jsons):\n",
    "    dictionary = {\"From_city\":[],\"Arrival_Local_time\":[], \"Arrival_UTC_time\":[],\"Terminal\":[],\"Airline\":[],\"Flight_number\":[],\"Aircraft_model\":[]}\n",
    "    for j in jsons:\n",
    "        for flight in j['arrivals']:\n",
    "            try:\n",
    "                dictionary[\"From_city\"].append(flight['departure'][\"airport\"]['name'])\n",
    "            except:\n",
    "                dictionary[\"From_city\"].append(\"Unknown\")\n",
    "            try:\n",
    "                dictionary[\"Arrival_Local_time\"].append(flight['arrival'][\"scheduledTimeLocal\"][:-6])\n",
    "            except:\n",
    "                dictionary[\"Arrival_Local_time\"].append(\"Unknown\")\n",
    "            try:\n",
    "                dictionary[\"Arrival_UTC_time\"].append(flight['arrival'][\"scheduledTimeUtc\"][:-1])\n",
    "            except:\n",
    "                dictionary[\"Arrival_UTC_time\"].append(\"Unknown\")\n",
    "            try:\n",
    "                dictionary[\"Terminal\"].append(flight['arrival'][\"terminal\"])\n",
    "            except:\n",
    "                dictionary[\"Terminal\"].append(\"Unknown\")\n",
    "            try:\n",
    "                dictionary[\"Airline\"].append(flight['airline'][\"name\"])\n",
    "            except:\n",
    "                dictionary[\"Airline\"].append(\"Unknown\")\n",
    "            try:\n",
    "                dictionary[\"Flight_number\"].append(flight['number'])\n",
    "            except:\n",
    "                dictionary[\"Flight_number\"].append(\"Unknown\")\n",
    "            try:\n",
    "                dictionary[\"Aircraft_model\"].append(flight['aircraft'][\"model\"])\n",
    "            except:\n",
    "                dictionary[\"Aircraft_model\"].append(\"Unknown\")\n",
    "    return dictionary"
   ]
  },
  {
   "cell_type": "code",
   "execution_count": 9,
   "id": "8768e809-d052-4e80-96e2-2507ce99327a",
   "metadata": {},
   "outputs": [],
   "source": [
    "def create_dataframe_from_dictionaries(dictionary):\n",
    "    flights = pd.DataFrame.from_dict(dictionary)\n",
    "    return flights"
   ]
  },
  {
   "cell_type": "code",
   "execution_count": 10,
   "id": "7513a440-6de4-4359-a7c6-e62d2d18fb84",
   "metadata": {},
   "outputs": [],
   "source": [
    "def get_all_info(cities):\n",
    "    big_table = pd.DataFrame()\n",
    "    for index, city in cities.iterrows():\n",
    "        jsons = get_jsons_from_AerodataboxAPI(city['icao'])\n",
    "        dictionary = create_dictionary_from_json(jsons)\n",
    "        dataframe = create_dataframe_from_dictionaries(dictionary)\n",
    "        dataframe = dataframe.assign(CityCountry = city['CityCountry'])\n",
    "        dataframe = dataframe.assign(icao = city['icao'])\n",
    "        dataframe[\"Arrival_Local_time\"] = pd.to_datetime(dataframe[\"Arrival_Local_time\"])\n",
    "        dataframe[\"Arrival_UTC_time\"] = pd.to_datetime(dataframe[\"Arrival_UTC_time\"])\n",
    "    big_table = big_table.append(dataframe,ignore_index=True)\n",
    "    return big_table"
   ]
  },
  {
   "cell_type": "code",
   "execution_count": 11,
   "id": "dc05695b-6d3f-42a8-abe2-e719b8057668",
   "metadata": {},
   "outputs": [],
   "source": [
    "big_table = get_all_info(get_cities_dataframe())"
   ]
  },
  {
   "cell_type": "code",
   "execution_count": 12,
   "id": "ee3c0e87-d5fa-4c80-9fea-5989f9b4a143",
   "metadata": {},
   "outputs": [
    {
     "data": {
      "text/html": [
       "<div>\n",
       "<style scoped>\n",
       "    .dataframe tbody tr th:only-of-type {\n",
       "        vertical-align: middle;\n",
       "    }\n",
       "\n",
       "    .dataframe tbody tr th {\n",
       "        vertical-align: top;\n",
       "    }\n",
       "\n",
       "    .dataframe thead th {\n",
       "        text-align: right;\n",
       "    }\n",
       "</style>\n",
       "<table border=\"1\" class=\"dataframe\">\n",
       "  <thead>\n",
       "    <tr style=\"text-align: right;\">\n",
       "      <th></th>\n",
       "      <th>From_city</th>\n",
       "      <th>Arrival_Local_time</th>\n",
       "      <th>Arrival_UTC_time</th>\n",
       "      <th>Terminal</th>\n",
       "      <th>Airline</th>\n",
       "      <th>Flight_number</th>\n",
       "      <th>Aircraft_model</th>\n",
       "      <th>CityCountry</th>\n",
       "      <th>icao</th>\n",
       "    </tr>\n",
       "  </thead>\n",
       "  <tbody>\n",
       "    <tr>\n",
       "      <th>0</th>\n",
       "      <td>Málaga</td>\n",
       "      <td>2021-11-27 00:05:00</td>\n",
       "      <td>2021-11-26 21:05:00</td>\n",
       "      <td>Unknown</td>\n",
       "      <td>Turkish</td>\n",
       "      <td>TK 1304</td>\n",
       "      <td>Airbus A321</td>\n",
       "      <td>Istanbul, TR</td>\n",
       "      <td>LTFM</td>\n",
       "    </tr>\n",
       "    <tr>\n",
       "      <th>1</th>\n",
       "      <td>Bucharest</td>\n",
       "      <td>2021-11-27 00:05:00</td>\n",
       "      <td>2021-11-26 21:05:00</td>\n",
       "      <td>Unknown</td>\n",
       "      <td>Turkish</td>\n",
       "      <td>TK 1046</td>\n",
       "      <td>Airbus A321</td>\n",
       "      <td>Istanbul, TR</td>\n",
       "      <td>LTFM</td>\n",
       "    </tr>\n",
       "    <tr>\n",
       "      <th>2</th>\n",
       "      <td>Skopje</td>\n",
       "      <td>2021-11-27 00:10:00</td>\n",
       "      <td>2021-11-26 21:10:00</td>\n",
       "      <td>Unknown</td>\n",
       "      <td>Turkish</td>\n",
       "      <td>TK 1006</td>\n",
       "      <td>Boeing 737-800</td>\n",
       "      <td>Istanbul, TR</td>\n",
       "      <td>LTFM</td>\n",
       "    </tr>\n",
       "    <tr>\n",
       "      <th>3</th>\n",
       "      <td>Paris</td>\n",
       "      <td>2021-11-27 00:10:00</td>\n",
       "      <td>2021-11-26 21:10:00</td>\n",
       "      <td>Unknown</td>\n",
       "      <td>Turkish</td>\n",
       "      <td>TK 1828</td>\n",
       "      <td>Airbus A330-300</td>\n",
       "      <td>Istanbul, TR</td>\n",
       "      <td>LTFM</td>\n",
       "    </tr>\n",
       "    <tr>\n",
       "      <th>4</th>\n",
       "      <td>Athens</td>\n",
       "      <td>2021-11-27 00:10:00</td>\n",
       "      <td>2021-11-26 21:10:00</td>\n",
       "      <td>Unknown</td>\n",
       "      <td>Turkish</td>\n",
       "      <td>TK 1844</td>\n",
       "      <td>Airbus A321</td>\n",
       "      <td>Istanbul, TR</td>\n",
       "      <td>LTFM</td>\n",
       "    </tr>\n",
       "    <tr>\n",
       "      <th>...</th>\n",
       "      <td>...</td>\n",
       "      <td>...</td>\n",
       "      <td>...</td>\n",
       "      <td>...</td>\n",
       "      <td>...</td>\n",
       "      <td>...</td>\n",
       "      <td>...</td>\n",
       "      <td>...</td>\n",
       "      <td>...</td>\n",
       "    </tr>\n",
       "    <tr>\n",
       "      <th>424</th>\n",
       "      <td>İzmir</td>\n",
       "      <td>2021-11-27 23:50:00</td>\n",
       "      <td>2021-11-27 20:50:00</td>\n",
       "      <td>Unknown</td>\n",
       "      <td>Turkish</td>\n",
       "      <td>TK 2337</td>\n",
       "      <td>Boeing 777-300ER</td>\n",
       "      <td>Istanbul, TR</td>\n",
       "      <td>LTFM</td>\n",
       "    </tr>\n",
       "    <tr>\n",
       "      <th>425</th>\n",
       "      <td>Belgrade</td>\n",
       "      <td>2021-11-27 23:55:00</td>\n",
       "      <td>2021-11-27 20:55:00</td>\n",
       "      <td>Unknown</td>\n",
       "      <td>Turkish</td>\n",
       "      <td>TK 1084</td>\n",
       "      <td>Boeing 737</td>\n",
       "      <td>Istanbul, TR</td>\n",
       "      <td>LTFM</td>\n",
       "    </tr>\n",
       "    <tr>\n",
       "      <th>426</th>\n",
       "      <td>Hatay</td>\n",
       "      <td>2021-11-27 23:55:00</td>\n",
       "      <td>2021-11-27 20:55:00</td>\n",
       "      <td>Unknown</td>\n",
       "      <td>Turkish</td>\n",
       "      <td>TK 2255</td>\n",
       "      <td>Airbus A321</td>\n",
       "      <td>Istanbul, TR</td>\n",
       "      <td>LTFM</td>\n",
       "    </tr>\n",
       "    <tr>\n",
       "      <th>427</th>\n",
       "      <td>Baku</td>\n",
       "      <td>2021-11-27 23:55:00</td>\n",
       "      <td>2021-11-27 20:55:00</td>\n",
       "      <td>Unknown</td>\n",
       "      <td>Turkish</td>\n",
       "      <td>TK 335</td>\n",
       "      <td>Airbus A321</td>\n",
       "      <td>Istanbul, TR</td>\n",
       "      <td>LTFM</td>\n",
       "    </tr>\n",
       "    <tr>\n",
       "      <th>428</th>\n",
       "      <td>Aktyuinsk</td>\n",
       "      <td>2021-11-27 23:59:00</td>\n",
       "      <td>2021-11-27 20:59:00</td>\n",
       "      <td>Unknown</td>\n",
       "      <td>SCAT</td>\n",
       "      <td>DV 495</td>\n",
       "      <td>Boeing 737</td>\n",
       "      <td>Istanbul, TR</td>\n",
       "      <td>LTFM</td>\n",
       "    </tr>\n",
       "  </tbody>\n",
       "</table>\n",
       "<p>429 rows × 9 columns</p>\n",
       "</div>"
      ],
      "text/plain": [
       "     From_city  Arrival_Local_time    Arrival_UTC_time Terminal  Airline  \\\n",
       "0       Málaga 2021-11-27 00:05:00 2021-11-26 21:05:00  Unknown  Turkish   \n",
       "1    Bucharest 2021-11-27 00:05:00 2021-11-26 21:05:00  Unknown  Turkish   \n",
       "2       Skopje 2021-11-27 00:10:00 2021-11-26 21:10:00  Unknown  Turkish   \n",
       "3        Paris 2021-11-27 00:10:00 2021-11-26 21:10:00  Unknown  Turkish   \n",
       "4       Athens 2021-11-27 00:10:00 2021-11-26 21:10:00  Unknown  Turkish   \n",
       "..         ...                 ...                 ...      ...      ...   \n",
       "424      İzmir 2021-11-27 23:50:00 2021-11-27 20:50:00  Unknown  Turkish   \n",
       "425   Belgrade 2021-11-27 23:55:00 2021-11-27 20:55:00  Unknown  Turkish   \n",
       "426      Hatay 2021-11-27 23:55:00 2021-11-27 20:55:00  Unknown  Turkish   \n",
       "427       Baku 2021-11-27 23:55:00 2021-11-27 20:55:00  Unknown  Turkish   \n",
       "428  Aktyuinsk 2021-11-27 23:59:00 2021-11-27 20:59:00  Unknown     SCAT   \n",
       "\n",
       "    Flight_number    Aircraft_model   CityCountry  icao  \n",
       "0         TK 1304       Airbus A321  Istanbul, TR  LTFM  \n",
       "1         TK 1046       Airbus A321  Istanbul, TR  LTFM  \n",
       "2         TK 1006    Boeing 737-800  Istanbul, TR  LTFM  \n",
       "3         TK 1828   Airbus A330-300  Istanbul, TR  LTFM  \n",
       "4         TK 1844       Airbus A321  Istanbul, TR  LTFM  \n",
       "..            ...               ...           ...   ...  \n",
       "424       TK 2337  Boeing 777-300ER  Istanbul, TR  LTFM  \n",
       "425       TK 1084        Boeing 737  Istanbul, TR  LTFM  \n",
       "426       TK 2255       Airbus A321  Istanbul, TR  LTFM  \n",
       "427        TK 335       Airbus A321  Istanbul, TR  LTFM  \n",
       "428        DV 495        Boeing 737  Istanbul, TR  LTFM  \n",
       "\n",
       "[429 rows x 9 columns]"
      ]
     },
     "execution_count": 12,
     "metadata": {},
     "output_type": "execute_result"
    }
   ],
   "source": [
    "big_table"
   ]
  },
  {
   "cell_type": "code",
   "execution_count": 17,
   "id": "c624a501-7fc0-413b-b655-ceb49e22c165",
   "metadata": {},
   "outputs": [],
   "source": [
    "def create_mysql_table(big_table):\n",
    "    schema=\"gans\"\n",
    "    host=\"127.0.0.1\"\n",
    "    user=\"root\"\n",
    "    password=API_keys.mysqlPassword\n",
    "    port=3306\n",
    "    con = f'mysql+pymysql://{user}:{password}@{host}:{port}/{schema}'\n",
    "    big_table.to_sql('flights',con=con,if_exists='append',index=False)"
   ]
  },
  {
   "cell_type": "code",
   "execution_count": 19,
   "id": "cacba498-66bc-46f4-a598-24657e7da390",
   "metadata": {},
   "outputs": [],
   "source": [
    "create_mysql_table(big_table)"
   ]
  },
  {
   "cell_type": "markdown",
   "id": "15febeaa-3a13-4223-ada0-f57d74e5eb3d",
   "metadata": {},
   "source": [
    "## Create pipeline"
   ]
  },
  {
   "cell_type": "code",
   "execution_count": null,
   "id": "43cb365a-2d60-4c47-9663-dae36b1cb3b0",
   "metadata": {},
   "outputs": [],
   "source": [
    "p = (get_cities_dataframe()\n",
    "     .pipe(clean_unit_price)\n",
    "     .pipe(tofloat,col_to_float)\n",
    "     .pipe(change_col_name,old,new)\n",
    "     .pipe(delete_orderlines_not_in_orders)\n",
    "     .pipe(create_total_sum)\n",
    "     .pipe(deleting_outliers,orders)\n",
    ")"
   ]
  }
 ],
 "metadata": {
  "kernelspec": {
   "display_name": "Python 3",
   "language": "python",
   "name": "python3"
  },
  "language_info": {
   "codemirror_mode": {
    "name": "ipython",
    "version": 3
   },
   "file_extension": ".py",
   "mimetype": "text/x-python",
   "name": "python",
   "nbconvert_exporter": "python",
   "pygments_lexer": "ipython3",
   "version": "3.8.8"
  }
 },
 "nbformat": 4,
 "nbformat_minor": 5
}
