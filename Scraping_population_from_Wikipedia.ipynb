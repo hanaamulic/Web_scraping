{
 "cells": [
  {
   "cell_type": "code",
   "execution_count": 263,
   "id": "8752b714-6f3f-457c-be56-974f660d4b89",
   "metadata": {},
   "outputs": [],
   "source": [
    "# 1. import libraries\n",
    "from bs4 import BeautifulSoup\n",
    "import requests\n",
    "import pandas as pd\n",
    "import re\n",
    "import time"
   ]
  },
  {
   "cell_type": "code",
   "execution_count": 304,
   "id": "0ff0cc97-80e8-4c28-8058-d315256e4966",
   "metadata": {},
   "outputs": [],
   "source": [
    "def get_city_population(city):\n",
    "    url = (\"https://en.wikipedia.org/wiki/\"+city) \n",
    "    response = requests.get(url)\n",
    "    time.sleep(2)   #quick solution - I just added this in case of slow internet, it should be tested for 200 code but for this, it's okay\n",
    "    soup = BeautifulSoup(response.content, \"html.parser\")\n",
    "    table_string = soup.find(text=re.compile('^Population\\Z')) #Looking for any text between any tags (I used \\Z for end of string because $ includes \\n (end of line) too)\n",
    "    parent = table_string.find_parent('tr') #data that we need is in several 'tr' elements that are siblings, and the string we found is child of the first one of those elements (that's why i am looking for it's parent)\n",
    "    description = []\n",
    "    population = []\n",
    "    population_string = parent.get_text(\"|\",strip='True') # First 'tr' always contains 'Population' string, I've added | as separator for easier splitting since some contain only \n",
    "                                                            #'Population', some have '[2]' as reference, some have actual number for population and it always comes as last\n",
    "    description.append(population_string.split('|')[0])  #Taking first element after split will give me 'Population' string\n",
    "    population_string2 = population_string.split('|')[-1] #Taking last element after split will give me either 'Population','[5]'-referencies or '234,567'-actual population\n",
    "    if(population_string2.startswith('[') | (population_string2 == 'Population')): #In case it gives me 'Population' or referencies\n",
    "        population.append('')             #I will just append empty string where population number should be\n",
    "    else:\n",
    "        population.append(population_string2) # If it gives me actual number, I append number\n",
    "\n",
    "    siblings = parent.next_siblings   # I am looking for all siblings of the first 'tr' element we found(the one with 'Population')\n",
    "    for sib in siblings:\n",
    "        if(sib['class'] != ['mergedrow']):    #it is a long list but we only need the few ones after our first and they all have class='mergedrow'\n",
    "            break                             #as soon as loop comes into class='mergedtoprow' it will break, as we don't need those elements\n",
    "        for ch in sib.children:               #all 'tr' elements that we found have children that contain data we need \n",
    "            if(ch['class']==['infobox-label']):                        #'th' child with class= 'infobox-label' contains Description string (e.g. City, Estimate, Rural, density...)\n",
    "                temp = ch.get_text(strip='True').replace('\\xa0',' ')   #strip=True removes all whitespaces around text. Some unnecessary '\\xa0' striings were found so I just replaced them with ''\n",
    "                temp = re.sub(r'[^a-zA-Z ]','',temp)                   #replacing all charachters that are not letters or whitespace\n",
    "                description.append(temp)                         \n",
    "            elif(ch['class']==['infobox-data']):                      #'th' child with class= 'infobox-data' contains Population string (e.g. 12,506,238 or some explanations for Ranks or density)\n",
    "                population.append(ch.get_text(strip='True').replace('\\xa0',' '))\n",
    "    population_table = pd.DataFrame({\"Description\":description,          #putting everything into table\n",
    "                       \"Population\":population\n",
    "                      })\n",
    "    return population_table                                              #returning table"
   ]
  },
  {
   "cell_type": "code",
   "execution_count": 305,
   "id": "5cbfa58b-30dc-48de-a163-f682270aa54f",
   "metadata": {},
   "outputs": [
    {
     "name": "stdout",
     "output_type": "stream",
     "text": [
      "  Description  Population\n",
      "0  Population            \n",
      "1    Estimate  12,506,468\n",
      "2        Rank         1st\n"
     ]
    }
   ],
   "source": [
    "print(get_city_population('Moscow')) #be careful with cities that have more than one word(should have _ between)"
   ]
  }
 ],
 "metadata": {
  "kernelspec": {
   "display_name": "Python 3",
   "language": "python",
   "name": "python3"
  },
  "language_info": {
   "codemirror_mode": {
    "name": "ipython",
    "version": 3
   },
   "file_extension": ".py",
   "mimetype": "text/x-python",
   "name": "python",
   "nbconvert_exporter": "python",
   "pygments_lexer": "ipython3",
   "version": "3.8.8"
  }
 },
 "nbformat": 4,
 "nbformat_minor": 5
}
